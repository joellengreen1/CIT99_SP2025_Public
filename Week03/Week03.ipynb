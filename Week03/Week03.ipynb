{
 "cells": [
  {
   "cell_type": "markdown",
   "id": "5106eede",
   "metadata": {},
   "source": [
    "# Cleaning Data\n",
    "You will be cleaning the boston housing data.  It is a real dataset; however, I have changed it to have problems with the data.  The first step in the cleaning process is to read in the dataset.  Here is some sample code help read in the data.  Please change the variables as indicated in the question.\n",
    "\n",
    "```\n",
    "import pandas as pd\n",
    "df = pd.read_csv('boston_clean.csv')\n",
    "n = 5\n",
    "df.head(n)  # display first 5 records\n",
    "```\n",
    "\n",
    "# Question #1\n",
    "1. Import the pandas library.\n",
    "2. Read the boston_clean.csv using the pd.read_csv and store it in the variable **boston**.\n",
    "3. View the first 20 records of boston"
   ]
  },
  {
   "cell_type": "code",
   "execution_count": null,
   "id": "8e60d519",
   "metadata": {},
   "outputs": [],
   "source": [
    "# Question #1\n"
   ]
  },
  {
   "cell_type": "markdown",
   "id": "b4da86ea",
   "metadata": {},
   "source": [
    "# What are the columns in your Dataframe\n",
    "You need to know how many records are in your dataframe and the data types for each feature variable.\n",
    "\n",
    "# Question 2\n",
    "1. Use the info() method to find a list of columns in your dataframe and the data types of each feature."
   ]
  },
  {
   "cell_type": "code",
   "execution_count": null,
   "id": "39e53552",
   "metadata": {},
   "outputs": [],
   "source": [
    "# Question 2\n"
   ]
  },
  {
   "cell_type": "markdown",
   "id": "1e6b25b7",
   "metadata": {},
   "source": [
    "#  Delete Columns that are of no information\n",
    "\n",
    "The Unnamed: 0 feature is of no value since it is like the record number. Use the drop() method to remove the dataframe.\n",
    "\n",
    "```\n",
    "df.drop(\"column name\", axis=1, inplace=True)  # drop a column remember you should only run this statement once.\n",
    "df.info()  # list columns in the data set.\n",
    "```\n",
    "\n",
    "# Question 3\n",
    "1. Drop the Unnamed: 0 from the dataframe.\n",
    "2. List the columns in the dataframe"
   ]
  },
  {
   "cell_type": "code",
   "execution_count": null,
   "id": "e4b42c97",
   "metadata": {},
   "outputs": [],
   "source": [
    "# Question 3\n",
    "\n"
   ]
  },
  {
   "cell_type": "markdown",
   "id": "3083eadf",
   "metadata": {},
   "source": [
    "# Duplicate Records\n",
    "\n",
    "It is a good ideal to know how many duplicate records there are.  Especially since we have such a small dataset.\n",
    "\n",
    "```\n",
    "df.drop_duplicates(inplace=True)\n",
    "```\n",
    "\n",
    "# Question 4\n",
    "    1. Determine if you have duplicate records by running the command with the boston dataframe.\n",
    "    2. View the columns using the info() method."
   ]
  },
  {
   "cell_type": "code",
   "execution_count": null,
   "id": "7c850435",
   "metadata": {},
   "outputs": [],
   "source": [
    "# Question 4\n",
    "\n"
   ]
  },
  {
   "cell_type": "markdown",
   "id": "1f69aa4d",
   "metadata": {},
   "source": [
    "# Question 5\n",
    "Are there any duplicate records in the data set?  Enter ans = 'Yes' if there are and ans= 'No' if there are not."
   ]
  },
  {
   "cell_type": "code",
   "execution_count": null,
   "id": "2496b9c8",
   "metadata": {},
   "outputs": [],
   "source": [
    "#Question 5\n",
    "ans= ''"
   ]
  },
  {
   "cell_type": "markdown",
   "id": "bf3394d8",
   "metadata": {},
   "source": [
    "# Column Data Types\n",
    "\n",
    "Given the modified Boston Housing Dataset, examine the definitions of each column.\n",
    "\n",
    "The following describes the dataset columns:\n",
    "\n",
    "- CRIM - per capita crime rate by town\n",
    "- ZN - proportion of residential land zoned for lots over 25,000 sq.ft.\n",
    "- INDUS - proportion of non-retail business acres per town.\n",
    "- CHAS - Charles River dummy variable ('River' if tract bounds river; 'Other' otherwise)\n",
    "- NOX - nitric oxides concentration (parts per 10 million)\n",
    "- RM - average number of rooms per dwelling\n",
    "- AGE - proportion of owner-occupied units built prior to 1940\n",
    "- DIS - weighted distances to five Boston employment centres\n",
    "- RAD - index of accessibility to radial highways\n",
    "- TAX - full-value property-tax rate per Ten Thousand dollars\n",
    "- PTRATIO - pupil-teacher ratio by town\n",
    "- B - 1000(Bk - 0.63)^2 where Bk is the proportion of blacks by town\n",
    "- LSTAT - percentage lower status of the population\n",
    "- MEDV - Median value of owner-occupied homes in thousands of dollars\n",
    "\n",
    "# Question 6\n",
    "1. Should the TAX column be a float?\n"
   ]
  },
  {
   "cell_type": "code",
   "execution_count": null,
   "id": "64bf505a",
   "metadata": {},
   "outputs": [],
   "source": [
    "# Question 6\n",
    "ans = ''  # TAX column should be float\n"
   ]
  },
  {
   "cell_type": "markdown",
   "id": "e6bf986d",
   "metadata": {},
   "source": [
    "# Fix the TAX column\n",
    "\n",
    "# Question 7\n",
    "1. List the unique values of the TAX column and identify the error in the column.\n",
    "2. List the records with the errror.\n",
    "3. Change the value to a correct string using the loc.\n",
    "4. Change the column to a float.\n",
    "5. Use the info() method to list the columns"
   ]
  },
  {
   "cell_type": "code",
   "execution_count": null,
   "id": "6049ea4d",
   "metadata": {},
   "outputs": [],
   "source": [
    "# Question 7 - 1)\n"
   ]
  },
  {
   "cell_type": "code",
   "execution_count": null,
   "id": "905fb31b",
   "metadata": {},
   "outputs": [],
   "source": [
    "# Question 7 - 2)\n"
   ]
  },
  {
   "cell_type": "code",
   "execution_count": null,
   "id": "f28d733a",
   "metadata": {},
   "outputs": [],
   "source": [
    "# Question 7 - 3)\n"
   ]
  },
  {
   "cell_type": "code",
   "execution_count": null,
   "id": "c0aec715",
   "metadata": {},
   "outputs": [],
   "source": [
    "# Question 7 - 4)\n"
   ]
  },
  {
   "cell_type": "code",
   "execution_count": null,
   "id": "ea8c6b5b",
   "metadata": {},
   "outputs": [],
   "source": [
    "# Question 7 - 5)\n"
   ]
  },
  {
   "cell_type": "markdown",
   "id": "fe85f8ac",
   "metadata": {},
   "source": [
    "# Examination of the numerical data\n",
    "\n",
    "# Question 8\n",
    "1. Run the describe() method for the boston dataframe. Then examine the data.\n"
   ]
  },
  {
   "cell_type": "code",
   "execution_count": null,
   "id": "a3b2ba39",
   "metadata": {},
   "outputs": [],
   "source": [
    "# Question 6\n"
   ]
  },
  {
   "cell_type": "markdown",
   "id": "c4162b0c",
   "metadata": {},
   "source": [
    "# Fixing data\n",
    "\n",
    "Review the describe table for the above features to see the following.\n",
    "- Does the minimum values seem reasonable.  What value should the number start from.g\n",
    "- Is the variance zero?  This indicates there is only one number in the column.  In this case, we should delete this column.\n",
    "- Is more than 50% of the data missing in any column?  In this case, we should consider deleting this column for lack of information.\n",
    "- Should the feature contain negative numbers?  If no, we will assume they are need to take the absolute value of the column.\n",
    "\n",
    "# Question 9\n",
    "\n",
    "1. Determine the number of records of INDUS that are negative.\n",
    "2. Change the negative values to 0.\n",
    "3. Determine the number of records of DIS that are negative.\n",
    "4. Change the negative values to 0.\n",
    "5. Use the describe() method to display the numerical numbers."
   ]
  },
  {
   "cell_type": "code",
   "execution_count": null,
   "id": "76524a4f",
   "metadata": {},
   "outputs": [],
   "source": [
    "# Question 9 1)\n"
   ]
  },
  {
   "cell_type": "code",
   "execution_count": null,
   "id": "257d05e8",
   "metadata": {},
   "outputs": [],
   "source": [
    "# Question 9 - 2)\n"
   ]
  },
  {
   "cell_type": "code",
   "execution_count": null,
   "id": "2ff07488",
   "metadata": {},
   "outputs": [],
   "source": [
    "# Question 9 - 3)\n"
   ]
  },
  {
   "cell_type": "code",
   "execution_count": null,
   "id": "d465c505",
   "metadata": {},
   "outputs": [],
   "source": [
    "# Question 9 - 4)\n"
   ]
  },
  {
   "cell_type": "code",
   "execution_count": null,
   "id": "592af5e8",
   "metadata": {},
   "outputs": [],
   "source": [
    "# Question 9 - 5)\n"
   ]
  },
  {
   "cell_type": "markdown",
   "id": "331952cd",
   "metadata": {},
   "source": [
    "# String Column\n",
    "The only string column is CHAS.\n",
    "\n",
    "\n",
    "# Question 10\n",
    "1. Determine the unique values in the CHAS column.\n"
   ]
  },
  {
   "cell_type": "code",
   "execution_count": null,
   "id": "2ed32db3",
   "metadata": {},
   "outputs": [],
   "source": [
    "# Question 10\n"
   ]
  },
  {
   "cell_type": "markdown",
   "id": "cb5d8401",
   "metadata": {},
   "source": [
    "# Create histograms for all numeric data\n",
    "\n",
    "# Question 11\n",
    "1. Create a histogram for all the numeric data."
   ]
  },
  {
   "cell_type": "code",
   "execution_count": null,
   "id": "51e28fa8",
   "metadata": {},
   "outputs": [],
   "source": [
    "# Question 11\n"
   ]
  }
 ],
 "metadata": {
  "kernelspec": {
   "display_name": "Python 3 (ipykernel)",
   "language": "python",
   "name": "python3"
  },
  "language_info": {
   "codemirror_mode": {
    "name": "ipython",
    "version": 3
   },
   "file_extension": ".py",
   "mimetype": "text/x-python",
   "name": "python",
   "nbconvert_exporter": "python",
   "pygments_lexer": "ipython3",
   "version": "3.10.11"
  }
 },
 "nbformat": 4,
 "nbformat_minor": 5
}
