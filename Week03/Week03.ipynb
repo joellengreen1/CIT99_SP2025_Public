{
 "cells": [
  {
   "cell_type": "markdown",
   "id": "7e55029d",
   "metadata": {},
   "source": [
    "# Week 3 - Cleaning data\n",
    "Eighty percent of the time you spend creating a machine learning model will be in cleaning and finding features to use to improve your model.  This week you will learn to explore your data set.\n",
    "The first step in the process will be examining the data set.  You can ask the following questions.\n",
    "\n",
    "1. Determine the target variable.  This is the variable you want to predict.\n",
    "2. Are there any missing values in the target variable?  Should we drop those records from the data set?  Theses questions should be asked of the\n",
    "   stakeholders of the project.  If you are doing a supervised machine learning project.  Then the records without target variables should be\n",
    "   eliminated.  However, if you are fitting a unsupervised model than it may not matter.\n",
    "3. Does all the records have the appropriate values in the columns?  If not, can we determine what should be in the column or will we replace\n",
    "   the value in the column?\n",
    "4. Having a subject matter expert on the predictive modeling team will be of great use when answering these question.\n",
    "5. If the model is a supervised model, is it a regression or classification model.  You can always take a regression model and change it to a \n",
    "   classification model. However, it is not easy to go the opposite direction.\n",
    "6. During the cleaning process, you will discover if there are duplicate records, data outliers, data entry errors, inconsistent data types, and \n",
    "   unbalance data sets.\n",
    "\n",
    "During this week, you will continue to work with the AirBnB data set. Using the Pandas commands below.\n",
    "\n",
    "```\n",
    "import pandas as pd\n",
    "\n",
    "airbnb = pd.read_csv(\"Airbnb_Open_Data.csv\")\n",
    "airbnb.info()\n",
    "```\n",
    "if you have an url where the file can be found, you can use the code below.\n",
    "\n",
    "```\n",
    "import pandas as pd\n",
    "\n",
    "url = 'https://media.geeksforgeeks.org/wp-content/uploads/20240729174527/Airbnb_Open_Data.csv'\n",
    "airbnb = pd.read_csv(url)\n",
    "airbnb = airbnb.drop(\"license\", axis=1)\n",
    "\n",
    "airbnb.info()\n",
    "```\n",
    "The Data Dictionary associated with the data set above can be found by clicking here.\n",
    "[Airbnb Open Data Dictionary](https://docs.google.com/spreadsheets/d/1b_dvmyhb_kAJhUmv81rAxl4KcXn0Pymz/edit?gid=1967362979#gid=1967362979 \"The AirBnb data dictionary\")\n",
    "\n",
    "# Question 1\n",
    "1. The first thing to do is to use the code above in the code cell below to read the data into a dataframe variable named airbnb. \n",
    "2. Then run the info() command above to view the columns in the data set.\n"
   ]
  },
  {
   "cell_type": "code",
   "execution_count": null,
   "id": "f495f195",
   "metadata": {},
   "outputs": [],
   "source": [
    "# Question 1\n"
   ]
  },
  {
   "cell_type": "markdown",
   "id": "8d85ab16",
   "metadata": {},
   "source": [
    "# Duplicate Records\n",
    "From the info() column list you see there are 102,599 records in the data set.  We need to know if any of them are duplicate records.  Use the Python commands below to determine the number of duplicates in the data set.\n",
    "\n",
    "```\n",
    "airbnb_mask = airbnb.duplicated()\n",
    "airBnb = airbnb.drop_duplicates()\n",
    "airBnb.info()\n",
    "```\n",
    "\n",
    "# Question 2\n",
    "1. Enter the python code found above in the code cell below and eliminate the duplicate records.\n",
    "2. and put the unique records in a dataframe named airBnb."
   ]
  },
  {
   "cell_type": "code",
   "execution_count": null,
   "id": "867f3749",
   "metadata": {},
   "outputs": [],
   "source": [
    "# Question 2"
   ]
  },
  {
   "cell_type": "markdown",
   "id": "20577990",
   "metadata": {},
   "source": [
    "# Before Splitting the Data\n",
    "Before splitting our data into training and test data sets.  We will look at the data and examine it to decide which columns to keep in the machine learning models.  Before running the model we will examine each variable and decide if the data is valuable to use in creating a machine learning model. \n",
    "<br><br>\n",
    "## Here is some questions we must answer during the cleaning process.<br>\n",
    "1. How many records are in the dataset?\n",
    "2. Identify the target variable, the column that will be predicted.  Make sure you drop any records that that adds no value to the model. \n",
    "3. Review each column and determine whether it will used in the model\n",
    "4. Determine if it is the correct data type (Dtype).\n",
    "5. Determine the unique values in the record"
   ]
  },
  {
   "cell_type": "markdown",
   "id": "e8ea232f",
   "metadata": {},
   "source": [
    "# Column Examination\n",
    "\n",
    "Let's start with the first column.  The first column is **id**.  Id represents the unique identifier that Airbnb has given the listing.  This does not column will not contribute to the price of the listing.  Therefore, we can **drop this column.**\n",
    "\n",
    "```\n",
    "airBnb.drop('id', axis=1,inplace=True)\n",
    "airBnb\n",
    "```\n",
    "\n",
    "# Question 3\n",
    "1) Using the Python command above to drop the id column."
   ]
  },
  {
   "cell_type": "code",
   "execution_count": null,
   "id": "d284a0dc",
   "metadata": {},
   "outputs": [],
   "source": [
    "# Question 3\n"
   ]
  },
  {
   "cell_type": "markdown",
   "id": "f9f0134f",
   "metadata": {},
   "source": [
    "The second column is **NAME.**  It is the name of the listing. The name is what the airBnb wants to label it.  **The uniques NAME listings and their count  can be found by the Python command below.**\n",
    "```\n",
    "airBnb[\"NAME\"].value_counts()\n",
    "```\n",
    "\n",
    "It shows that the **NAME** used the most only occurs 33 times but there is 102599 records.  The NAME does not add value to the price so we can drop it.\n",
    "\n",
    "# Question 4\n",
    "1. Using the Python command above view the contents of the NAME column.\n",
    "2. Use the drop command to get rid of the column from the airBnb data set."
   ]
  },
  {
   "cell_type": "code",
   "execution_count": null,
   "id": "944445eb",
   "metadata": {},
   "outputs": [],
   "source": [
    "# Question 4 - 1)"
   ]
  },
  {
   "cell_type": "code",
   "execution_count": null,
   "id": "1efdfad4",
   "metadata": {},
   "outputs": [],
   "source": [
    "# Question 4 - 2)"
   ]
  },
  {
   "cell_type": "markdown",
   "id": "fe1054cd",
   "metadata": {
    "collapsed": true
   },
   "source": [
    "The next column is **host id.**\n",
    "```\n",
    "airBnb['host id'].value_counts()\n",
    "```\n",
    "Very few host id that have more than 2 listings so host id does not contribute to the price of the airBnb.  Therefore, we will drop the column.\n",
    "```\n",
    "airBnb.drop(\"host id\", axis=1, inplace=True)\n",
    "```\n",
    "# Question  5\n",
    "1. Using the Python command above view the contents of the host_id column.\n",
    "2. Use the drop command to get rid of the column from the airBnb data set."
   ]
  },
  {
   "cell_type": "code",
   "execution_count": null,
   "id": "0a54734e",
   "metadata": {},
   "outputs": [],
   "source": [
    "# Question 5 - 1)"
   ]
  },
  {
   "cell_type": "code",
   "execution_count": null,
   "id": "01445bd8",
   "metadata": {},
   "outputs": [],
   "source": [
    "# Question 5 - 2)"
   ]
  },
  {
   "cell_type": "markdown",
   "id": "1d47d3dc",
   "metadata": {},
   "source": [
    "# host_identity_verified\n",
    "The next column is host_identity_verified.  Let's look to see the contents of this column.  \n",
    "```\n",
    "airBnb['host_identity_verified'].value_counts()\n",
    "```\n",
    "There was unconfirmed and verified as items listed in the column.  There are a total 51200 + 51110 = 102310.  There are 289 records without values.\n",
    "There is text in this column.  This column will be included in the data set.  Notice for host_identity_verified column is text.\n",
    "\n",
    "\n",
    "# Question 6\n",
    "1) Use the Python command above to see the contents of the column. "
   ]
  },
  {
   "cell_type": "code",
   "execution_count": null,
   "id": "5386705f",
   "metadata": {},
   "outputs": [],
   "source": [
    "# Question 6\n"
   ]
  },
  {
   "cell_type": "markdown",
   "id": "1efa415d",
   "metadata": {},
   "source": [
    "# host name\n",
    "The next column is **host name**.  Let's look at the contents of this column.\n",
    "<br>\n",
    "```\n",
    "airBnb[\"host name\"].value_counts()\n",
    "```\n",
    "<br>\n",
    "Since the name of the host does not add to the model, we can delete this column.\n",
    "```\n",
    "airBnb.drop(\"host name\", axis=1, inplace=True)\n",
    "```\n",
    "\n",
    "# Question 7\n",
    "1. Use the value_counts() to display the contents of the column and how often they occur.\n",
    "2. Use the drop method to drop the column from the dataframe."
   ]
  },
  {
   "cell_type": "code",
   "execution_count": null,
   "id": "ba9898f8",
   "metadata": {},
   "outputs": [],
   "source": [
    "# Question 7 - 1)"
   ]
  },
  {
   "cell_type": "code",
   "execution_count": null,
   "id": "51ca3009",
   "metadata": {},
   "outputs": [],
   "source": [
    "# Question 7 - 2)"
   ]
  },
  {
   "cell_type": "markdown",
   "id": "a2993c45",
   "metadata": {},
   "source": [
    "# Other columns to delete\n",
    "From the info() command.  You can see that there are three columns last review, review rate number, and house_rules that have less than 100,000 records.  When you want to drop a number of columns you can insert the list of columns in a list.\n",
    "\n",
    "```\n",
    "airBnb.drop([\"last review\", \"reviews per month\", \"house_rules\"], axis=1, inplace=True)\n",
    "```\n",
    "\n",
    "# Question 8\n",
    "\n",
    "1) drop the last review, reviews per month, and house_rules columns use the python command learned above.\n"
   ]
  },
  {
   "cell_type": "code",
   "execution_count": null,
   "id": "3ea16af3",
   "metadata": {},
   "outputs": [],
   "source": [
    "# Question 8\n"
   ]
  },
  {
   "cell_type": "markdown",
   "id": "1ba680d3",
   "metadata": {},
   "source": [
    "# price\n",
    "Notice price is an object or a string.  Let's use the value_counts() to see the contents of the column.\n",
    "\n",
    "```\n",
    "airBnb[\"price\"].value_counts()\n",
    "```\n",
    "\n",
    "Notice each value has a dollar sign.  The dollar sign is what make this column register as a string or object.  However, that is not what we want when building this regression model.  We want to predict the cost of the price of the airbnb.  The price must be a float point.  The \"$\" and \",\" must be removed from the price.\n",
    "```\n",
    "airBnb[\"price\"] = airBnb[\"price\"].str.replace(\"$\", \"\")\n",
    "airBnb[\"price\"] = airBnb[\"price\"].str.replace(\",\", \"\")\n",
    "airBnb[\"price\"] = airBnb[\"price\"].astype(float)\n",
    "airBnB[\"price\"].value_counts()\n",
    "```\n",
    "\n",
    "# Question 9\n",
    "1) Use the Python commands above to convert price from a string by first  to a float."
   ]
  },
  {
   "cell_type": "code",
   "execution_count": null,
   "id": "d8dd56ad",
   "metadata": {},
   "outputs": [],
   "source": [
    "# Question 9\n"
   ]
  },
  {
   "cell_type": "markdown",
   "id": "0f8a2c4e",
   "metadata": {},
   "source": [
    "# Target variable\n",
    "Since we will create a model to predict the price of the AirBnb property, if there are records that do not have price\n",
    "values we will drop from the data set.  Use the Python command below.\n",
    "\n",
    "```\n",
    "bool_series = pd.isnull(data[\"price\"])  # list of missing \n",
    "\n",
    "```\n",
    "\n",
    "# Question 10\n",
    "1. Remove records that have missing values in the Target column."
   ]
  },
  {
   "cell_type": "code",
   "execution_count": null,
   "id": "fd410045",
   "metadata": {},
   "outputs": [],
   "source": [
    "# Question 10\n"
   ]
  },
  {
   "cell_type": "markdown",
   "id": "470d491b",
   "metadata": {},
   "source": [
    "# neighbourhood group\n",
    "Find the unique values in this column\n",
    "```\n",
    "airBnb['neighbourhood group'].value_counts()\n",
    "```\n",
    "Dealing with miss type items you can use the following code to correct them.\n",
    "```\n",
    "airBnb['neighbourhood group'] = airBnb.loc[:,'neighbourhood group'].str.replace('brookln', 'Brooklyn')\n",
    "airBnb['neighbourhood group'] = airBnb.loc[:,'neighbourhood group'].str.replace('manhatan', 'Manhattan')\n",
    "airBnb['neighbourhood group'].value_counts()\n",
    "```\n",
    "\n",
    "# Question 11\n",
    "1. Use the code above to find the number of unique neighbourhood group.\n",
    "2. Use the code above to change brookln to Brooklyn.\n",
    "3. Use the code above to change manhatan to Manhattan.\n",
    "4. Use the code above to find the count of each unique value."
   ]
  },
  {
   "cell_type": "code",
   "execution_count": null,
   "id": "66c71ce2",
   "metadata": {},
   "outputs": [],
   "source": [
    "# Question 11 - 1)"
   ]
  },
  {
   "cell_type": "code",
   "execution_count": null,
   "id": "f554e6f7",
   "metadata": {},
   "outputs": [],
   "source": [
    "# Question 11 - 2) and 3)"
   ]
  },
  {
   "cell_type": "code",
   "execution_count": null,
   "id": "72180d58",
   "metadata": {},
   "outputs": [],
   "source": [
    "# Question 11 - 4)"
   ]
  },
  {
   "cell_type": "markdown",
   "id": "7b2ad233",
   "metadata": {},
   "source": [
    "# neighbourhood\n",
    "\n",
    "To view the contents of the neighbourhood column by using the following command.\n",
    "```\n",
    "airBnb['neighbourhood'].value_count()\n",
    "```\n",
    "\n",
    "# Question 12\n",
    "1. Use the code above to determine the unique contents in the neighbourhood column.\n"
   ]
  },
  {
   "cell_type": "code",
   "execution_count": null,
   "id": "0cf64939",
   "metadata": {},
   "outputs": [],
   "source": [
    "# Question 12"
   ]
  },
  {
   "cell_type": "markdown",
   "id": "74cdc426",
   "metadata": {},
   "source": [
    "# lat\n",
    "\n",
    "Find the unique values of the lattitude.\n",
    "\n",
    "```\n",
    "airBnb['lat'].value_counts()\n",
    "```\n",
    "# Question 13\n",
    "1) Using the code above, determine the unique values in the data set\n"
   ]
  },
  {
   "cell_type": "code",
   "execution_count": null,
   "id": "462c1d43",
   "metadata": {},
   "outputs": [],
   "source": [
    "# Question 13\n"
   ]
  },
  {
   "cell_type": "markdown",
   "id": "96f72464",
   "metadata": {},
   "source": [
    "# Repeat the process for column 'long'\n",
    "\n",
    "# Question 14\n",
    "\n",
    "Find the unique values of the longitude\n",
    " "
   ]
  },
  {
   "cell_type": "code",
   "execution_count": null,
   "id": "2db10a12",
   "metadata": {},
   "outputs": [],
   "source": [
    "# Question 14\n"
   ]
  },
  {
   "cell_type": "markdown",
   "id": "105e40a5",
   "metadata": {},
   "source": [
    "# Column country\n",
    "\n",
    "# Question 15\n",
    "1.  Using the code above, determine the unique values in the data set\n",
    "2.  If there are **not** different countries, drop the country column using the python code from above.\n"
   ]
  },
  {
   "cell_type": "code",
   "execution_count": null,
   "id": "41ba1d31",
   "metadata": {},
   "outputs": [],
   "source": [
    "# Question 15 - 1)\n",
    "\n"
   ]
  },
  {
   "cell_type": "code",
   "execution_count": null,
   "id": "370b494c",
   "metadata": {},
   "outputs": [],
   "source": [
    "# Question 15 - 2)"
   ]
  },
  {
   "cell_type": "markdown",
   "id": "95908a5d",
   "metadata": {},
   "source": [
    "# Column country code\n",
    "\n",
    "# Question 16\n",
    "1.  Using the code above, determine the unique values in the data set\n",
    "2.  If there are **not** different country codes, drop the country column using the python code from above.\n"
   ]
  },
  {
   "cell_type": "code",
   "execution_count": null,
   "id": "3671de24",
   "metadata": {},
   "outputs": [],
   "source": [
    "# Question 16 - 1)\n"
   ]
  },
  {
   "cell_type": "code",
   "execution_count": null,
   "id": "9028a02e",
   "metadata": {},
   "outputs": [],
   "source": [
    "# Question 16 - 2)"
   ]
  },
  {
   "cell_type": "markdown",
   "id": "9d201f81",
   "metadata": {},
   "source": [
    "# Column instant_bookable\n",
    "\n",
    "\n",
    "# Question 17 \n",
    "1. Use the code above, determine the unique values in the data set.\n"
   ]
  },
  {
   "cell_type": "code",
   "execution_count": null,
   "id": "278d6ea0",
   "metadata": {},
   "outputs": [],
   "source": [
    "# Question 17"
   ]
  },
  {
   "cell_type": "markdown",
   "id": "2760ca8a",
   "metadata": {},
   "source": [
    "# Column cancellation_policy\n",
    "\n",
    "# Question 18\n",
    "1. Use the code above, determine the unique values in the data set."
   ]
  },
  {
   "cell_type": "code",
   "execution_count": 24,
   "id": "191f8b2f",
   "metadata": {},
   "outputs": [],
   "source": [
    "# Question 18"
   ]
  },
  {
   "cell_type": "markdown",
   "id": "05bff916",
   "metadata": {},
   "source": [
    "# Column room type\n",
    "\n",
    "# Question 19\n",
    "1. Use the code above, determine the unique values in the data set."
   ]
  },
  {
   "cell_type": "code",
   "execution_count": null,
   "id": "0cfa4c7b",
   "metadata": {},
   "outputs": [],
   "source": [
    "# Question 19\n"
   ]
  },
  {
   "cell_type": "markdown",
   "id": "778e0cd1",
   "metadata": {},
   "source": [
    "# Column service fee - Converting Service fee string to float\n",
    "\n",
    "\n",
    "# Question 20\n",
    "1. Using the code learnt while processing the column 'price', remove the $ and , from the data and change to float data."
   ]
  },
  {
   "cell_type": "code",
   "execution_count": null,
   "id": "eb53a841",
   "metadata": {},
   "outputs": [],
   "source": [
    "# Question 20"
   ]
  },
  {
   "cell_type": "markdown",
   "id": "5495a4a4",
   "metadata": {},
   "source": [
    "# Numerical columns\n",
    "\n",
    "The remaining columns have numerical values.  At this point we can run the describe() method on the airBnb data frame. \n",
    "Use the following code to describe the data set.\n",
    "\n",
    "```\n",
    "airBnb.describe()\n",
    "```\n",
    "\n",
    "# Question 21\n",
    "1. Run the describe method above on the airBnb data set."
   ]
  },
  {
   "cell_type": "code",
   "execution_count": null,
   "id": "e0e01e33",
   "metadata": {},
   "outputs": [],
   "source": [
    "# Question 21\n"
   ]
  },
  {
   "cell_type": "markdown",
   "id": "a6558ae4",
   "metadata": {},
   "source": [
    "# Examining the table\n",
    "1. The **lat or lattitude** is **reasonable** since airBnb properties are in the New York area.  \n",
    "2. The **long or longitude** is also **reasonable** for the same reason for the lattitude.\n",
    "3. The **construction years** range from 2002 to 2022, also **reasonable.**\n",
    "4. The **price** is between 50 to 1200 dollars, again **reasonable.**\n",
    "5. The **service fee** range between 10 and 240, also **reasonable.**\n",
    "6. The **minimum nights** range from **-1223 to 5645 nights**.  The **negative values indicate that no minimum number of nights are required when booking the property. The large number of nights indicates the property requires upto 15+ years when booking it.  The stakeholder will determine if the high minimum nights for properties should not be included in the model.\n",
    "7. The **number of reviews** we should **look at the records greater than 31 reviews and less than 1024.**\n",
    "8. The **review rate ranges** from 1 through 5 which is reasonable.\n",
    "9. The **calculated host listings count** ranges from 1 to 332.  We should look at the number of records that are greater than 2 and less than 333.\n",
    "10. The **availability 365** has some **negative values indicate the property is completely booked**.  "
   ]
  },
  {
   "cell_type": "markdown",
   "id": "e57dbe17",
   "metadata": {},
   "source": [
    "# View the describe table\n",
    "When you view the describe table you can see the following.\n",
    "1. The number of records with values.\n",
    "2. The minimum and maximum values.\n",
    "3. The Mean and Median values.\n",
    "4. The 25% or first Quartile=Q1\n",
    "5. The 75% or third Quartile=Q3\n",
    "\n",
    "# Question 22\n",
    "1. Looking at the data above, what are the minimum nights?  \n",
    "2. Does it make any sense? put 1 for Yes and 2 for No in the ans variable.<br>\n",
    "1. Yes\n",
    "2. No"
   ]
  },
  {
   "cell_type": "code",
   "execution_count": null,
   "id": "730eda3b",
   "metadata": {},
   "outputs": [],
   "source": [
    "# Question 22 - 1)\n",
    "minimumNights = "
   ]
  },
  {
   "cell_type": "code",
   "execution_count": null,
   "id": "08a1d1cb",
   "metadata": {},
   "outputs": [],
   "source": [
    "# Question 22 - 2)\n",
    "ans = "
   ]
  },
  {
   "cell_type": "markdown",
   "id": "3336e8d9",
   "metadata": {},
   "source": [
    "# availability 365\n",
    "Notice the minimum value is -10.  That means property is completely bookout.\n"
   ]
  },
  {
   "cell_type": "markdown",
   "id": "07e3eaa9",
   "metadata": {},
   "source": [
    "# Numerical values\n",
    "The remaining columns are numerical values.  We can now run the describe() method to inspect the numerical columns.\n",
    "```\n",
    "airBnb.describe()\n",
    "```\n",
    "\n",
    "# Question 23\n",
    "1. In the code cell below, enter the describe method for the airBnb dataframe.\n"
   ]
  },
  {
   "cell_type": "code",
   "execution_count": null,
   "id": "0ce69310",
   "metadata": {},
   "outputs": [],
   "source": [
    "# Question 23\n"
   ]
  },
  {
   "cell_type": "markdown",
   "id": "495a50f4",
   "metadata": {},
   "source": [
    "# Creating a Correlation Matrix\n",
    "\n",
    "When determining the columns to use to build the machine learning model, a correlation matrix is a good method to see which numerical values are correlated with each other.  The Python code to create a correlation matrix is found below.\n",
    "\n",
    "```\n",
    "num_column= ['lat', 'long', 'Construction year', 'price', 'service fee', 'minimum nights', 'number of reviews', 'review rate number', 'calculated host listings count', 'availability 365']\n",
    "\n",
    "airBnb[num_column].corr()\n",
    "``\n",
    "\n",
    "# Question 24\n",
    "1. Use the code above to create a list of numerical column names.\n",
    "2. Create a correlation matrix with only numerical columns and the target variable 'price.'"
   ]
  },
  {
   "cell_type": "code",
   "execution_count": null,
   "id": "6bda742d",
   "metadata": {},
   "outputs": [],
   "source": [
    "# Question 24\n"
   ]
  },
  {
   "cell_type": "markdown",
   "id": "00c540f5",
   "metadata": {},
   "source": [
    "# Visualizing Data\n",
    "To create a scatterplot you can use the code below.  The x value will be the service fee and the y is the price.\n",
    "\n",
    "```\n",
    "import seaborn\n",
    "seaborn.scatterplot(x=\"service fee\",\n",
    "                    y=\"price\",\n",
    "                    data=airBnb)\n",
    "```\n",
    "\n",
    "\n",
    "# Question 25\n",
    "1. Use the code above to create a scatterplot with x = \"service fee\" and y = \"price\".\n",
    "2. Use the code above to create a scatterplot with x = \"minimum nights\" and y = \"price\"."
   ]
  },
  {
   "cell_type": "code",
   "execution_count": null,
   "id": "9ffe27d8",
   "metadata": {},
   "outputs": [],
   "source": [
    "# Question 25 - 1)"
   ]
  },
  {
   "cell_type": "code",
   "execution_count": null,
   "id": "3f597357",
   "metadata": {},
   "outputs": [],
   "source": [
    "# Question 25  - 2)"
   ]
  }
 ],
 "metadata": {
  "kernelspec": {
   "display_name": "Python 3 (ipykernel)",
   "language": "python",
   "name": "python3"
  },
  "language_info": {
   "codemirror_mode": {
    "name": "ipython",
    "version": 3
   },
   "file_extension": ".py",
   "mimetype": "text/x-python",
   "name": "python",
   "nbconvert_exporter": "python",
   "pygments_lexer": "ipython3",
   "version": "3.10.11"
  }
 },
 "nbformat": 4,
 "nbformat_minor": 5
}
