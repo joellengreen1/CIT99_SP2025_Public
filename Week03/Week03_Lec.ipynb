{
 "cells": [
  {
   "cell_type": "markdown",
   "id": "89016ecd",
   "metadata": {},
   "source": [
    "# Week 3 - Cleaning your data\n",
    "Eighty percent of the time you spend creating a machine learning model will be in cleaning and finding features to use to improve your model.  This week you will learn to clean your data set and make sure the data is what you think it should be.\n",
    "The first step in the process will be examining the data set.  You can ask the following questions.\n",
    "\n",
    "1. Determine the target variable.  This is the variable you want to predict.\n",
    "2. Are there any missing values in the target variable?  There are a number of different methods to handle missing target variables(see the link below).  In this class, we will drop the record.\n",
    "3. Does all the records have the appropriate values in the columns?  If not, can we determine what should be in the column or we can replace the value in the column?\n",
    "4. Having a subject matter expert on the predictive modeling team will be of great use when answering these questions.\n",
    "5. If the model is a supervised model, is it a regression or classification model.  You can always take a regression model and change it to a classification model. However, it is not easy to go the opposite direction.\n",
    "6. During the cleaning process, you will discover if there are duplicate records, data outliers, data entry errors, inconsistent data types, and unbalance data sets.\n",
    "\n",
    "During this week, you will continue to work with the AirBnB data set (https://media.geeksforgeeks.org/wp-content/uploads/20240729174527/Airbnb_Open_Data.csv). Using the Pandas commands below we can read in the data set.\n",
    "\n",
    "```\n",
    "import pandas as pd\n",
    "\n",
    "url = 'https://media.geeksforgeeks.org/wp-content/uploads/20240729174527/Airbnb_Open_Data.csv'\n",
    "airbnb = pd.read_csv(url, on_bad_lines='skip', low_memory=False)\n",
    "airbnb.drop('license', axis=1, inplace=True)\n",
    "airbnb.info()\n",
    "```\n",
    "The Data Dictionary associated with the data set above can be found by clicking here.\n",
    "[Airbnb Open Data Dictionary](https://docs.google.com/spreadsheets/d/1b_dvmyhb_kAJhUmv81rAxl4KcXn0Pymz/edit?gid=1967362979#gid=1967362979 \"The AirBnb data dictionary\")\n",
    "\n",
    "<br>\n",
    "1. The first thing to do is to use the code above in the code cell below to read the data into a dataframe variable named airbnb. <br>\n",
    "2. Then run the info() command above to view the columns in the data set.\n"
   ]
  },
  {
   "cell_type": "code",
   "execution_count": null,
   "id": "2c610ee6",
   "metadata": {},
   "outputs": [],
   "source": []
  },
  {
   "cell_type": "code",
   "execution_count": null,
   "id": "78e02480",
   "metadata": {},
   "outputs": [],
   "source": []
  },
  {
   "cell_type": "code",
   "execution_count": null,
   "id": "9b75a82b",
   "metadata": {},
   "outputs": [],
   "source": []
  },
  {
   "cell_type": "code",
   "execution_count": null,
   "id": "8485aa0b",
   "metadata": {},
   "outputs": [],
   "source": []
  },
  {
   "cell_type": "code",
   "execution_count": null,
   "id": "8ee37e5f",
   "metadata": {},
   "outputs": [],
   "source": []
  },
  {
   "cell_type": "code",
   "execution_count": null,
   "id": "fa6943ed",
   "metadata": {},
   "outputs": [],
   "source": []
  },
  {
   "cell_type": "code",
   "execution_count": null,
   "id": "b756233d",
   "metadata": {},
   "outputs": [],
   "source": []
  },
  {
   "cell_type": "code",
   "execution_count": null,
   "id": "f51d2117",
   "metadata": {},
   "outputs": [],
   "source": []
  },
  {
   "cell_type": "code",
   "execution_count": null,
   "id": "189c621d",
   "metadata": {},
   "outputs": [],
   "source": []
  },
  {
   "cell_type": "code",
   "execution_count": null,
   "id": "a69ef1f5",
   "metadata": {},
   "outputs": [],
   "source": []
  },
  {
   "cell_type": "code",
   "execution_count": null,
   "id": "c60d5018",
   "metadata": {},
   "outputs": [],
   "source": []
  },
  {
   "cell_type": "code",
   "execution_count": null,
   "id": "2c513b80",
   "metadata": {},
   "outputs": [],
   "source": []
  }
 ],
 "metadata": {
  "kernelspec": {
   "display_name": "Python 3 (ipykernel)",
   "language": "python",
   "name": "python3"
  },
  "language_info": {
   "codemirror_mode": {
    "name": "ipython",
    "version": 3
   },
   "file_extension": ".py",
   "mimetype": "text/x-python",
   "name": "python",
   "nbconvert_exporter": "python",
   "pygments_lexer": "ipython3",
   "version": "3.10.11"
  }
 },
 "nbformat": 4,
 "nbformat_minor": 5
}
