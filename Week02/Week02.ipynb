{
 "cells": [
  {
   "cell_type": "markdown",
   "metadata": {},
   "source": [
    "# Week 2 - Programming in Python\n",
    "\n",
    "This week you will learn about **data structures**.  Last week we finished our journey of learning Python with Lists.  Lists can take all different data types.\n",
    "```\n",
    "L1 = ['Joey', 'James', 'Joseph', 'Kevin', 'Kathy', 'JoAnn', 'Jolie', 'Helen']\n",
    "```\n",
    "Or a list can contain information that is different data type.\n",
    "```\n",
    "L2 = ['Billy', 'Turner', 34, 67000, 16.96, 'FT', True]\n",
    "```\n",
    "You can create a list of values from 0 to n by the following command\n",
    "```\n",
    "K1 = list(range(n+1))\n",
    "K1\n",
    "```"
   ]
  },
  {
   "cell_type": "markdown",
   "metadata": {},
   "source": [
    "# List Comphrensions\n",
    "Loops have been discussed last week.  This week there is a one statement method of looping through each element of a list.  It is called **list comprehensions.**\n",
    "\n",
    "```\n",
    "a_list = [0,  1, 2, 3, 4, 5, 6, 7, 8, 9, 10]\n",
    "A1 = [num**2 for num in a_list]\n",
    "A1\n",
    "```\n",
    "The output would be the list below.  It took each item in a_list and squared the value and stored it in a list.<br>\n",
    "**[0, 1, 4, 9, 16, 25, 36, 49, 64, 81, 100]**\n",
    "<br>\n",
    "To cube each value in the a_list use the following command.<br>\n",
    "```\n",
    "M1 = [num***3 from num in a_list]\n",
    "M1\n",
    "```\n",
    "The output would be the list below.  It took each item in a_list and cubed the value and stored it in a list called M1.<br>\n",
    "**[0, 1, 8, 27, 64, 125, 216, 343, 512, 729, 1000]**<br>\n",
    "If I have a list of names, I can process through each name.  Include the name if it is **not** 'Sam'.  Then add 'Sam' at the end of the list.<br>\n",
    "\n",
    "```\n",
    "people = [\"Sam\", \"Carol\", \"Mary\", \"Tim\"]\n",
    "P1 = [name for name in people if name not in [\"Sam\"]]+[\"Sam\"]\n",
    "P1\n",
    "```\n",
    "The output is listed below.\n",
    "**['Carol', 'Mary', 'Tim', 'Sam']**\n",
    "\n",
    "<br>\n",
    "\n",
    "# Question 1\n",
    "1. In the first code cell below, use the list comphrension to generate a list of numbers from 0 to 15 numbers and store it in a list call Q1.  Print Q1 list by entering Q1 on the last line in the code cell. \n",
    "2. In the second code cell below, raise the list Q1 to the fourth power and store it in cell Q2.  Print Q2 on the last line in the code cell.\n",
    "3. The third code cell below, create a list l_name = ['Adams', 'Jefferson', 'Green', 'Black', 'White', 'Brown'].  Create a list comprehension to put 'Green' at the end of the list and store it in Q3.  Print Q3 on the last line in the code cell.\n"
   ]
  },
  {
   "cell_type": "code",
   "execution_count": null,
   "metadata": {},
   "outputs": [],
   "source": [
    "# Question 1 - First Code Cell\n"
   ]
  },
  {
   "cell_type": "code",
   "execution_count": null,
   "metadata": {},
   "outputs": [],
   "source": [
    "# Question 1 - Second Code Cell\n"
   ]
  },
  {
   "cell_type": "code",
   "execution_count": null,
   "metadata": {},
   "outputs": [],
   "source": [
    "# Question 1 - Third Code Cell\n"
   ]
  },
  {
   "cell_type": "markdown",
   "metadata": {},
   "source": [
    "# Dictionaries\n",
    "A data storage method in Python that creates a structure what has keys.\n",
    "```\n",
    "L1 = ['Joey', 'James', 'Joseph', 'Kevin', 'Kathy', 'JoAnn', 'Jolie', 'Helen']\n",
    "L3 = ['Adams', 'Baker', 'Caine', 'Dobbs', 'Elegry','Farms', 'Green', 'Quince']\n",
    "L4 = [ 34, 56, 78, 23, 45, 29, 31, 44]\n",
    "L5 = [ 56000, 43000, 44000, 62000, 78000, 56000, 12000, 100000]\n",
    "L6 = [15.5, 14.3, 12.5, 32.5, 16.5, 10.5, 11.25, 23.0]\n",
    "L7 = ['FT', 'PT', 'PT', 'RT', 'FT', 'LV', 'PT', 'TT']\n",
    "\n",
    "emp = {'firstName':L1, 'lastName':L3, 'age':L4, 'salary':L5, 'yos':L6, 'status':L7}\n",
    "\n",
    "```\n",
    "The keys in this dictionary call emp are 'firstName', 'lastName', 'age', 'salary', 'yos', and 'status'.  Each is key is like a column however, when you display the dictionary it does not look like a spreadsheet; but it looks like the \n",
    "To access the **firstName of the 3rd person** can be found by the following command.  The index is 3 - 1 or 2.  Two represents the third person.\n",
    "```\n",
    "emp['firstName'][2]\n",
    "```\n",
    "Access the **lastName of the 5th person** can be found by the following command.  The index is 5 - 1 or 4.  Four represents the fifth person.\n",
    "```\n",
    "emp['lastName'][4]\n",
    "```\n",
    "Similarly, you can get a **list of first names of the individuals that are the 2nd and 5th person on the list**.  The index is 2-1 or 1 and the last is 5 since it will stop at the index 4.\n",
    "```\n",
    "emp['firstName'][1:5]\n",
    "```\n",
    "Similarly, you can get a **list of all firstNames** by entering the command below.\n",
    "```\n",
    "emp['firstName']\n",
    "```\n",
    "Similarly, you can get a **list of the first three ages of individuals in the list**.\n",
    "```\n",
    "emp['age'][:3]\n",
    "```\n",
    "# Question 2\n",
    "1. In the code cell below create L1, L3, L4, L5, L6, and L7.  Then create the dictionary emp using the code above.\n",
    "2. In a second code cell below, access the lastName of the 5th person in the list.\n",
    "3. In a third code cell below, access the firstName of the 2nd person in the list.\n",
    "4. In a fourth code cell below, access the age of the last four persons in the list.\n",
    "5. In a fifth code cell below, access the status of the first four persons in the list.\n",
    "6. In a sixth code cell below, access the salaries of the second to the seventh person in the list.\n",
    "7. In a seventh code cell below, access the first six person's years of service(yos) in the list."
   ]
  },
  {
   "cell_type": "code",
   "execution_count": null,
   "metadata": {},
   "outputs": [],
   "source": [
    "# Question 2 - First Code Cell\n"
   ]
  },
  {
   "cell_type": "code",
   "execution_count": null,
   "metadata": {},
   "outputs": [],
   "source": [
    "# Question 2 - Second Code Cell\n"
   ]
  },
  {
   "cell_type": "code",
   "execution_count": null,
   "metadata": {},
   "outputs": [],
   "source": [
    "# Question 2 - Third Code Cell\n"
   ]
  },
  {
   "cell_type": "code",
   "execution_count": null,
   "metadata": {},
   "outputs": [],
   "source": [
    "# Question 2 - Fourth Code Cell\n"
   ]
  },
  {
   "cell_type": "code",
   "execution_count": null,
   "metadata": {},
   "outputs": [],
   "source": [
    "# Question 2 - Fifth Code Cell\n"
   ]
  },
  {
   "cell_type": "code",
   "execution_count": null,
   "metadata": {},
   "outputs": [],
   "source": [
    "# Question 2 - Sixth Code Cell\n"
   ]
  },
  {
   "cell_type": "code",
   "execution_count": null,
   "metadata": {},
   "outputs": [],
   "source": [
    "# Question 2 - Seventh Code Cell\n"
   ]
  },
  {
   "cell_type": "markdown",
   "metadata": {},
   "source": [
    "# DataFrames\n",
    "Once a dictionary is created, a pandas dataFrame can be created.  The dataFrame displays as an Excel spreadsheet or a database.  Each column will have the header or key from the dictionary, and the values below it will be the list for that keyword in the dictionary.\n",
    "To create a dataframe from the dictionary, we must first import the Pandas Python library.  Then, we use the command.\n",
    "\n",
    "```\n",
    "df = pd.DataFrame(emp)\n",
    "\n",
    "```  \n",
    "Where emp is the dictionary created above, df is the name of the dataFrame.  The dataFrame name can be emp_data or something else.  Pick a name that describes the data.\n",
    "\n",
    "\n",
    "```\n",
    "import pandas as pd\n",
    "df=pd.DataFrame(emp)\n",
    "df\n",
    "````\n",
    "\n",
    "<br>\n",
    "\n",
    "<style scoped>\n",
    "    .dataframe tbody tr th:only-of-type {\n",
    "        vertical-align: middle;\n",
    "    }\n",
    "\n",
    "    .dataframe tbody tr th {\n",
    "        vertical-align: top;\n",
    "    }\n",
    "\n",
    "    .dataframe thead th {\n",
    "        text-align: right;\n",
    "    }\n",
    "</style>\n",
    "<table border=\"1\" class=\"dataframe\">\n",
    "  <thead>\n",
    "    <tr style=\"text-align: right;\">\n",
    "      <th></th>\n",
    "      <th>firstName</th>\n",
    "      <th>lastName</th>\n",
    "      <th>age</th>\n",
    "      <th>salary</th>\n",
    "      <th>yos</th>\n",
    "      <th>status</th>\n",
    "    </tr>\n",
    "  </thead>\n",
    "  <tbody>\n",
    "    <tr>\n",
    "      <th>0</th>\n",
    "      <td>Joey</td>\n",
    "      <td>Adams</td>\n",
    "      <td>34</td>\n",
    "      <td>56000</td>\n",
    "      <td>15.50</td>\n",
    "      <td>FT</td>\n",
    "    </tr>\n",
    "    <tr>\n",
    "      <th>1</th>\n",
    "      <td>James</td>\n",
    "      <td>Baker</td>\n",
    "      <td>56</td>\n",
    "      <td>43000</td>\n",
    "      <td>14.30</td>\n",
    "      <td>PT</td>\n",
    "    </tr>\n",
    "    <tr>\n",
    "      <th>2</th>\n",
    "      <td>Joseph</td>\n",
    "      <td>Caine</td>\n",
    "      <td>78</td>\n",
    "      <td>44000</td>\n",
    "      <td>12.50</td>\n",
    "      <td>PT</td>\n",
    "    </tr>\n",
    "    <tr>\n",
    "      <th>3</th>\n",
    "      <td>Kevin</td>\n",
    "      <td>Dobbs</td>\n",
    "      <td>23</td>\n",
    "      <td>62000</td>\n",
    "      <td>32.50</td>\n",
    "      <td>RT</td>\n",
    "    </tr>\n",
    "    <tr>\n",
    "      <th>4</th>\n",
    "      <td>Kathy</td>\n",
    "      <td>Elegry</td>\n",
    "      <td>45</td>\n",
    "      <td>78000</td>\n",
    "      <td>16.50</td>\n",
    "      <td>LV</td>\n",
    "    </tr>\n",
    "    <tr>\n",
    "      <th>5</th>\n",
    "      <td>JoAnn</td>\n",
    "      <td>Farms</td>\n",
    "      <td>29</td>\n",
    "      <td>56000</td>\n",
    "      <td>10.50</td>\n",
    "      <td>LV</td>\n",
    "    </tr>\n",
    "    <tr>\n",
    "      <th>6</th>\n",
    "      <td>Jolie</td>\n",
    "      <td>Green</td>\n",
    "      <td>31</td>\n",
    "      <td>12000</td>\n",
    "      <td>11.25</td>\n",
    "      <td>PT</td>\n",
    "    </tr>\n",
    "    <tr>\n",
    "      <th>7</th>\n",
    "      <td>Helen</td>\n",
    "      <td>Quince</td>\n",
    "      <td>44</td>\n",
    "      <td>100000</td>\n",
    "      <td>23.00</td>\n",
    "      <td>TT</td>\n",
    "    </tr>\n",
    "  </tbody>\n",
    "</table>\n",
    "\n",
    "\n"
   ]
  },
  {
   "cell_type": "markdown",
   "metadata": {},
   "source": [
    "# Question 3\n",
    "1. In the code cell below, import pandas as pd.\n",
    "2. In the same code cell, use the code above to create the df DataFrame.\n",
    "3. Enter df on the next line in the code cell and run the code cell.  The new dataframe df will display in a table like the one above.\n"
   ]
  },
  {
   "cell_type": "code",
   "execution_count": null,
   "metadata": {},
   "outputs": [],
   "source": [
    "# Question 3\n"
   ]
  },
  {
   "cell_type": "markdown",
   "metadata": {},
   "source": [
    "# DataFrames from Files\n",
    "Not only can you use a dictionary to create a dataFrame, you can also read data into a dataFrame from a csv file, Excel workbooks, and other file types.\n",
    "\n",
    "## Reading a CSV file stored in the same directory\n",
    "```\n",
    "fileName = pd.read_csv('/content/Airbnb_Open_Data.csv')\n",
    "fileName\n",
    "```\n",
    "## Reading a CSV file stored on the internet with url address\n",
    "```\n",
    "import pandas as pd\n",
    "\n",
    "url = 'https://media.geeksforgeeks.org/wp-content/uploads/20240729174527/Airbnb_Open_Data.csv'\n",
    "airBnb = pd.read_csv(url)\n",
    "airBnb = airBnb.drop(\"license\", axis=1)\n",
    "\n",
    "airBnb\n",
    "```\n",
    "\n",
    "## Reading a dataset from Sci-kit learn \n",
    "```\n",
    "from sklearn.datasets import fetch_california_housing\n",
    "import pandas as pd\n",
    "\n",
    "# Load the California Housing dataset\n",
    "data = fetch_california_housing(as_frame=True)\n",
    "\n",
    "# Convert to a pandas DataFrame\n",
    "housing_df = data.frame\n",
    "\n",
    "```\n",
    "\n",
    "\n",
    "# Question 4\n",
    "1. In the code cell below, copy the code for reading the file from Sci-kit learn."
   ]
  },
  {
   "cell_type": "code",
   "execution_count": null,
   "metadata": {},
   "outputs": [],
   "source": [
    "# Question 4\n"
   ]
  },
  {
   "cell_type": "markdown",
   "metadata": {},
   "source": [
    "# Other panda dataFrame commands\n",
    "\n",
    "## Viewing records in the dataFrame\n",
    " \n",
    "To view the **first n records** in a pandas dataFrame use the following command.\n",
    "\n",
    "```\n",
    "airBnb.head(n)\n",
    "```\n",
    "To view the **last n records** in a panda dataFrame use the following command.\n",
    "\n",
    "```\n",
    "airBnb.tail(n)\n",
    "```\n",
    "If you do not put anything in the parentheses, it will **default to n = 5**.\n",
    "\n",
    "## Shape of the dataFrame (# of rows by # of columns)\n",
    "```\n",
    "airBnb.shape\n",
    "```\n",
    "## List the column names in the dataFrame\n",
    "```\n",
    "airBnb.columns\n",
    "```\n",
    "## Get information about the dataset\n",
    "```\n",
    "airBnb.info()\n",
    "```\n",
    "1. The output displays the data type for each column in the housing_df dataFrame.  \n",
    "2. The word object indicates the field read into Python as a string value.  \n",
    "3. In the Non-Null Count column the number of records that do not have missing values is listed.  \n",
    "4. The Dtype column indicates the data types for each column variable.  \n",
    "5. At the next to last line of output indicates the number of float values, integer values and string values.  Another data type not indicated but sometimes used is this data type **datetime**.  We will discuss that datedime dtype at in the future.\n",
    "\n",
    "## Describing data in the DataFrame - for numerical values only\n",
    "```\n",
    "airBnb.describe()\n",
    "```\n",
    "All the numerical variables (integer and float) will show up displaying the following:\n",
    "- **count** - number of records\n",
    "- **mean** - average of the column\n",
    "- **std** - standard deviation of the column how spreadout the data is from the mean\n",
    "- **min** - minimum value in the column\n",
    "- **25%** - First quartile where 25% of the data fall below this value and 75% fall above this data point.\n",
    "- **50%** - Median - where 50% of the data fall below this value and 50% fall above this data point.\n",
    "- **75%** - Third quartile where 75% of the data fall below this value and 25% fall above this data point.\n",
    "- **max** - Maximum value in the column.\n",
    "\n",
    "## Describing data in the DataFrame for all columns\n",
    "```\n",
    "airBnb.describe(include='all')\n",
    "```\n",
    "\n",
    "**If you have multiple things to display in one code cell you can use the print statement.**<br>\n",
    "```\n",
    "print(airBnb.head())\n",
    "print(airBnb.tail())\n",
    "print(airBnb.shape)\n",
    "print(airBnb.columns)\n",
    "print(airBnb.info())\n",
    "print(airBnb.describe())\n",
    "```\n",
    "Otherwise, create a new code cell for each statement.<br>\n",
    "\n",
    "# Question 5\n",
    "1. In the first code cell below, enter the code to display the first 10 records in the housing_df dataFrame.\n",
    "2. In the second code cell below, enter the code to display the last 10 records in the housing_df dataFrame.\n",
    "3. In the third code cell below, enter the code to display the shape of the housing_df dataFrame.\n",
    "4. In the fourth code cell below, enter the code to display the list of variables (columns).\n",
    "5. In the fifth code cell below, enter the code to display the data types and number of data records in the housing_df dataFrame.\n",
    "6. In the sixth code cell below, enter the code to display the description of the data for numeric columns in the housing_df dataFrame."
   ]
  },
  {
   "cell_type": "code",
   "execution_count": null,
   "metadata": {},
   "outputs": [],
   "source": [
    "#Question 5 - first 10 records\n"
   ]
  },
  {
   "cell_type": "code",
   "execution_count": null,
   "metadata": {},
   "outputs": [],
   "source": [
    "# Question 5 - last 10 records\n"
   ]
  },
  {
   "cell_type": "code",
   "execution_count": null,
   "metadata": {},
   "outputs": [],
   "source": [
    "# Question 5 - shape of dataFrame\n"
   ]
  },
  {
   "cell_type": "code",
   "execution_count": null,
   "metadata": {},
   "outputs": [],
   "source": [
    "# Question 5 - list of column names in the dataFrame\n"
   ]
  },
  {
   "cell_type": "code",
   "execution_count": null,
   "metadata": {},
   "outputs": [],
   "source": [
    "# Question 5 - display data types and number of data records in the airBnb dataframe\n"
   ]
  },
  {
   "cell_type": "code",
   "execution_count": null,
   "metadata": {},
   "outputs": [],
   "source": [
    "# Question 5 - display the description of the dataFrame for numerical data\n",
    "housing_df.describe()"
   ]
  },
  {
   "cell_type": "markdown",
   "metadata": {},
   "source": [
    "# Select data from the dataFrame\n",
    "In preprocessing data you may need to look at one or more columns in the dataFrame.  For example, you may want to display the values in the column named **availability 365**.  To do this you would use the following commands:<br>\n",
    "\n",
    "To view **one column.**\n",
    "```\n",
    "airBnb['availability 365']\n",
    "```\n",
    "\n",
    "To **view more than one column** use the following code.\n",
    "<br>\n",
    "```\n",
    "airBnb[['Construction year', 'availability 365']] \n",
    "```\n",
    "\n",
    "To select records that meet a specific characteristics.  **Select records where the number of reviews is greater than 50.**\n",
    "``` \n",
    "airBnb[ airBnb[ 'number of reviews'] >50] \n",
    "```\n",
    "\n",
    "To select records that meet two specific characteristics.  **Select records where the number of reviews is greater than 50 and minimum nights is 4 nights.**\n",
    "```\n",
    "airBnb[(airBnb['number of reviews'] > 50) & ( airBnb['minimum nights] == 4) ]\n",
    "```\n",
    "\n",
    "# Question 6\n",
    "1. In first code cell below, select the column **MedInc** from the housing_df dataframe\n",
    "2. In the second code cell below, select the columns **MedInc** and **HouseAge** from the housing_df dataFrame.\n",
    "3. In the third code cell below, select the column **AveRooms** > 2 from the housing_df dataFrame.\n",
    "4. In the fourth code cell below, select the column **AveRooms > 2** &  **Population > 100** from the housing_df dataFrame."
   ]
  },
  {
   "cell_type": "code",
   "execution_count": null,
   "metadata": {},
   "outputs": [],
   "source": [
    "# Question 6 - select the column MedInc\n"
   ]
  },
  {
   "cell_type": "code",
   "execution_count": null,
   "metadata": {},
   "outputs": [],
   "source": [
    "# Question 6 - select the columns MedInc and HouseAge\n"
   ]
  },
  {
   "cell_type": "code",
   "execution_count": null,
   "metadata": {},
   "outputs": [],
   "source": [
    "# Question 6 - select the columns calculated host listings count > 50\n"
   ]
  },
  {
   "cell_type": "code",
   "execution_count": null,
   "metadata": {},
   "outputs": [],
   "source": [
    "# Question 6 - select the column calculated host listing count > 50 & Construction yeare > 2000.0\n",
    "\n"
   ]
  },
  {
   "cell_type": "markdown",
   "metadata": {},
   "source": [
    "# Series\n",
    "One column from a dataFrame is called a series.  Series as a one-dimensional labeled array capable of holding any data type.  You can do the following actions.<br>\n",
    "\n",
    "Accessing elements by index or label<br>\n",
    "Access the 6500 element in the series\n",
    "\n",
    "```\n",
    "seriesairBnb = airBnb[\"price']\n",
    "seriesairBnb[6499]\n",
    "```\n",
    "<br>\n",
    "** The output of the 6500 record is '$524 '.  Remember the index starts at 0.**\n",
    "<br>\n",
    "Change string elements to Uppercase.\n",
    "```\n",
    "seriesairBnb = airBnb[\"country\"]\n",
    "seriesairBnb.str.upper()\n",
    "```\n",
    "<br>\n",
    "** The output of the Country is UNITED STATES **\n",
    "<br>\n",
    "find the unique values in the service fee column\n",
    "```\n",
    "seriesairBnb = airBnb[\"service fee\"]\n",
    "seriesairBnb.unique()\n",
    "```\n",
    "The output will list all the unique values for service fees\n",
    "<br>\n",
    "Change the service fee from string to float<br>\n",
    "\n",
    "```\n",
    "seriesairBnb = airBnb[\"service fee\"]\n",
    "seriesairBnb = seriesairBnb.str.replace(\"$\", \"\")\n",
    "seriesairBnb = seriesairBnb.astype(float)\n",
    "seriesairBnb\n",
    "```\n",
    "similarly, you can take a float value and change it to a str and add the $ in front\n",
    "```\n",
    "seriesBnb = seriesairBnb.str.astype(str)\n",
    "seriesBnb = '$'+seriesairBnb\n",
    "```\n",
    "\n",
    "The output is the float values it appears as the last line of output.\n",
    "\n",
    "# Question 7\n",
    "1. In the code cell below, create a series from the column HouseAge.\n",
    "2. In the code cell below, list the unique values in the HouseAge series."
   ]
  },
  {
   "cell_type": "code",
   "execution_count": null,
   "metadata": {},
   "outputs": [],
   "source": [
    "# Question 7\n"
   ]
  },
  {
   "cell_type": "markdown",
   "metadata": {},
   "source": [
    "# Question 8\n",
    "1. In the code cell below. create a series of price in variable seriesMedInc.\n",
    "2. In the code cell below, convert the series to a string(str) and add dollar sign in front of the seriesMedInc. \n",
    "3. In the code cell below, type in seriesMedInc so you can see the MedInc with the dollar sign.\n",
    "\n",
    "\n"
   ]
  },
  {
   "cell_type": "code",
   "execution_count": null,
   "metadata": {},
   "outputs": [],
   "source": [
    "# Question 8\n"
   ]
  }
 ],
 "metadata": {
  "kernelspec": {
   "display_name": "Python 3 (ipykernel)",
   "language": "python",
   "name": "python3"
  },
  "language_info": {
   "codemirror_mode": {
    "name": "ipython",
    "version": 3
   },
   "file_extension": ".py",
   "mimetype": "text/x-python",
   "name": "python",
   "nbconvert_exporter": "python",
   "pygments_lexer": "ipython3",
   "version": "3.10.11"
  }
 },
 "nbformat": 4,
 "nbformat_minor": 2
}
