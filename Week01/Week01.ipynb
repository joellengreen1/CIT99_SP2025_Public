{
 "cells": [
  {
   "attachments": {
    "image.png": {
     "image/png": "[encoded data removed]"
    }
   },
   "cell_type": "markdown",
   "metadata": {
    "id": "ZArSiicTVPTZ"
   },
   "source": [
    "# Week 1 - Order of operations in Python\n",
    "The order of operation in a numeric calculaton is defined below.\n",
    "1. Parentheses\n",
    "2. Exponents\n",
    "3. Multiplication and Division from left to right.\n",
    "4. Add and subtraction from left to right.\n",
    "\n",
    "<br>\n",
    "`3*(2 + 8)**2 + 12 - 15`<br>\n",
    "`3*(10)**2 + 12 - 15`  Add 2 and 8<br>\n",
    "`3*100 + 12 - 15`  Raise 10 to the 2nd power<br>\n",
    "`300 + 12 - 15` Multiple 3 and 100<br>\n",
    "`312 - 15` Add 300 and 12<br>\n",
    "`297` Subtract 15 from 312.  The result, 297, will show beneath the code cell after you run the code cell.<br>\n",
    "\n",
    "# Question 1\n",
    "1.  In the code cell below enter the following formula on the line below # Question 1 and hit the ![image.png](attachment:image.png)run button\n",
    "<br>\n",
    "5*(11-2)**3 - 65 + 16"
   ]
  },
  {
   "cell_type": "code",
   "execution_count": null,
   "metadata": {
    "id": "m2pEjrNRcOUs"
   },
   "outputs": [],
   "source": [
    "# Question 1\n"
   ]
  },
  {
   "cell_type": "markdown",
   "metadata": {
    "id": "0PPO7Nl_I5pO"
   },
   "source": [
    "# Variables\n",
    "**Variables are storage places on the computer where numbers(integer and float), strings, or other data structures are stored.** In python you can create a variable which starts with an alphabet or underscore(_).  Then you can add numbers if you would like. The other restriction to variable names is it cannot be a [reserved word](https://www.w3schools.com/python/python_ref_keywords.asp) (see below).\n",
    "<br>\n",
    "\n",
    "|    |           |   |\n",
    "|----------|-------------|------|\n",
    "| and |  False | nonlocal |\n",
    "| as |    finally   |   not |\n",
    "| assert | for |    or |\n",
    "| break | from | pass |\n",
    "| class | global | raise |\n",
    "| continue | if | return |\n",
    "| def | import | return |\n",
    "| del | in | try|\n",
    "| elif | is | while |\n",
    "| else | lambda | with |\n",
    "| except | None | yield |\n",
    "\n",
    "\n",
    "## Basic variables in Python\n",
    "The type of variables in Python can be numeric(integer and float), string, boolean, list, and other data structures.  This week, you will explore, numeric(integer and float), string, boolean, and list variables.  \n",
    "\n",
    "# Question 2\n",
    "Which name below is **not a valid** Python variable name\n",
    "1. second\n",
    "2. is\n",
    "3. jg_42\n",
    "4. myName\n",
    "5. my_name\n",
    "6. _score\n"
   ]
  },
  {
   "cell_type": "code",
   "execution_count": null,
   "metadata": {
    "id": "ACYw1CuBjNjC"
   },
   "outputs": [],
   "source": [
    "# Question 2\n",
    "# Enter the number associated with the name above that is not valid variable name.\n",
    "ans = "
   ]
  },
  {
   "attachments": {
    "image.png": {
     "image/png": "[encoded data removed]"
    }
   },
   "cell_type": "markdown",
   "metadata": {
    "id": "jS7Ud1UhjObK"
   },
   "source": [
    "# Numeric Calculations\n",
    "Below are examples of assigning numbers to variables and perform numerical operations.  View the code examples below.\n",
    "```\n",
    "# add two variables together\n",
    "x = 50 # assign 50 to variable x.\n",
    "y = 12 # assign 12 to variable y.\n",
    "x + y  # add value in x to the value in y and the value x + y is displayed when you run the code cell.\n",
    "\n",
    "# Subtract y from x\n",
    "x - y\n",
    "\n",
    "# Multiply two variables\n",
    "x * y\n",
    "\n",
    "# Divide y into x\n",
    "x / y\n",
    "\n",
    "# Returns only the whole part following division; floor division\n",
    "x // y\n",
    "\n",
    "# Modulus: returns the remainder after division\n",
    "x % y\n",
    "\n",
    "# Exponents\n",
    "x ** y\n",
    "```\n",
    "\n",
    "# Question 3\n",
    "1. In the code cell below, enter `a =` and assign it the value of `100`.\n",
    "2. In the code cell below, enter `b =` and assign it a value of `24`.\n",
    "3. In the code cell enter `a + b` and run the code cell by hitting the ![image.png](attachment:image.png)run button.\n",
    "4. **124** will appear below the code cell.\n",
    "5. In the code cell labelled # Subtract two variables, a - b.\n",
    "6. In the code cell labelled # Multiply two variables, a * b.\n",
    "7. In the code cell labelled # Divide two variables, a / b.\n",
    "8. In the code cell labelled # Returns only the whole part following division; floor division, a // b.\n",
    "9. In the code cell labelled # Modulus: return the remainder after division, a % b.\n",
    "10. In the code cell labelled # Exponents raise a to the b power, a**b.\n"
   ]
  },
  {
   "cell_type": "code",
   "execution_count": null,
   "metadata": {
    "id": "vghFPtVwIq6p"
   },
   "outputs": [],
   "source": [
    "# Add two variables\n",
    "\n",
    "\n",
    "\n"
   ]
  },
  {
   "cell_type": "code",
   "execution_count": null,
   "metadata": {
    "id": "Ezk-8vHAbYIS"
   },
   "outputs": [],
   "source": [
    "# Subtract two variables\n",
    "\n",
    "\n"
   ]
  },
  {
   "cell_type": "code",
   "execution_count": null,
   "metadata": {
    "id": "IFlqivjpbbLl"
   },
   "outputs": [],
   "source": [
    "# Multiply two variables\n",
    "\n",
    "\n"
   ]
  },
  {
   "cell_type": "code",
   "execution_count": null,
   "metadata": {
    "id": "MAp6TVRtdQdU"
   },
   "outputs": [],
   "source": [
    "# Divide b into a\n",
    "\n",
    "\n"
   ]
  },
  {
   "cell_type": "code",
   "execution_count": null,
   "metadata": {
    "id": "lW9pqAGbdVDK"
   },
   "outputs": [],
   "source": [
    "# Returns only the whole part following division; floor division\n",
    "\n",
    "\n"
   ]
  },
  {
   "cell_type": "code",
   "execution_count": null,
   "metadata": {
    "id": "VuzsPWwqdcHA"
   },
   "outputs": [],
   "source": [
    "# Modulus: return the remainder after division\n",
    "\n",
    "\n"
   ]
  },
  {
   "cell_type": "code",
   "execution_count": null,
   "metadata": {
    "id": "SMwCqoZSiKpb"
   },
   "outputs": [],
   "source": [
    "# Exponents raise a to the b power\n",
    "\n",
    "\n"
   ]
  },
  {
   "cell_type": "code",
   "execution_count": null,
   "metadata": {
    "id": "iXd6eJMP89S4"
   },
   "outputs": [],
   "source": []
  },
  {
   "cell_type": "markdown",
   "metadata": {
    "id": "D7arvHnRiXHC"
   },
   "source": [
    "# Data Types\n",
    "Variables can store a number(integer or float) or different types of data.\n",
    "```\n",
    "my_Name = \"JoEllen Green - 234!*$?\"  # this is a string.  \n",
    "\n",
    "```\n",
    "Within the double or single quotes you can list any alphanumeric values and other characters.  When the code cell is run the answer will be str.\n",
    "\n",
    "```\n",
    "age = 45\n",
    "```\n",
    "The numeric value can be either discrete (integer) or continuous (float).  The variable age contains an integer variable.  The results will be int.\n",
    "```\n",
    "years_of_service = 1.3\n",
    "```\n",
    "The data type of the variable years_of_service is float.  The results will be float.\n",
    "\n",
    "```\n",
    "ans = True\n",
    "```\n",
    "The data type of the variable ans is boolean.  Boolean values are True or False.\n",
    "\n",
    "\n",
    "To find the data type of a variable use the following command.\n",
    "```\n",
    "type(my_Name)\n",
    "```\n",
    "\n",
    "# Question 4\n",
    "Find the data type for each variable below.\n",
    "```\n",
    "lastNane = \"Green\"\n",
    "my_age = 34\n",
    "my_work_service = 12.56\n",
    "is_Negative = True\n",
    "```\n",
    "If you want to put all the results in one code cell, use the print statement to display all the results.\n",
    "```\n",
    "print(type(my_Name))\n",
    "print(type(age))\n",
    "print(type(years_of_service))\n",
    "print(type(ans))\n",
    "```"
   ]
  },
  {
   "cell_type": "code",
   "execution_count": null,
   "metadata": {
    "id": "Ey-QxZjP2Whn"
   },
   "outputs": [],
   "source": [
    "# Question 4\n"
   ]
  },
  {
   "cell_type": "markdown",
   "metadata": {
    "id": "HcLvfwgr6JLB"
   },
   "source": [
    "# String variables and print out\n",
    "You can also format the output to display the data within a sentence using the format statement within a print command.\n",
    "\n",
    "```\n",
    "print(f\"My name is {my_Name}.  Are you okay?\")\n",
    "```\n",
    "It will display\n",
    "```\n",
    "My name is JoEllen.  Are you okay?\n",
    "```\n",
    "# Question 5\n",
    "1. Assign your name to the variable my_Name.\n",
    "2. Assign you age to the variable age.\n",
    "3. Assign the number years you have been working or going to school to the variable years_of_service.\n",
    "4. Create the print statements that will display the statements below.\n",
    "\n",
    "\n",
    "My name is {my_Name}. <br>\n",
    "Hello world! I am ready.<br>\n",
    "My age is {age}. I am an adult.<br>\n",
    "My years of service at my job is {years_of_service}.<br>\n",
    "My statements are {ans}.\n",
    "```"
   ]
  },
  {
   "cell_type": "code",
   "execution_count": null,
   "metadata": {
    "id": "8FRY4Lr6_A7T"
   },
   "outputs": [],
   "source": [
    "# Question 5\n"
   ]
  },
  {
   "cell_type": "markdown",
   "metadata": {
    "id": "K7kODhe9ZQ_7"
   },
   "source": [
    "# Input values in Python\n",
    "Sometimes, you will need your user to input some information that you will process.  In that case, you will use the input command. The command to ask the user to input data in your Python program is listed below.  The command ask the user to enter their name and stores what you enter into the variable name.  The result will be a string value.\n",
    "\n",
    "```\n",
    "name = input(\"What is your name? \")\n",
    "print(f\"Hello, {name}!\")\n",
    "```\n",
    "If your name is Amy, it prints out the statement.\n",
    "\n",
    "```\n",
    "Hello, Amy!\n",
    "```\n",
    "To change the string to a continuous value use the float function.<br>\n",
    "x = Input(\"What is your age?\")   # put a string value in the variable x<br>\n",
    "y = float(x)   # changes a string to a float.  If the x is not a number the result will be an error.\n",
    "\n",
    "\n",
    "# Question 6\n",
    "1. Prompt the user to **Enter your first name**.\n",
    "2. Store the name entered into the variable name.\n",
    "3. Write the name variable on the next line to view the name that was entered."
   ]
  },
  {
   "cell_type": "code",
   "execution_count": null,
   "metadata": {
    "colab": {
     "base_uri": "https://localhost:8080/",
     "height": 53
    },
    "executionInfo": {
     "elapsed": 3371,
     "status": "ok",
     "timestamp": 1734757502474,
     "user": {
      "displayName": "JoEllen Green",
      "userId": "07714308601771350919"
     },
     "user_tz": 480
    },
    "id": "Z4snmPRBe5FN",
    "outputId": "7dcbdb10-7eca-458d-f88c-103965eb4306"
   },
   "outputs": [],
   "source": [
    "# Question 6\n"
   ]
  },
  {
   "cell_type": "markdown",
   "metadata": {
    "id": "NfaaTIv4_J7_"
   },
   "source": [
    "# Conditional Statements\n",
    "Python also has statements that are executed based on the value in the variable.  They are called conditional statements.  They start with the statement if and you enter a condition that will allow the following statement to be executed.  You can also have an else statement that will execute if the condition is not satisfied.  \n",
    "\n",
    "```\n",
    "age = 23\n",
    "if age < 18:\n",
    "    print(\"A minors\")\n",
    "else:\n",
    "    print(\"An Adult.\")\n",
    "```\n",
    "\n",
    "The result will be\n",
    "```\n",
    "An Adult.\n",
    "```\n",
    "\n",
    "You can create a number of different conditions by using the elif statement after the if statement if you have a more than three conditions.  In the example below, there are **four conditions(age < 10; age < 13; age < 18; or age >= 18)**.\n",
    "\n",
    "```\n",
    "if age < 10:\n",
    "   print(\"child\")\n",
    "elif age < 13:\n",
    "   print(\"preteen\")\n",
    "elif age < 18:\n",
    "   print(\"teenage\")\n",
    "else:\n",
    "   print(\"adult\")\n",
    "```\n",
    "\n",
    "The indents should be at least four spaces from where the if statement starts.\n",
    "\n",
    "# Question 7\n",
    "Create an if statement what would assign 32 to y the age.  Then create a conditional statement that will test if y is less than 18 and print Minor.  If y is less than 21 print You can vote and cannot drink.  If the y is less than 30 print You are a young adult.  If y is less than 43 print You are part of the Millennials.  If y is less than 59 print You are part of Generation X."
   ]
  },
  {
   "cell_type": "code",
   "execution_count": null,
   "metadata": {
    "id": "Zr-Pt_neAv-W"
   },
   "outputs": [],
   "source": [
    "# Question 7\n"
   ]
  },
  {
   "cell_type": "markdown",
   "metadata": {
    "id": "sHhW0mvQEaX3"
   },
   "source": [
    "# Functions\n",
    "Functions are sections of code that can be run multiple times by only calling the function name and providing any information the function needs to run the function.\n",
    "<br>\n",
    "For example: If I wanted a program to say Greeting Pamela!, Greeting Sam!, and Greeting Julia!.\n",
    "\n",
    "I could write the code as follows:\n",
    "```\n",
    "name = \"Pamela\"\n",
    "print(f\"Greetings {name}!\")\n",
    "print(\"How are you?\")\n",
    "\n",
    "name = \"Sam\"\n",
    "print(f\"Greetings {name}!\")\n",
    "print(\"How are you?\")\n",
    "\n",
    "name = \"Julia\"\n",
    "print(f\"Greetings {name}!\")\n",
    "print(\"How are you?\")\n",
    "```\n",
    "Instead of using the print statements over and over again, we can create a function that will ask for the first name and store it in the variable name.  Then it will print out a greeting to the person with their name stored in the variable name.  \n",
    "\n",
    "```\n",
    "def greet_them():\n",
    "    name = input(\"What is your name? \")\n",
    "    return print(f\"Greetings {name}!\")\n",
    "   \n",
    "\n",
    "\n",
    "```\n",
    "Next, you can run the greet_them function.\n",
    "\n",
    "```\n",
    "greet_them()\n",
    "\n",
    "greet_them()\n",
    "\n",
    "greet_them()\n",
    "\n",
    "```\n",
    "The functions below are created not using no parameter, one parameter, and two parameters.  What is a parameter?  It is a variable you are passing to the function so it can perform a calculation or process the values or strings in the function.  The functions below you will use to answer the next question.  To tell Python you are about define a function start out with def.  Then indent the statements that are in the function.\n",
    "```\n",
    "def greetings():\n",
    "    return print(\"Greetings friend!\")\n",
    "\n",
    "def greet_someone(name):\n",
    "   return print(f\"Greetings {name}!\")\n",
    "\n",
    "import numpy as np  # Numpy library (Math functions)\n",
    "\n",
    "def sales_tax(amount, tax_rate):\n",
    "  return np.round(amount*tax_rate/100, 2)\n",
    "```\n",
    "\n",
    "# Question 8\n",
    "1. In the code cell below enter the functions **(greetings(), greet_someone(name), and sales_tax(amount, tax_rate))** in the code cell.\n",
    "2. Set the variable name to Helen.\n",
    "3. Set the variable amount to 10000.\n",
    "4. Set the variable tax_rate to 6.5.\n",
    "5. Then run each function by entering the function name in the code cell.\n",
    " Then hit the run button.\n",
    "\n",
    "```\n",
    "greetings()\n",
    "\n",
    "name = \"Helen\"\n",
    "greet_someone(name)\n",
    "\n",
    "amount = 10000\n",
    "tax_rate 6.5\n",
    "sales_tax(amount, tax_rate)\n",
    "```\n"
   ]
  },
  {
   "cell_type": "code",
   "execution_count": null,
   "metadata": {
    "id": "OXP2bL99SWYK"
   },
   "outputs": [],
   "source": [
    "# Question 8\n",
    "\n"
   ]
  },
  {
   "cell_type": "markdown",
   "metadata": {
    "id": "U04wFMINEaNB"
   },
   "source": [
    "# Strings\n",
    "A string is a series of characters(special characters, letters, and numbers).  You can access each character or group of characters in the string.  You can add two strings together to form another string. \n",
    "\n",
    "## Accessing a subset of characters in the string.\n",
    "String index starts at 0 and ends at the length of the string minus one (len(string)-1).  \n",
    "```\n",
    "name = \"JoEllen Green\"\n",
    "name[0:7]\n",
    "```\n",
    "**The output is 'JoEllen'**\n",
    "\n",
    "To find a substring in the string you would use the following Python commands.  Find the last name in the string name.\n",
    "\n",
    "```\n",
    "index = name.find(\"Green\")\n",
    "last_name = name[index:len(name)]\n",
    "last_name\n",
    "```\n",
    "To put strings together we **concatenate** them\n",
    "```\n",
    "first_name = 'Jospeh'\n",
    "middle_name = 'Daniel'\n",
    "last_name ='Kelley'\n",
    "\n",
    "full_name = first_name+\" \"+middle_name+\" \"+last_name\n",
    "full_name\n",
    "```\n",
    "**The output is 'Joseph Daniel Kelley'**<br>\n",
    "You can make all characters lower case by using the following commands\n",
    "```\n",
    "full_name.lower()\n",
    "```\n",
    "**The output is 'jospeh daniel kelley'**<br>\n",
    "To make all character upper case by using the following commands\n",
    "```\n",
    "full_name.upper()\n",
    "```\n",
    "**The output is 'JOSPEH DANIEL KELLEY'**<br>\n",
    "To replace a value in the string.\n",
    "```\n",
    "price = \"$456.78\"\n",
    "price = price.replace(\"$\",\"\")\n",
    "priceDollar = float(price)\n",
    "priceDollar\n",
    "```\n",
    "**The output is 456.78**<br>\n",
    "\n",
    "\n",
    "\n",
    "\n",
    "# Question 9\n",
    "<br>\n",
    "1. In the cell below, create a string with the first, middle, and last name in the variable full_name.\n",
    "2. In the cell below, find the index of the middle name and put it in index1.\n",
    "3. In the cell below, find the index of the last name and put it in index2.\n",
    "4. In the cell below, assign the middle name to the variable, middle_name.\n",
    "5. In the cell below, print out the middle name."
   ]
  },
  {
   "cell_type": "code",
   "execution_count": null,
   "metadata": {},
   "outputs": [],
   "source": [
    "# Question 9\n"
   ]
  },
  {
   "cell_type": "code",
   "execution_count": null,
   "metadata": {},
   "outputs": [],
   "source": [
    "# Question 9\n",
    "name = \"JoEllen Denise Green\"\n",
    "index1 = name.find('Denise')\n",
    "index2 = name.find('Green')\n",
    "middle_name = name[index1:index2-1]\n",
    "middle_name"
   ]
  },
  {
   "cell_type": "markdown",
   "metadata": {
    "id": "iunuYvUuY2Sx"
   },
   "source": [
    "# Repeating the processing of statements\n",
    "When you need to repeat a statement multiple times like the greet_them() function.  You can use a looping statement to repeat the process a number of times.  The for command in Python can be used to repeat processing a statement a number of times.  The statement np.arange(0, 3) creates values 0, 1, and 2.  It starts at 0 and stops short of 3.  Therefore, the statements in the for loop will repeat 3 times.\n",
    "\n",
    "```\n",
    "for i in np.arange(0, 3):\n",
    "   greet_them()\n",
    "```\n",
    "\n",
    "**For Example**\n",
    "\n",
    "<table ><tr><th >Item <th><th> Price <th><tr>\n",
    "<tr><td> Milk <td><td> 3.96 <td><tr>\n",
    "<tr><td> Bread <td><td> 3.54 <td><tr>\n",
    "<tr><td> Sandwich Meat <td><td> 6.23 <td><tr>\n",
    "<table>\n",
    "\n",
    "1. Write the following statement to import Numpy library.\n",
    "```\n",
    "import numpy as np\n",
    "```\n",
    "\n",
    "2. Create a variable named total and assign it the value 0.\n",
    "2. Create a for loop that requests the cost for each of the 3 items.\n",
    "3. Create a variable called prompt that Use the input statement to enter the cost of each item.\n",
    "4. Add the cost to a total variable.\n",
    "5. Print out the total of the items.\n",
    "\n",
    "```\n",
    "total = 0\n",
    "for i in np.arange(0, 3):\n",
    "    cost = input(\"What is the cost of item {i})\n",
    "    total = total + cost\n",
    "\n",
    "print(f\"The total cost is {total}\")\n",
    "```\n",
    "When you finish the statements that should be repeated in the loop you change the indent to be equal with the for statment.  All statement aligned with the for statement will be processed outside of the for loop.\n",
    "    \n",
    "# Question 10\n",
    "1. In the cell below, set total =  120.0.\n",
    "2. In the cell below, create a for loop that repeats 0 to 4.\n",
    "3. In the cell below, request the cost of items 0 to 4.\n",
    "4. In the cell below, add the cost to the total variable.\n",
    "5. In the cell below, print out the total cost.\n",
    "    "
   ]
  },
  {
   "cell_type": "code",
   "execution_count": null,
   "metadata": {
    "id": "E7JC0xCQBJyv"
   },
   "outputs": [],
   "source": [
    "# Question 10\n"
   ]
  },
  {
   "cell_type": "markdown",
   "metadata": {
    "id": "meLGcXPxMg_7"
   },
   "source": [
    "# List\n",
    "List are a structure in Python that holds more than one item.  A list can be a list of names.\n",
    "\n",
    "```\n",
    "L1 = ['Billy', 'Laton', 'Jackie', 'Larry', 'Jolanda', 'Jocasta']\n",
    "```\n",
    "<table>\n",
    "  <thead>\n",
    "    <tr><td>Item #</th><td>1st</th><td>2nd</td><td>3rd</td><td>4th</td><td>5th</td><td>6th</td></tr>\n",
    "  </thead>\n",
    "  <tbody>\n",
    "    <tr><td>L1</td><td>Billy</td><td>Laton</td><td>Jackie</td><td>Larry</td><td>Jolanda</td><td>Jocasta</td></tr>\n",
    "    <tr><td>Index #</td><td>0</td><td>1</td><td>2</td><td>3</td><td>4</td><td>5</td></tr>\n",
    "  </tbody>\n",
    "</table>\n",
    "\n",
    "To access the item in the List, you will use the Index #.  For example, if you wanted the 4th item you would use L1[3].  To get the first item, you would use L1[0].  To get a subset of items you would use the following commands.\n",
    "- first through third element: L1[0:3] or L1[::3]\n",
    "- second through 5th element:  L1[1:6] or L1[1::]\n",
    "- first through fourth element: L1[0:5] or L1[::5]\n",
    "- third to the end of the list: L1[2:] or L1[2:6] note the 6 is one more than the last index.\n",
    "- from the 5th to the end of the list: L1[4:] or L1[4:7]\n",
    "\n",
    "Or the List can be a group of information related to one item.  For example, **Billy Turner** can be the person whose **age is 34** and the **salary is 67000 dollars**.  The **years of service is 16.96 years** and Billy is a **fulltime employee**.  Notice not all the types of information in the list, L2, is the same.  It contains strings, integers, and floating point values.\n",
    "\n",
    "\n",
    "# Question 11\n",
    "1. Enter the list below in the code cell.\n",
    "```\n",
    "L2 = ['Billy', 'Turner', 34, 67000, 16.96, 'FT']\n",
    "```\n",
    "2. Find the first through third element;\n",
    "3. Create a new code cell and find the second through 5th element;\n",
    "4. Create a new code cell and find the first through fourth element;\n",
    "5. Find the third to the end of the list; and\n",
    "6. Find the 5th to the end of the list.\n",
    "\n"
   ]
  },
  {
   "cell_type": "code",
   "execution_count": null,
   "metadata": {
    "colab": {
     "base_uri": "https://localhost:8080/"
    },
    "executionInfo": {
     "elapsed": 116,
     "status": "ok",
     "timestamp": 1734839118194,
     "user": {
      "displayName": "JoEllen Green",
      "userId": "07714308601771350919"
     },
     "user_tz": 480
    },
    "id": "NZtceiMOQ5TW",
    "outputId": "2c54f29a-b296-4f09-fbeb-f172fb212596"
   },
   "outputs": [],
   "source": [
    "# Question 11\n",
    "\n"
   ]
  }
 ],
 "metadata": {
  "colab": {
   "authorship_tag": "ABX9TyPMgYXkHker06q40CQE2y5f",
   "provenance": []
  },
  "kernelspec": {
   "display_name": "Python 3 (ipykernel)",
   "language": "python",
   "name": "python3"
  },
  "language_info": {
   "codemirror_mode": {
    "name": "ipython",
    "version": 3
   },
   "file_extension": ".py",
   "mimetype": "text/x-python",
   "name": "python",
   "nbconvert_exporter": "python",
   "pygments_lexer": "ipython3",
   "version": "3.10.11"
  }
 },
 "nbformat": 4,
 "nbformat_minor": 4
}
