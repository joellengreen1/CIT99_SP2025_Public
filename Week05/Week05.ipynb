{
 "cells": [
  {
   "cell_type": "markdown",
   "id": "517b5605",
   "metadata": {},
   "source": [
    "# Week 5 - Regression Models\n",
    "Since we are trying to predict total price as a continuous value, we will fit a regression model.  There are several different models.  \n",
    "- **Multiple Linear Regression**\n",
    "- **Ridge Regression Model** fits the model by keeping the weights as close to zero as possible.  We must scale all numeric features to prevent large values from dominating the model.\n",
    "  1.  Ridge regression fixes overfitting.\n",
    "  2.  Ridge Regression adds a penalty to prevent the model from relying too much on certain features and smoothes out the model.\n",
    "\n",
    "- The **Lasso Regression Model** fits the model by causing some weights to be zero. We must scale the numeric features.\n",
    "  1.  Lasso Removes Useless Features (Makes the model simpler).\n",
    "  2.  Helps When There Are Too Many Variables.\n",
    "  3.  It prevents overfitting like Ridge, but it also does feature selection!\n",
    " \n",
    "- **Elastic Net Regression**\n",
    "  1.  Combination of Ridge and Lasso Regression\n",
    "  2.  Reduces Overfitting while removing useless features\n",
    "  3.  Works best when many features are correlated\n",
    "\n",
    "- **Random Forest Regressor**\n",
    "  1.  When the model is not good, a random forest regressor can be used to improve it.\n",
    "  \n",
    "This week, you will create all the models above using the Boston Housing Data. We will also evaluate the models using cross-validation.\n",
    "\n",
    "Cross-validation occurs when we divide the training data set into k different parts.  We then train the model using K-1 different parts of the training data and use the last part to test the data, which is a validation data set.  K-Fold Cross-validation method creates the model k times using (k-1)/k of the training data set.  The model generated uses one kth part of the training data set to determine whether the model generated fits unknown data.  The final step is to average the k metric to evaluate the model.\n",
    "\n",
    "**How to decide the number of folds**\n",
    "\n",
    "- **5 or 10 folds is a good default.**\n",
    "- **Smaller datasets need larger K (e.g., K=10).**\n",
    "- **Larger datasets can use smaller K (e.g., K=3-5).**\n",
    "- **Always balance accuracy vs. training time!**\n",
    "\n",
    "Run the code cell below."
   ]
  },
  {
   "cell_type": "code",
   "execution_count": null,
   "id": "27051bc6",
   "metadata": {},
   "outputs": [],
   "source": [
    "# Load Libraries run this code as is\n",
    "import numpy as np\n",
    "import pandas as pd\n",
    "import matplotlib.pyplot as plt\n",
    "import seaborn as sns\n",
    "\n",
    "from sklearn.pipeline import Pipeline\n",
    "from sklearn.pipeline import make_pipeline\n",
    "from sklearn.impute import SimpleImputer\n",
    "from sklearn.preprocessing import StandardScaler, OneHotEncoder\n",
    "from sklearn.compose import ColumnTransformer, TransformedTargetRegressor\n",
    "from sklearn.model_selection import KFold, cross_val_score, GridSearchCV\n",
    "from sklearn.linear_model import LinearRegression, Ridge, Lasso, ElasticNet\n",
    "from sklearn.ensemble import RandomForestRegressor\n",
    "from sklearn.metrics import mean_squared_error, r2_score\n",
    "from sklearn.preprocessing import QuantileTransformer \n"
   ]
  },
  {
   "cell_type": "markdown",
   "id": "96bb0896",
   "metadata": {},
   "source": [
    "# Read Data set\n",
    "\n",
    "```\n",
    "df = pd.read_csv('train_boston.csv')\n",
    "df1 = pd.read_csv(\"test_boston.csv\")\n",
    "\n",
    "```\n",
    "\n",
    "\n",
    "# Question 1\n",
    "1. Read in the training data set into the \n",
    "2. Read in the test data set.\n"
   ]
  },
  {
   "cell_type": "code",
   "execution_count": null,
   "id": "b2710852",
   "metadata": {},
   "outputs": [],
   "source": [
    "# Question 1  - 1)\n"
   ]
  },
  {
   "cell_type": "code",
   "execution_count": null,
   "id": "3c017413",
   "metadata": {},
   "outputs": [],
   "source": [
    "# Question 1  - 2)\n"
   ]
  },
  {
   "cell_type": "markdown",
   "id": "581e9427",
   "metadata": {},
   "source": [
    "# Separate feature and target value for training and test data sets\n",
    "```\n",
    "X = df.drop('target column'. axis=1)\n",
    "y = df['target column']\n",
    "\n",
    "X_test = df1.drop('target column', axis=1)\n",
    "y_test = df1['target column']\n",
    "```\n",
    "\n",
    "# Question 2\n",
    "1. Create the feature dataframe for training data set.\n",
    "2. Create the target dataframe for training data set.\n",
    "3. Create the feature dataframe for testing data set.\n",
    "4. Create the target dataframe for the testing data set."
   ]
  },
  {
   "cell_type": "code",
   "execution_count": null,
   "id": "52149c0b",
   "metadata": {},
   "outputs": [],
   "source": [
    "# Question 2  - 1)\n"
   ]
  },
  {
   "cell_type": "code",
   "execution_count": null,
   "id": "4bffeeb9",
   "metadata": {},
   "outputs": [],
   "source": [
    "# Question 2  - 2)\n"
   ]
  },
  {
   "cell_type": "code",
   "execution_count": null,
   "id": "39898ae3",
   "metadata": {},
   "outputs": [],
   "source": [
    "# Question 2  - 3)\n"
   ]
  },
  {
   "cell_type": "code",
   "execution_count": null,
   "id": "ee05a6ee",
   "metadata": {},
   "outputs": [],
   "source": [
    "# Question 2  - 4)\n"
   ]
  },
  {
   "cell_type": "markdown",
   "id": "a099578b",
   "metadata": {},
   "source": [
    "# Create a pipeline \n",
    "For numeric features the pipeline will deal with missing values and standardization.  For categorical (string) features the pipeline will deal with missing values and onehot encoder.\n",
    "\n",
    "```\n",
    "num_feature_cols = df.select_dtypes(include=[np.number]).columns\n",
    "cat_feature_cols = df.select_dtypes(include=['object']).columns\n",
    "\n",
    "num_transformer = Pipeline([\n",
    "    ('imputer', SimpleImputer(strategy='median')),  # Fill missing numeric values with median\n",
    "    ('scaler', StandardScaler(),  # Scale the data values (x - mean)/standard deviation\n",
    "    ('normal', QuantileTransformer(output_distribution='normal'))   # transform data to normal distribution                 \n",
    "])\n",
    "\n",
    "cat_transformer = Pipeline([\n",
    "    ('imputer', SimpleImputer(strategy='most_frequent')),  # Fill missing categorical values\n",
    "    ('encoder', OneHotEncoder(handle_unknown='ignore'))  # One-hot encode categorical data\n",
    "])\n",
    "\n",
    "\n",
    "```\n",
    "\n",
    "\n",
    "# Question 3\n",
    "1. Create a list of column names for numeric features and store it in the variable numeric_features.\n",
    "2. Create a list of column names for categorical features and store it in the variable categorical_features.\n",
    "3. Create a Pipeline for for numeric data replacing the missing data with the median, StandardScaler, and Transform data to normal distribution. Assign it to the variable numeric_transformer.\n",
    "4. Create a Pipeline for the categorical data replacing the missing data with the most_frequent and onehot encoder.  Assign it to the variable categorical_transformer.\n",
    "5. Create the preprocessor ColumnTransformer with the numeric_transformer, categorical_transformer."
   ]
  },
  {
   "cell_type": "code",
   "execution_count": null,
   "id": "d481a8e9",
   "metadata": {},
   "outputs": [],
   "source": [
    "# Question 3  - 1)\n"
   ]
  },
  {
   "cell_type": "code",
   "execution_count": null,
   "id": "544fe37c",
   "metadata": {},
   "outputs": [],
   "source": [
    "# Question 3  - 2)\n"
   ]
  },
  {
   "cell_type": "code",
   "execution_count": null,
   "id": "a8aa7ee5",
   "metadata": {},
   "outputs": [],
   "source": [
    "# Question 3  - 3)\n"
   ]
  },
  {
   "cell_type": "code",
   "execution_count": null,
   "id": "a288839d",
   "metadata": {},
   "outputs": [],
   "source": [
    "# Question 3  - 4)\n"
   ]
  },
  {
   "cell_type": "code",
   "execution_count": null,
   "id": "b6174e13",
   "metadata": {},
   "outputs": [],
   "source": [
    "# Question 3  - 5)\n"
   ]
  },
  {
   "cell_type": "markdown",
   "id": "d96cb03e",
   "metadata": {},
   "source": [
    "# Fitting a Multiple Linear Regression\n",
    "Create the linear regression model pipeline using the code below.\n",
    "\n",
    "```\n",
    "# Create a pipeline for a linear regression model\n",
    "\n",
    "ln_reg =make_pipeline(preprocessor, TransformedTargetRegressor(LinearRegression(), transformer=StandardScaler()))\n",
    "\n",
    "# fit a linear regression model\n",
    "ln_reg.fit(X,y)\n",
    "\n",
    "# predict the linear regression model\n",
    "y_pred = ln_reg.predict(X)\n",
    "\n",
    "# Create the metric mean-squared error for linear regression\n",
    "ln_reg_rmse_train = mean_squared_error(y, y_pred, squared=False)\n",
    "\n",
    "# predict results using the X-test set\n",
    "y_pred_test = ln_reg.predict(X_test)\n",
    "\n",
    "# Create the metric mean-squared error for linear regression\n",
    "ln_reg_rmse_test = mean_squared_error(y_test, y_pred_test, squared=False)\n",
    "\n",
    "# print out the mulitple regression mse for the training and test data sets\n",
    "print(\"Training \", ln_reg_rmse_train)\n",
    "print(\"Testing  \", ln_reg_rmse_test)\n",
    "\n",
    "# run cross-validation for training and test data sets\n",
    "ln_rmses_cv = -cross_val_score(ln_reg, X, y, scoring=\"neg_root_mean_squared_error\", cv=10)\n",
    "ln_rmses_cv_test = -cross_val_score(ln_reg, X_test, y_test, scoring=\"neg_root_mean_squared_error\", cv=10)\n",
    "\n",
    "# print out cross validation results\n",
    "print(\"train data set MSE\")\n",
    "print(pd.Series(ln_rmses_cv).describe())\n",
    "print(\"\\ntest data set MSE\")\n",
    "print(pd.Series(ln_rmses_cv_test).describe())\n",
    "\n",
    "```\n",
    "\n",
    "# Question 4\n",
    "1. Create a pipeline for a linear regression model assign it to a variable name lin_reg.\n",
    "2. Fit the lin_reg model with X and y.\n",
    "3. Predict the lin_reg model using X assignment to the variable y_pred.\n",
    "4. Create the metric mean_squared_error for the linear regression model and assign it to the variable lin_reg_rmse.\n",
    "5. Predict the lin_reg model using X_test assignment to the variable y_pred_test.\n",
    "6. Create the metric mean_squared_error for the linear regression model and assign it to the variable lin_reg_rmse_test.\n",
    "7. Print out the Training lin_reg_rmse and Testing lin_reg_rmse_test in one code cell.\n",
    "8. Run the cross-validation for the training and test data set.  Assign the results to lin_rmses_cv and lin_rmses_cv_test.  Besure to change ln_reg to lin_reg.\n",
    "9. In one code cell print out the cross-valation results."
   ]
  },
  {
   "cell_type": "code",
   "execution_count": null,
   "id": "dad761a2",
   "metadata": {},
   "outputs": [],
   "source": [
    "# Question 4  - 1)\n"
   ]
  },
  {
   "cell_type": "code",
   "execution_count": null,
   "id": "d963bc7d",
   "metadata": {},
   "outputs": [],
   "source": [
    "# Question 4  - 2)\n"
   ]
  },
  {
   "cell_type": "code",
   "execution_count": null,
   "id": "358fd94b",
   "metadata": {},
   "outputs": [],
   "source": [
    "# Question 4  - 3)\n"
   ]
  },
  {
   "cell_type": "code",
   "execution_count": null,
   "id": "fde59035",
   "metadata": {},
   "outputs": [],
   "source": [
    "# Question 4  - 4)\n"
   ]
  },
  {
   "cell_type": "code",
   "execution_count": null,
   "id": "b414fde9",
   "metadata": {},
   "outputs": [],
   "source": [
    "# Question 4  - 5)\n"
   ]
  },
  {
   "cell_type": "code",
   "execution_count": null,
   "id": "2d266020",
   "metadata": {},
   "outputs": [],
   "source": [
    "# Question 4  - 6)\n"
   ]
  },
  {
   "cell_type": "code",
   "execution_count": null,
   "id": "af1364dc",
   "metadata": {},
   "outputs": [],
   "source": [
    "# Question 4  - 7)\n"
   ]
  },
  {
   "cell_type": "code",
   "execution_count": null,
   "id": "ed531abf",
   "metadata": {},
   "outputs": [],
   "source": [
    "# Question 4  - 8)\n"
   ]
  },
  {
   "cell_type": "code",
   "execution_count": null,
   "id": "eef10425",
   "metadata": {},
   "outputs": [],
   "source": [
    "# Question 4  - 9)\n"
   ]
  },
  {
   "cell_type": "markdown",
   "id": "fd3a0537",
   "metadata": {},
   "source": [
    "The MSE of 397.9 is not very good for the total_price which ranges from 60 to 1440. As a result, the data used to predict the total_price does not provide enough information to make a prediction.  We will look at other regression models to see if there is any improvement."
   ]
  },
  {
   "cell_type": "markdown",
   "id": "4a3ca72b",
   "metadata": {},
   "source": [
    "# Ridge Regression\n",
    "A regression model that uses weights close to zero to prevent overfitting. This model uses a parameter alpha which will be set to 0.1 for this example and matrix factorization technique by sag.\n",
    "\n",
    "```\n",
    "# create the pipeline for ridge regression\n",
    "rid_reg = make_pipeline(preprocessor, TransformTargetRegressor(Ridge(alpha=0.1, solver=\"sag\", \n",
    "                                       transformer=StandardScaler())))\n",
    "\n",
    "# fit the ridge regression model\n",
    "rid_reg.fit(X,y)\n",
    "\n",
    "# predict the training set results\n",
    "y_pred_rid_reg = rid_reg.predict(X)\n",
    "\n",
    "# metrics from the ridge regression training set\n",
    "rid_rmse_train = mean_squared_error(y, y_pred_rid_reg, squared=False)\n",
    "\n",
    "# predict the test set results\n",
    "rid_reg.predict(X_test)\n",
    "y_pred_test_rid_test = rid_reg.predict(X_test)\n",
    "\n",
    "# metrics from the ridge regression test set\n",
    "rid_reg_rmse_test = mean_squared_error(y_test, y_pred_test_rid_test, squared=False)\n",
    "\n",
    "# pring out the metrics for training and test set\n",
    "print(\"Training \", rid_rmse_train)\n",
    "print(\"Testing  \", rid_reg_rmse_test)\n",
    "\n",
    "# Cross Validation K-Fold where K=10 fold\n",
    "rid_rmses_cv = -cross_val_score(rid_reg, X, y, scoring=\"neg_root_mean_squared_error\", cv=10)\n",
    "rid_rmses_cv_test = -cross_val_score(rid_reg, X_test, y_test, scoring=\"neg_root_mean_squared_error\", cv=10)\n",
    "\n",
    "# print the cross validation results\n",
    "print(\"Ridge Regression - train data set MSE\")\n",
    "print(pd.Series(rid_rmses_cv).describe())\n",
    "print(\"\\nRidge Regression - test data set MSE\")\n",
    "print(pd.Series(rid_rmses_cv_test).describe())\n",
    "\n",
    "````\n",
    "\n",
    "# Question 5\n",
    "1. Create a pipeline for a ridge regression model assign it to a variable name ridge_reg.\n",
    "2. Fit the ridge_reg model with X and y.\n",
    "3. Predict the ridge_reg model using X assignment to the variable y_pred.\n",
    "4. Create the metric mean_squared_error for the ridge regression model and assign it to the variable ridge_reg_rmse_train.\n",
    "5. Predict the ridge_reg model using X_test assignment to the variable y_pred_test.\n",
    "6. Create the metric mean_squared_error for the ridge regression model and assign it to the variable ridge_reg_rmse_test.\n",
    "7. Print out the Training ridge_reg_rmse and Testing ridge_reg_rmse_test in one code cell.\n",
    "8. Run the cross-validation for the training and test data set in one code cell. Besure to change rid_reg to ridge_reg.\n",
    "9. In one code cell print out the cross-valation results.  Besure to change the rid_rmses_cv to ridge_rmses_cv and rid_rmses_cv_test to ridg_rmse_cv_test."
   ]
  },
  {
   "cell_type": "code",
   "execution_count": null,
   "id": "99e80ef1",
   "metadata": {},
   "outputs": [],
   "source": [
    "# Question 5 - 1)\n"
   ]
  },
  {
   "cell_type": "code",
   "execution_count": null,
   "id": "eaaaa909",
   "metadata": {},
   "outputs": [],
   "source": [
    "# Question 5 - 2)\n"
   ]
  },
  {
   "cell_type": "code",
   "execution_count": null,
   "id": "03c3b9d8",
   "metadata": {},
   "outputs": [],
   "source": [
    "# Question 5 - 3)\n"
   ]
  },
  {
   "cell_type": "code",
   "execution_count": null,
   "id": "f24b244d",
   "metadata": {},
   "outputs": [],
   "source": [
    "# Question 5 - 4)\n"
   ]
  },
  {
   "cell_type": "code",
   "execution_count": null,
   "id": "753dc2d7",
   "metadata": {},
   "outputs": [],
   "source": [
    "# Question 5 - 5)\n"
   ]
  },
  {
   "cell_type": "code",
   "execution_count": null,
   "id": "d0b1bd3a",
   "metadata": {},
   "outputs": [],
   "source": [
    "# Question 5 - 6)\n"
   ]
  },
  {
   "cell_type": "code",
   "execution_count": null,
   "id": "0f7e5192",
   "metadata": {},
   "outputs": [],
   "source": [
    "# Question 5 - 7)\n"
   ]
  },
  {
   "cell_type": "code",
   "execution_count": null,
   "id": "7a288fbf",
   "metadata": {},
   "outputs": [],
   "source": [
    "# Question 5 - 8)\n"
   ]
  },
  {
   "cell_type": "code",
   "execution_count": null,
   "id": "488bce52",
   "metadata": {},
   "outputs": [],
   "source": [
    "# Question 5 - 9)\n"
   ]
  },
  {
   "cell_type": "markdown",
   "id": "df0e9e61",
   "metadata": {},
   "source": [
    "# Lasso Regression\n",
    "Another regression model is a lasso regression model.  This model also has a parameter alpha = 0.1. It removes some of the weights associated with the features used to predict the total_price target variable.\n",
    "\n",
    "```\n",
    "# Lasso Regression\n",
    "las_reg = make_pipeline(preprocessor, TransformedTargetRegressor(Lasso(alpha=0.1),\n",
    "                                       transformer=StandardScaler()))\n",
    "\n",
    "# fit the Lasso Regression model\n",
    "las_reg.fit(X,y)\n",
    "\n",
    "# predict the total_price for the features in the training data set\n",
    "y_pred_las = las_reg.predict(X)\n",
    "\n",
    "# find the mse for the lasso regression model for the training data set\n",
    "las_reg_rmse_train = mean_squared_error(y, y_pred_las, squared=False)\n",
    "\n",
    "# predict the total_price for the featuresin the test data set\n",
    "y_pred_test_las = las_reg.predict(X_test)\n",
    "\n",
    "# find the mse for the lasso regression model for testing data set\n",
    "las_reg_rmse_test = mean_squared_error(y_test, y_pred_test_las, squared=False)\n",
    "\n",
    "# print out the mse for the training and test data sets\n",
    "print(\"Training \", las_reg_rmse_train)\n",
    "print(\"Testing  \", las_reg_rmse_test)\n",
    "\n",
    "```\n",
    "# Question 6\n",
    "1. Create a pipeline for a lasso regression model assign it to a variable name lasso_reg.\n",
    "2. Fit the lasso_reg model with X and y.\n",
    "3. Predict the lasso_reg model using X assignment to the variable y_pred_lasso.\n",
    "4. Create the metric mean_squared_error for the lasso regression model and assign it to the variable lasso_reg_rmse.\n",
    "5. Predict the lasso_reg model using X_test assignment to the variable y_pred_test_lasso.\n",
    "6. Create the metric mean_squared_error for the lasso regression model and assign it to the variable lasso_reg_rmse_test.\n",
    "7. Print out the Training lasso_reg_rmse and Testing lasso_reg_rmse_test in one code cell with cv=10.\n",
    "8. Run the cross-validation for the training and test data set in one code cell.\n",
    "9. In one code cell print out the cross-valation results."
   ]
  },
  {
   "cell_type": "code",
   "execution_count": null,
   "id": "509f46b9",
   "metadata": {},
   "outputs": [],
   "source": [
    "# Question 6 - 1)\n"
   ]
  },
  {
   "cell_type": "code",
   "execution_count": null,
   "id": "1410f0cb",
   "metadata": {},
   "outputs": [],
   "source": [
    "# Question 6 - 2)\n"
   ]
  },
  {
   "cell_type": "code",
   "execution_count": null,
   "id": "c16014bb",
   "metadata": {},
   "outputs": [],
   "source": [
    "# Question 6 - 3)\n"
   ]
  },
  {
   "cell_type": "code",
   "execution_count": null,
   "id": "d2c120af",
   "metadata": {},
   "outputs": [],
   "source": [
    "# Question 6 - 4)\n"
   ]
  },
  {
   "cell_type": "code",
   "execution_count": null,
   "id": "3eb7210b",
   "metadata": {},
   "outputs": [],
   "source": [
    "# Question 6 - 5)\n"
   ]
  },
  {
   "cell_type": "code",
   "execution_count": null,
   "id": "fd999038",
   "metadata": {},
   "outputs": [],
   "source": [
    "# Question 6 - 6)\n"
   ]
  },
  {
   "cell_type": "code",
   "execution_count": null,
   "id": "19e338dd",
   "metadata": {},
   "outputs": [],
   "source": [
    "# Question 6 - 7)\n"
   ]
  },
  {
   "cell_type": "code",
   "execution_count": null,
   "id": "93f972b4",
   "metadata": {},
   "outputs": [],
   "source": [
    "# Question 6 - 8)\n"
   ]
  },
  {
   "cell_type": "code",
   "execution_count": null,
   "id": "ab0def8b",
   "metadata": {},
   "outputs": [],
   "source": [
    "# Question 6 - 9)\n"
   ]
  },
  {
   "cell_type": "markdown",
   "id": "85b02154",
   "metadata": {},
   "source": [
    "# Elastic Net Regression\n",
    "The Elastic Net Regression is a weighted average of the Ridge Regression and the Lasso Regression. There are two parameters, alpha and l1_ratio weighted average for the lasso and ridge regression model.\n",
    "\n",
    "```\n",
    "# Elastic Net Regression\n",
    "en_reg = make_pipeline(preprocessor, TransformedTargetRegressor(ElasticNet(alpha=0.1, l1_ratio=0.5),\n",
    "                                       transformer=StandardScaler()))\n",
    "\n",
    "# Fit the Elastic Net Regression\n",
    "en_reg.fit(X,y)\n",
    "\n",
    "# Predict the target values for training data set\n",
    "y_pred_en = en_reg.predict(X)\n",
    "\n",
    "# Determine the MSE for the training data set\n",
    "en_reg_rmse_train = mean_squared_error(y, y_pred_en, squared=False)\n",
    "\n",
    "# Predict the test values for test data set\n",
    "y_pred_test_en = en_reg.predict(X_test)\n",
    "\n",
    "# Determine the MSE for the test data set\n",
    "en_reg_rmse_test = mean_squared_error(y_test, y_pred_test_en, squared=False)\n",
    "\n",
    "# Print out the MSE for the training and testing data set\n",
    "print(\"Training \", en_reg_rmse_train)\n",
    "print(\"Testing  \", en_reg_rmse_test)\n",
    "\n",
    "# Convolution K-Fold 10 fold\n",
    "en_rmses_cv = -cross_val_score(en_reg, X, y, scoring=\"neg_root_mean_squared_error\", cv=10)\n",
    "en_rmses_cv_test = -cross_val_score(en_reg, X_test, y_test, scoring=\"neg_root_mean_squared_error\", cv=10)\n",
    "\n",
    "# Print out the MSE using the cross validation k fold for the training and testing data set\n",
    "print(\"Elastic Regression - train data set MSE\")\n",
    "print(pd.Series(en_rmses_cv).describe())\n",
    "print(\"\\nElastic Regression - test data set MSE\")\n",
    "print(pd.Series(en_rmses_cv_test).describe())\n",
    "```\n",
    "\n",
    "# Question 7\n",
    "1. Create a pipeline for a Elastic Net regression model assign it to a variable name elastic_reg.\n",
    "2. Fit the elastic_reg model with X and y.\n",
    "3. Predict the elastic_reg model using X assignment to the variable y_pred_elastic.\n",
    "4. Create the metric mean_squared_error for the Elastic Net regression model and assign it to the variable elastic_reg_rmse.\n",
    "5. Predict the elastic_reg model using X_test assignment to the variable y_pred_test_elastic.\n",
    "6. Create the metric mean_squared_error for the Elastic Net regression model and assign it to the variable elastic_reg_rmse_test.\n",
    "7. Print out the Training elastic_reg_rmse and Testing elastic_reg_rmse_test in one code cell with cv=10.\n",
    "8. Run the cross-validation for the training and test data set in one code cell.\n",
    "9. In one code cell print out the cross-valation results."
   ]
  },
  {
   "cell_type": "code",
   "execution_count": null,
   "id": "a102ad34",
   "metadata": {},
   "outputs": [],
   "source": [
    "# Question 7 - 1)\n"
   ]
  },
  {
   "cell_type": "code",
   "execution_count": null,
   "id": "3bbb3541",
   "metadata": {},
   "outputs": [],
   "source": [
    "# Question 7 - 2)\n"
   ]
  },
  {
   "cell_type": "code",
   "execution_count": null,
   "id": "5d257860",
   "metadata": {},
   "outputs": [],
   "source": [
    "# Question 7 - 3)\n"
   ]
  },
  {
   "cell_type": "code",
   "execution_count": null,
   "id": "ceec0b9a",
   "metadata": {},
   "outputs": [],
   "source": [
    "# Question 7 - 4)\n"
   ]
  },
  {
   "cell_type": "code",
   "execution_count": null,
   "id": "e95bb3d3",
   "metadata": {},
   "outputs": [],
   "source": [
    "# Question 7 - 5)\n"
   ]
  },
  {
   "cell_type": "code",
   "execution_count": null,
   "id": "3c435371",
   "metadata": {},
   "outputs": [],
   "source": [
    "# Question 7 - 6)\n"
   ]
  },
  {
   "cell_type": "code",
   "execution_count": null,
   "id": "cde96aca",
   "metadata": {},
   "outputs": [],
   "source": [
    "# Question 7 - 7)\n"
   ]
  },
  {
   "cell_type": "code",
   "execution_count": null,
   "id": "ddbd8ab3",
   "metadata": {},
   "outputs": [],
   "source": [
    "# Question 7 - 8)\n"
   ]
  },
  {
   "cell_type": "code",
   "execution_count": null,
   "id": "496242f1",
   "metadata": {},
   "outputs": [],
   "source": [
    "# Question 7 - 9)\n"
   ]
  },
  {
   "cell_type": "markdown",
   "id": "9dffb407",
   "metadata": {},
   "source": [
    "The MSE is 398.9 for the Elastic Net Regression is pretty much the same. When other models do not work, you can run the Random Forest Regressor model. "
   ]
  },
  {
   "cell_type": "markdown",
   "id": "b058a981",
   "metadata": {},
   "source": [
    "# Random Forest\n",
    "When other model fail to work, you can run the random forest model to see if it is any better at predicting the total_price.\n",
    "\n",
    "```\n",
    "# Random Forest Regression\n",
    "fr_reg = make_pipeline(preprocessor, TransformedTargetRegressor(RandomForestRegressor(random_state=42),  \n",
    "                                                                    transformer=StandardScaler()))\n",
    "\n",
    "# Fit the Random Forest Regression Model\n",
    "fr_reg.fit(X,y)\n",
    "\n",
    "# Predict the total_price using the training data set\n",
    "y_pred_fr = fr_reg.predict(X)\n",
    "\n",
    "# MSE for Random Forest for the training data set\n",
    "fr_reg_rmse_train = mean_squared_error(y, y_pred_fr, squared=False)\n",
    "\n",
    "# Predict the Random Forest for test data set\n",
    "y_pred_test_fr = fr_reg.predict(X_test)\n",
    "\n",
    "# MSE for Random Forest for test data set\n",
    "fr_reg_rmse_test = mean_squared_error(y_test, y_pred_test_fr, squared=False)\n",
    "\n",
    "# print out MSE for Random Forest for training and test data set\n",
    "print(\"Training \", fr_reg_rmse_train)\n",
    "print(\"Testing  \", fr_reg_rmse_test)\n",
    "\n",
    "\n",
    "# Convolution K-Fold 10 fold for cross-validation\n",
    "fr_rmses_cv = -cross_val_score(fr_reg, X, y, scoring=\"neg_root_mean_squared_error\", cv=10)\n",
    "fr_rmses_cv_test = -cross_val_score(fr_reg, X_test, y_test, scoring=\"neg_root_mean_squared_error\", cv=10)\n",
    "\n",
    "# Print Random Forest cross validation MSE results for training and test data set\n",
    "print(\"Random Forest Regression - train data set MSE\")\n",
    "print(pd.Series(fr_rmses_cv).describe())\n",
    "print(\"\\nRandom Forest Regression - test data set MSE\")\n",
    "print(pd.Series(fr_rmses_cv_test).describe())\n",
    "```\n",
    "\n",
    "# Question 8\n",
    "1. Create a pipeline for a Random Forest regression model assign it to a variable name forest_reg.\n",
    "2. Fit the forest_reg model with X and y.\n",
    "3. Predict the forest_reg model using X assignment to the variable y_pred_forest.\n",
    "4. Create the metric mean_squared_error for the Random Forest regression model and assign it to the variable forest_reg_rmse.\n",
    "5. Predict the forest_reg model using X_test assignment to the variable y_pred_test_forest.\n",
    "6. Create the metric mean_squared_error for the Random Forest regression model and assign it to the variable forest_reg_rmse_test.\n",
    "7. Print out the Training forest_reg_rmse and Testing forest_reg_rmse_test in one code cell with cv=10.\n",
    "8. Run the cross-validation for the training and test data set in one code cell.\n",
    "9. In one code cell print out the cross-valation results."
   ]
  },
  {
   "cell_type": "code",
   "execution_count": null,
   "id": "dfabaa6a",
   "metadata": {},
   "outputs": [],
   "source": [
    "# Question 8 - 1)\n"
   ]
  },
  {
   "cell_type": "code",
   "execution_count": null,
   "id": "61240cdb",
   "metadata": {},
   "outputs": [],
   "source": [
    "# Question 8 - 2)\n"
   ]
  },
  {
   "cell_type": "code",
   "execution_count": null,
   "id": "82c5c98f",
   "metadata": {},
   "outputs": [],
   "source": [
    "# Question 8 - 3)\n"
   ]
  },
  {
   "cell_type": "code",
   "execution_count": null,
   "id": "3f1bcf54",
   "metadata": {},
   "outputs": [],
   "source": [
    "# Question 8 - 4)\n"
   ]
  },
  {
   "cell_type": "code",
   "execution_count": null,
   "id": "62ad072e",
   "metadata": {},
   "outputs": [],
   "source": [
    "# Question 8 - 5)\n"
   ]
  },
  {
   "cell_type": "code",
   "execution_count": null,
   "id": "1cd3bb06",
   "metadata": {},
   "outputs": [],
   "source": [
    "# Question 8 - 6)\n"
   ]
  },
  {
   "cell_type": "code",
   "execution_count": null,
   "id": "797797fd",
   "metadata": {},
   "outputs": [],
   "source": [
    "# Question 8 - 7)\n"
   ]
  },
  {
   "cell_type": "code",
   "execution_count": null,
   "id": "c7688b4d",
   "metadata": {},
   "outputs": [],
   "source": [
    "# Question 8 - 8)\n"
   ]
  },
  {
   "cell_type": "code",
   "execution_count": null,
   "id": "bba7f3ad",
   "metadata": {},
   "outputs": [],
   "source": [
    "# Question 8 - 9)\n"
   ]
  }
 ],
 "metadata": {
  "kernelspec": {
   "display_name": "Python 3 (ipykernel)",
   "language": "python",
   "name": "python3"
  },
  "language_info": {
   "codemirror_mode": {
    "name": "ipython",
    "version": 3
   },
   "file_extension": ".py",
   "mimetype": "text/x-python",
   "name": "python",
   "nbconvert_exporter": "python",
   "pygments_lexer": "ipython3",
   "version": "3.10.11"
  }
 },
 "nbformat": 4,
 "nbformat_minor": 5
}
