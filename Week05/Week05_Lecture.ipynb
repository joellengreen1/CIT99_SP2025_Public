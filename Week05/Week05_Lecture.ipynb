{
 "cells": [
  {
   "cell_type": "markdown",
   "id": "517b5605",
   "metadata": {},
   "source": [
    "# Week 5 - Regression Models\n",
    "Since we are trying to predict total price as a continuous value, we will fit a regression model.  There are several different models.  \n",
    "- **Multiple Linear Regression**\n",
    "- **Ridge Regression Model** fits the model by keeping the weights as close to zero as possible.  We must scale all numeric features to prevent large values from dominating the model.\n",
    "  1.  Ridge regression fixes overfitting.\n",
    "  2.  Ridge Regression adds a penalty to prevent the model from relying too much on certain features and smoothes out the model.\n",
    "\n",
    "- The **Lasso Regression Model** fits the model by causing some weights to be zero. We must scale the numeric features.\n",
    "  1.  Lasso Removes Useless Features (Makes the model simpler).\n",
    "  2.  Helps When There Are Too Many Variables.\n",
    "  3.  It prevents overfitting like Ridge, but it also does feature selection!\n",
    " \n",
    "- **Elastic Net Regression**\n",
    "  1.  Combination of Ridge and Lasso Regression\n",
    "  2.  Reduces Overfitting while removing useless features\n",
    "  3.  Works best when many features are correlated\n",
    "\n",
    "- **Random Forest Regressor**\n",
    "  1.  When the model is not good, a random forest regressor can be used to improve it.\n",
    "  \n",
    "This week, you will create all the models above using the Boston Housing Data. We will also evaluate the models using cross-validation.\n",
    "\n",
    "Cross-validation occurs when we divide the training data set into k different parts.  We then train the model using K-1 different parts of the training data and use the last part to test the data, which is a validation data set.  K-Fold Cross-validation method creates the model k times using (k-1)/k of the training data set.  The model generated uses one kth part of the training data set to determine whether the model generated fits unknown data.  The final step is to average the k metric to evaluate the model.\n",
    "\n",
    "**How to decide the number of folds**\n",
    "\n",
    "- **5 or 10 folds is a good default.**\n",
    "- **Smaller datasets need larger K (e.g., K=10).**\n",
    "- **Larger datasets can use smaller K (e.g., K=3-5).**\n",
    "- **Always balance accuracy vs. training time!**\n",
    "\n",
    "Run the code cell below."
   ]
  },
  {
   "cell_type": "code",
   "execution_count": 1,
   "id": "27051bc6",
   "metadata": {},
   "outputs": [],
   "source": [
    "# Load Libraries run this code as is\n",
    "import numpy as np\n",
    "import pandas as pd\n",
    "import matplotlib.pyplot as plt\n",
    "import seaborn as sns\n",
    "\n",
    "from sklearn.pipeline import Pipeline\n",
    "from sklearn.pipeline import make_pipeline\n",
    "from sklearn.impute import SimpleImputer\n",
    "from sklearn.preprocessing import StandardScaler, OneHotEncoder\n",
    "from sklearn.compose import ColumnTransformer, TransformedTargetRegressor\n",
    "from sklearn.model_selection import KFold, cross_val_score, GridSearchCV\n",
    "from sklearn.linear_model import LinearRegression, Ridge, Lasso, ElasticNet\n",
    "from sklearn.ensemble import RandomForestRegressor\n",
    "from sklearn.metrics import mean_squared_error, r2_score\n",
    "from sklearn.preprocessing import QuantileTransformer \n"
   ]
  },
  {
   "cell_type": "markdown",
   "id": "96bb0896",
   "metadata": {},
   "source": [
    "# Read Data set\n",
    "\n",
    "# Question 1\n",
    "1. Read in the training data set.\n",
    "2. Drop the Unnamed: 0 column from the training data set.\n",
    "3. Read in the test data set.\n",
    "4. Drop the Unnamed: 0 column from the testing data set."
   ]
  },
  {
   "cell_type": "code",
   "execution_count": 2,
   "id": "b2710852",
   "metadata": {},
   "outputs": [],
   "source": [
    "# Question 1  - 1)\n",
    "airBnb = pd.read_csv(\"train_set.csv\")"
   ]
  },
  {
   "cell_type": "code",
   "execution_count": 3,
   "id": "3c017413",
   "metadata": {},
   "outputs": [],
   "source": [
    "# Question 1  - 2)\n",
    "airBnb.drop(\"Unnamed: 0\", axis=1, inplace=True)"
   ]
  },
  {
   "cell_type": "code",
   "execution_count": 4,
   "id": "b6c473dd",
   "metadata": {},
   "outputs": [],
   "source": [
    "# Question 1  - 3)\n",
    "test_set = pd.read_csv(\"test_set.csv\")"
   ]
  },
  {
   "cell_type": "code",
   "execution_count": 5,
   "id": "6029a25a",
   "metadata": {},
   "outputs": [],
   "source": [
    "# Question 1  - 4)\n",
    "test_set.drop(\"Unnamed: 0\", axis=1, inplace=True)"
   ]
  },
  {
   "cell_type": "markdown",
   "id": "581e9427",
   "metadata": {},
   "source": [
    "# Separate feature and target value for training and test data sets\n",
    "\n",
    "# Question 2\n",
    "1. Create the feature dataframe for training data set.\n",
    "2. Create the target dataframe for training data set.\n",
    "3. Create the feature dataframe for testing data set.\n",
    "4. Create the target dataframe for the testing data set."
   ]
  },
  {
   "cell_type": "code",
   "execution_count": 6,
   "id": "52149c0b",
   "metadata": {},
   "outputs": [],
   "source": [
    "# Question 2  - 1)\n",
    "X = airBnb.drop(\"total_price\", axis=1)"
   ]
  },
  {
   "cell_type": "code",
   "execution_count": 7,
   "id": "4bffeeb9",
   "metadata": {},
   "outputs": [],
   "source": [
    "# Question 2  - 2)\n",
    "y = airBnb['total_price']"
   ]
  },
  {
   "cell_type": "code",
   "execution_count": 8,
   "id": "39898ae3",
   "metadata": {},
   "outputs": [],
   "source": [
    "# Question 2  - 3)\n",
    "X_test = test_set.drop(\"total_price\", axis=1)"
   ]
  },
  {
   "cell_type": "code",
   "execution_count": 9,
   "id": "ee05a6ee",
   "metadata": {},
   "outputs": [],
   "source": [
    "# Question 2  - 4)\n",
    "y_test = test_set['total_price']"
   ]
  },
  {
   "cell_type": "markdown",
   "id": "a099578b",
   "metadata": {},
   "source": [
    "# Create a pipeline \n",
    "For numeric features the pipeline will deal with missing values and standardization.  For categorical (string) features the pipeline will deal with missing values and onehot encoder.\n",
    "\n",
    "```\n",
    "num_feature_cols = df.select_dtypes(include=[np.number]).columns\n",
    "cat_feature_cols = df.select_dtypes(include=['object']).columns\n",
    "\n",
    "num_transformer = Pipeline([\n",
    "    ('imputer', SimpleImputer(strategy='median')),  # Fill missing numeric values with median\n",
    "    ('scaler', StandardScaler(),  # Scale the data values (x - mean)/standard deviation\n",
    "    ('normal', QuantileTransformer(output_distribution='normal'))   # transform data to normal distribution                 \n",
    "])\n",
    "\n",
    "cat_transformer = Pipeline([\n",
    "    ('imputer', SimpleImputer(strategy='most_frequent')),  # Fill missing categorical values\n",
    "    ('encoder', OneHotEncoder(handle_unknown='ignore'))  # One-hot encode categorical data\n",
    "])\n",
    "\n",
    "\n",
    "```\n",
    "\n",
    "\n",
    "# Question 3\n",
    "1. Create a list of column names for numeric features and store it in the variable numeric_features.\n",
    "2. Create a list of column names for categorical features and store it in the variable categorical_features.\n",
    "3. Create a Pipeline for for numeric data replacing the missing data with the median, StandardScaler, and Transform data to normal distribution. Assign it to the variable numeric_transformer.\n",
    "4. Create a Pipeline for the categorical data replacing the missing data with the most_frequent and onehot encoder.  Assign it to the variable categorical_transformer.\n",
    "5. Create the preprocessor ColumnTransformer with the numeric_transformer, categorical_transformer."
   ]
  },
  {
   "cell_type": "code",
   "execution_count": 10,
   "id": "d481a8e9",
   "metadata": {},
   "outputs": [],
   "source": [
    "# Question 3  - 1)\n",
    "numeric_features = X.select_dtypes(include=[np.number]).columns"
   ]
  },
  {
   "cell_type": "code",
   "execution_count": 11,
   "id": "544fe37c",
   "metadata": {},
   "outputs": [],
   "source": [
    "# Question 3  - 2)\n",
    "categorical_features = X.select_dtypes(include=['object']).columns"
   ]
  },
  {
   "cell_type": "code",
   "execution_count": 12,
   "id": "a8aa7ee5",
   "metadata": {},
   "outputs": [],
   "source": [
    "# Question 3  - 3)\n",
    "numeric_transformer = Pipeline([\n",
    "    ('imputer', SimpleImputer(strategy='median')),  # Fill missing values with mean\n",
    "    ('scaler', StandardScaler()), # Scale numeric features\n",
    "    ('normal', QuantileTransformer(output_distribution='normal')) \n",
    "])\n"
   ]
  },
  {
   "cell_type": "code",
   "execution_count": 13,
   "id": "a288839d",
   "metadata": {},
   "outputs": [],
   "source": [
    "# Question 3  - 4)\n",
    "categorical_transformer = Pipeline([\n",
    "    ('imputer', SimpleImputer(strategy='most_frequent')),  # Fill missing categorical values\n",
    "    ('encoder', OneHotEncoder(handle_unknown='ignore'))  # One-hot encode categorical data\n",
    "])"
   ]
  },
  {
   "cell_type": "code",
   "execution_count": 14,
   "id": "b6174e13",
   "metadata": {},
   "outputs": [],
   "source": [
    "# Question 3  - 5)\n",
    "preprocessor = ColumnTransformer([\n",
    "    ('num', numeric_transformer, numeric_features),\n",
    "    ('cat', categorical_transformer, categorical_features)\n",
    "])\n",
    "\n"
   ]
  },
  {
   "cell_type": "markdown",
   "id": "d96cb03e",
   "metadata": {},
   "source": [
    "# Fitting a Multiple Linear Regression\n",
    "Create the linear regression model pipeline using the code below.\n",
    "\n",
    "```\n",
    "# Create a pipeline for a linear regression model\n",
    "\n",
    "ln_reg =make_pipeline(preprocessor, TransformedTargetRegressor(LinearRegression(), transformer=StandardScaler()))\n",
    "\n",
    "# fit a linear regression model\n",
    "ln_reg.fit(X,y)\n",
    "\n",
    "# predict the linear regression model\n",
    "y_pred = ln_reg.predict(X)\n",
    "\n",
    "# Create the metric mean-squared error for linear regression\n",
    "ln_reg_rmse_train = mean_squared_error(y, y_pred, squared=False)\n",
    "\n",
    "# predict results using the X-test set\n",
    "y_pred_test = ln_reg.predict(X_test)\n",
    "\n",
    "# Create the metric mean-squared error for linear regression\n",
    "ln_reg_rmse_test = mean_squared_error(y_test, y_pred_test, squared=False)\n",
    "\n",
    "# print out the mulitple regression mse for the training and test data sets\n",
    "print(\"Training \", ln_reg_rmse_train)\n",
    "print(\"Testing  \", ln_reg_rmse_test)\n",
    "\n",
    "# run cross-validation for training and test data sets\n",
    "ln_rmses_cv = -cross_val_score(ln_reg, X, y, scoring=\"neg_root_mean_squared_error\", cv=10)\n",
    "ln_rmses_cv_test = -cross_val_score(ln_reg, X_test, y_test, scoring=\"neg_root_mean_squared_error\", cv=10)\n",
    "\n",
    "# print out cross validation results\n",
    "print(\"train data set MSE\")\n",
    "print(pd.Series(ln_rmses_cv).describe())\n",
    "print(\"\\ntest data set MSE\")\n",
    "print(pd.Series(ln_rmses_cv_test).describe())\n",
    "\n",
    "```\n",
    "\n",
    "# Question 4\n",
    "1. Create a pipeline for a linear regression model assign it to a variable name lin_reg.\n",
    "2. Fit the lin_reg model with X and y.\n",
    "3. Predict the lin_reg model using X assignment to the variable y_pred.\n",
    "4. Create the metric mean_squared_error for the linear regression model and assign it to the variable lin_reg_rmse.\n",
    "5. Predict the lin_reg model using X_test assignment to the variable y_pred_test.\n",
    "6. Create the metric mean_squared_error for the linear regression model and assign it to the variable lin_reg_rmse_test.\n",
    "7. Print out the Training lin_reg_rmse and Testing lin_reg_rmse_test in one code cell.\n",
    "8. Run the cross-validation for the training and test data set.  Assign the results to lin_rmses_cv and lin_rmses_cv_test.  Besure to change ln_reg to lin_reg.\n",
    "9. In one code cell print out the cross-valation results."
   ]
  },
  {
   "cell_type": "code",
   "execution_count": 15,
   "id": "dad761a2",
   "metadata": {},
   "outputs": [],
   "source": [
    "# Question 4  - 1)\n",
    "lin_reg = make_pipeline(preprocessor, TransformedTargetRegressor(LinearRegression(), transformer=StandardScaler()))"
   ]
  },
  {
   "cell_type": "code",
   "execution_count": 16,
   "id": "d963bc7d",
   "metadata": {},
   "outputs": [
    {
     "data": {
      "text/html": [
       "<style>#sk-container-id-1 {color: black;background-color: white;}#sk-container-id-1 pre{padding: 0;}#sk-container-id-1 div.sk-toggleable {background-color: white;}#sk-container-id-1 label.sk-toggleable__label {cursor: pointer;display: block;width: 100%;margin-bottom: 0;padding: 0.3em;box-sizing: border-box;text-align: center;}#sk-container-id-1 label.sk-toggleable__label-arrow:before {content: \"▸\";float: left;margin-right: 0.25em;color: #696969;}#sk-container-id-1 label.sk-toggleable__label-arrow:hover:before {color: black;}#sk-container-id-1 div.sk-estimator:hover label.sk-toggleable__label-arrow:before {color: black;}#sk-container-id-1 div.sk-toggleable__content {max-height: 0;max-width: 0;overflow: hidden;text-align: left;background-color: #f0f8ff;}#sk-container-id-1 div.sk-toggleable__content pre {margin: 0.2em;color: black;border-radius: 0.25em;background-color: #f0f8ff;}#sk-container-id-1 input.sk-toggleable__control:checked~div.sk-toggleable__content {max-height: 200px;max-width: 100%;overflow: auto;}#sk-container-id-1 input.sk-toggleable__control:checked~label.sk-toggleable__label-arrow:before {content: \"▾\";}#sk-container-id-1 div.sk-estimator input.sk-toggleable__control:checked~label.sk-toggleable__label {background-color: #d4ebff;}#sk-container-id-1 div.sk-label input.sk-toggleable__control:checked~label.sk-toggleable__label {background-color: #d4ebff;}#sk-container-id-1 input.sk-hidden--visually {border: 0;clip: rect(1px 1px 1px 1px);clip: rect(1px, 1px, 1px, 1px);height: 1px;margin: -1px;overflow: hidden;padding: 0;position: absolute;width: 1px;}#sk-container-id-1 div.sk-estimator {font-family: monospace;background-color: #f0f8ff;border: 1px dotted black;border-radius: 0.25em;box-sizing: border-box;margin-bottom: 0.5em;}#sk-container-id-1 div.sk-estimator:hover {background-color: #d4ebff;}#sk-container-id-1 div.sk-parallel-item::after {content: \"\";width: 100%;border-bottom: 1px solid gray;flex-grow: 1;}#sk-container-id-1 div.sk-label:hover label.sk-toggleable__label {background-color: #d4ebff;}#sk-container-id-1 div.sk-serial::before {content: \"\";position: absolute;border-left: 1px solid gray;box-sizing: border-box;top: 0;bottom: 0;left: 50%;z-index: 0;}#sk-container-id-1 div.sk-serial {display: flex;flex-direction: column;align-items: center;background-color: white;padding-right: 0.2em;padding-left: 0.2em;position: relative;}#sk-container-id-1 div.sk-item {position: relative;z-index: 1;}#sk-container-id-1 div.sk-parallel {display: flex;align-items: stretch;justify-content: center;background-color: white;position: relative;}#sk-container-id-1 div.sk-item::before, #sk-container-id-1 div.sk-parallel-item::before {content: \"\";position: absolute;border-left: 1px solid gray;box-sizing: border-box;top: 0;bottom: 0;left: 50%;z-index: -1;}#sk-container-id-1 div.sk-parallel-item {display: flex;flex-direction: column;z-index: 1;position: relative;background-color: white;}#sk-container-id-1 div.sk-parallel-item:first-child::after {align-self: flex-end;width: 50%;}#sk-container-id-1 div.sk-parallel-item:last-child::after {align-self: flex-start;width: 50%;}#sk-container-id-1 div.sk-parallel-item:only-child::after {width: 0;}#sk-container-id-1 div.sk-dashed-wrapped {border: 1px dashed gray;margin: 0 0.4em 0.5em 0.4em;box-sizing: border-box;padding-bottom: 0.4em;background-color: white;}#sk-container-id-1 div.sk-label label {font-family: monospace;font-weight: bold;display: inline-block;line-height: 1.2em;}#sk-container-id-1 div.sk-label-container {text-align: center;}#sk-container-id-1 div.sk-container {/* jupyter's `normalize.less` sets `[hidden] { display: none; }` but bootstrap.min.css set `[hidden] { display: none !important; }` so we also need the `!important` here to be able to override the default hidden behavior on the sphinx rendered scikit-learn.org. See: https://github.com/scikit-learn/scikit-learn/issues/21755 */display: inline-block !important;position: relative;}#sk-container-id-1 div.sk-text-repr-fallback {display: none;}</style><div id=\"sk-container-id-1\" class=\"sk-top-container\"><div class=\"sk-text-repr-fallback\"><pre>Pipeline(steps=[(&#x27;columntransformer&#x27;,\n",
       "                 ColumnTransformer(transformers=[(&#x27;num&#x27;,\n",
       "                                                  Pipeline(steps=[(&#x27;imputer&#x27;,\n",
       "                                                                   SimpleImputer(strategy=&#x27;median&#x27;)),\n",
       "                                                                  (&#x27;scaler&#x27;,\n",
       "                                                                   StandardScaler()),\n",
       "                                                                  (&#x27;normal&#x27;,\n",
       "                                                                   QuantileTransformer(output_distribution=&#x27;normal&#x27;))]),\n",
       "                                                  Index([&#x27;lat&#x27;, &#x27;long&#x27;, &#x27;Construction year&#x27;, &#x27;minimum nights&#x27;,\n",
       "       &#x27;number of reviews&#x27;, &#x27;review rate number&#x27;,\n",
       "       &#x27;calculated host listings count&#x27;,...\n",
       "                                                  Pipeline(steps=[(&#x27;imputer&#x27;,\n",
       "                                                                   SimpleImputer(strategy=&#x27;most_frequent&#x27;)),\n",
       "                                                                  (&#x27;encoder&#x27;,\n",
       "                                                                   OneHotEncoder(handle_unknown=&#x27;ignore&#x27;))]),\n",
       "                                                  Index([&#x27;host_identity_verified&#x27;, &#x27;neighbourhood group&#x27;, &#x27;instant_bookable&#x27;,\n",
       "       &#x27;cancellation_policy&#x27;, &#x27;room type&#x27;],\n",
       "      dtype=&#x27;object&#x27;))])),\n",
       "                (&#x27;transformedtargetregressor&#x27;,\n",
       "                 TransformedTargetRegressor(regressor=LinearRegression(),\n",
       "                                            transformer=StandardScaler()))])</pre><b>In a Jupyter environment, please rerun this cell to show the HTML representation or trust the notebook. <br />On GitHub, the HTML representation is unable to render, please try loading this page with nbviewer.org.</b></div><div class=\"sk-container\" hidden><div class=\"sk-item sk-dashed-wrapped\"><div class=\"sk-label-container\"><div class=\"sk-label sk-toggleable\"><input class=\"sk-toggleable__control sk-hidden--visually\" id=\"sk-estimator-id-1\" type=\"checkbox\" ><label for=\"sk-estimator-id-1\" class=\"sk-toggleable__label sk-toggleable__label-arrow\">Pipeline</label><div class=\"sk-toggleable__content\"><pre>Pipeline(steps=[(&#x27;columntransformer&#x27;,\n",
       "                 ColumnTransformer(transformers=[(&#x27;num&#x27;,\n",
       "                                                  Pipeline(steps=[(&#x27;imputer&#x27;,\n",
       "                                                                   SimpleImputer(strategy=&#x27;median&#x27;)),\n",
       "                                                                  (&#x27;scaler&#x27;,\n",
       "                                                                   StandardScaler()),\n",
       "                                                                  (&#x27;normal&#x27;,\n",
       "                                                                   QuantileTransformer(output_distribution=&#x27;normal&#x27;))]),\n",
       "                                                  Index([&#x27;lat&#x27;, &#x27;long&#x27;, &#x27;Construction year&#x27;, &#x27;minimum nights&#x27;,\n",
       "       &#x27;number of reviews&#x27;, &#x27;review rate number&#x27;,\n",
       "       &#x27;calculated host listings count&#x27;,...\n",
       "                                                  Pipeline(steps=[(&#x27;imputer&#x27;,\n",
       "                                                                   SimpleImputer(strategy=&#x27;most_frequent&#x27;)),\n",
       "                                                                  (&#x27;encoder&#x27;,\n",
       "                                                                   OneHotEncoder(handle_unknown=&#x27;ignore&#x27;))]),\n",
       "                                                  Index([&#x27;host_identity_verified&#x27;, &#x27;neighbourhood group&#x27;, &#x27;instant_bookable&#x27;,\n",
       "       &#x27;cancellation_policy&#x27;, &#x27;room type&#x27;],\n",
       "      dtype=&#x27;object&#x27;))])),\n",
       "                (&#x27;transformedtargetregressor&#x27;,\n",
       "                 TransformedTargetRegressor(regressor=LinearRegression(),\n",
       "                                            transformer=StandardScaler()))])</pre></div></div></div><div class=\"sk-serial\"><div class=\"sk-item sk-dashed-wrapped\"><div class=\"sk-label-container\"><div class=\"sk-label sk-toggleable\"><input class=\"sk-toggleable__control sk-hidden--visually\" id=\"sk-estimator-id-2\" type=\"checkbox\" ><label for=\"sk-estimator-id-2\" class=\"sk-toggleable__label sk-toggleable__label-arrow\">columntransformer: ColumnTransformer</label><div class=\"sk-toggleable__content\"><pre>ColumnTransformer(transformers=[(&#x27;num&#x27;,\n",
       "                                 Pipeline(steps=[(&#x27;imputer&#x27;,\n",
       "                                                  SimpleImputer(strategy=&#x27;median&#x27;)),\n",
       "                                                 (&#x27;scaler&#x27;, StandardScaler()),\n",
       "                                                 (&#x27;normal&#x27;,\n",
       "                                                  QuantileTransformer(output_distribution=&#x27;normal&#x27;))]),\n",
       "                                 Index([&#x27;lat&#x27;, &#x27;long&#x27;, &#x27;Construction year&#x27;, &#x27;minimum nights&#x27;,\n",
       "       &#x27;number of reviews&#x27;, &#x27;review rate number&#x27;,\n",
       "       &#x27;calculated host listings count&#x27;, &#x27;availability 365&#x27;],\n",
       "      dtype=&#x27;object&#x27;)),\n",
       "                                (&#x27;cat&#x27;,\n",
       "                                 Pipeline(steps=[(&#x27;imputer&#x27;,\n",
       "                                                  SimpleImputer(strategy=&#x27;most_frequent&#x27;)),\n",
       "                                                 (&#x27;encoder&#x27;,\n",
       "                                                  OneHotEncoder(handle_unknown=&#x27;ignore&#x27;))]),\n",
       "                                 Index([&#x27;host_identity_verified&#x27;, &#x27;neighbourhood group&#x27;, &#x27;instant_bookable&#x27;,\n",
       "       &#x27;cancellation_policy&#x27;, &#x27;room type&#x27;],\n",
       "      dtype=&#x27;object&#x27;))])</pre></div></div></div><div class=\"sk-parallel\"><div class=\"sk-parallel-item\"><div class=\"sk-item\"><div class=\"sk-label-container\"><div class=\"sk-label sk-toggleable\"><input class=\"sk-toggleable__control sk-hidden--visually\" id=\"sk-estimator-id-3\" type=\"checkbox\" ><label for=\"sk-estimator-id-3\" class=\"sk-toggleable__label sk-toggleable__label-arrow\">num</label><div class=\"sk-toggleable__content\"><pre>Index([&#x27;lat&#x27;, &#x27;long&#x27;, &#x27;Construction year&#x27;, &#x27;minimum nights&#x27;,\n",
       "       &#x27;number of reviews&#x27;, &#x27;review rate number&#x27;,\n",
       "       &#x27;calculated host listings count&#x27;, &#x27;availability 365&#x27;],\n",
       "      dtype=&#x27;object&#x27;)</pre></div></div></div><div class=\"sk-serial\"><div class=\"sk-item\"><div class=\"sk-serial\"><div class=\"sk-item\"><div class=\"sk-estimator sk-toggleable\"><input class=\"sk-toggleable__control sk-hidden--visually\" id=\"sk-estimator-id-4\" type=\"checkbox\" ><label for=\"sk-estimator-id-4\" class=\"sk-toggleable__label sk-toggleable__label-arrow\">SimpleImputer</label><div class=\"sk-toggleable__content\"><pre>SimpleImputer(strategy=&#x27;median&#x27;)</pre></div></div></div><div class=\"sk-item\"><div class=\"sk-estimator sk-toggleable\"><input class=\"sk-toggleable__control sk-hidden--visually\" id=\"sk-estimator-id-5\" type=\"checkbox\" ><label for=\"sk-estimator-id-5\" class=\"sk-toggleable__label sk-toggleable__label-arrow\">StandardScaler</label><div class=\"sk-toggleable__content\"><pre>StandardScaler()</pre></div></div></div><div class=\"sk-item\"><div class=\"sk-estimator sk-toggleable\"><input class=\"sk-toggleable__control sk-hidden--visually\" id=\"sk-estimator-id-6\" type=\"checkbox\" ><label for=\"sk-estimator-id-6\" class=\"sk-toggleable__label sk-toggleable__label-arrow\">QuantileTransformer</label><div class=\"sk-toggleable__content\"><pre>QuantileTransformer(output_distribution=&#x27;normal&#x27;)</pre></div></div></div></div></div></div></div></div><div class=\"sk-parallel-item\"><div class=\"sk-item\"><div class=\"sk-label-container\"><div class=\"sk-label sk-toggleable\"><input class=\"sk-toggleable__control sk-hidden--visually\" id=\"sk-estimator-id-7\" type=\"checkbox\" ><label for=\"sk-estimator-id-7\" class=\"sk-toggleable__label sk-toggleable__label-arrow\">cat</label><div class=\"sk-toggleable__content\"><pre>Index([&#x27;host_identity_verified&#x27;, &#x27;neighbourhood group&#x27;, &#x27;instant_bookable&#x27;,\n",
       "       &#x27;cancellation_policy&#x27;, &#x27;room type&#x27;],\n",
       "      dtype=&#x27;object&#x27;)</pre></div></div></div><div class=\"sk-serial\"><div class=\"sk-item\"><div class=\"sk-serial\"><div class=\"sk-item\"><div class=\"sk-estimator sk-toggleable\"><input class=\"sk-toggleable__control sk-hidden--visually\" id=\"sk-estimator-id-8\" type=\"checkbox\" ><label for=\"sk-estimator-id-8\" class=\"sk-toggleable__label sk-toggleable__label-arrow\">SimpleImputer</label><div class=\"sk-toggleable__content\"><pre>SimpleImputer(strategy=&#x27;most_frequent&#x27;)</pre></div></div></div><div class=\"sk-item\"><div class=\"sk-estimator sk-toggleable\"><input class=\"sk-toggleable__control sk-hidden--visually\" id=\"sk-estimator-id-9\" type=\"checkbox\" ><label for=\"sk-estimator-id-9\" class=\"sk-toggleable__label sk-toggleable__label-arrow\">OneHotEncoder</label><div class=\"sk-toggleable__content\"><pre>OneHotEncoder(handle_unknown=&#x27;ignore&#x27;)</pre></div></div></div></div></div></div></div></div></div></div><div class=\"sk-item sk-dashed-wrapped\"><div class=\"sk-label-container\"><div class=\"sk-label sk-toggleable\"><input class=\"sk-toggleable__control sk-hidden--visually\" id=\"sk-estimator-id-10\" type=\"checkbox\" ><label for=\"sk-estimator-id-10\" class=\"sk-toggleable__label sk-toggleable__label-arrow\">transformedtargetregressor: TransformedTargetRegressor</label><div class=\"sk-toggleable__content\"><pre>TransformedTargetRegressor(regressor=LinearRegression(),\n",
       "                           transformer=StandardScaler())</pre></div></div></div><div class=\"sk-parallel\"><div class=\"sk-parallel-item\"><div class=\"sk-item\"><div class=\"sk-label-container\"><div class=\"sk-label sk-toggleable\"><input class=\"sk-toggleable__control sk-hidden--visually\" id=\"sk-estimator-id-11\" type=\"checkbox\" ><label for=\"sk-estimator-id-11\" class=\"sk-toggleable__label sk-toggleable__label-arrow\">regressor: LinearRegression</label><div class=\"sk-toggleable__content\"><pre>LinearRegression()</pre></div></div></div><div class=\"sk-serial\"><div class=\"sk-item\"><div class=\"sk-estimator sk-toggleable\"><input class=\"sk-toggleable__control sk-hidden--visually\" id=\"sk-estimator-id-12\" type=\"checkbox\" ><label for=\"sk-estimator-id-12\" class=\"sk-toggleable__label sk-toggleable__label-arrow\">LinearRegression</label><div class=\"sk-toggleable__content\"><pre>LinearRegression()</pre></div></div></div></div></div></div><div class=\"sk-parallel-item\"><div class=\"sk-item\"><div class=\"sk-label-container\"><div class=\"sk-label sk-toggleable\"><input class=\"sk-toggleable__control sk-hidden--visually\" id=\"sk-estimator-id-13\" type=\"checkbox\" ><label for=\"sk-estimator-id-13\" class=\"sk-toggleable__label sk-toggleable__label-arrow\">transformer: StandardScaler</label><div class=\"sk-toggleable__content\"><pre>StandardScaler()</pre></div></div></div><div class=\"sk-serial\"><div class=\"sk-item\"><div class=\"sk-estimator sk-toggleable\"><input class=\"sk-toggleable__control sk-hidden--visually\" id=\"sk-estimator-id-14\" type=\"checkbox\" ><label for=\"sk-estimator-id-14\" class=\"sk-toggleable__label sk-toggleable__label-arrow\">StandardScaler</label><div class=\"sk-toggleable__content\"><pre>StandardScaler()</pre></div></div></div></div></div></div></div></div></div></div></div></div>"
      ],
      "text/plain": [
       "Pipeline(steps=[('columntransformer',\n",
       "                 ColumnTransformer(transformers=[('num',\n",
       "                                                  Pipeline(steps=[('imputer',\n",
       "                                                                   SimpleImputer(strategy='median')),\n",
       "                                                                  ('scaler',\n",
       "                                                                   StandardScaler()),\n",
       "                                                                  ('normal',\n",
       "                                                                   QuantileTransformer(output_distribution='normal'))]),\n",
       "                                                  Index(['lat', 'long', 'Construction year', 'minimum nights',\n",
       "       'number of reviews', 'review rate number',\n",
       "       'calculated host listings count',...\n",
       "                                                  Pipeline(steps=[('imputer',\n",
       "                                                                   SimpleImputer(strategy='most_frequent')),\n",
       "                                                                  ('encoder',\n",
       "                                                                   OneHotEncoder(handle_unknown='ignore'))]),\n",
       "                                                  Index(['host_identity_verified', 'neighbourhood group', 'instant_bookable',\n",
       "       'cancellation_policy', 'room type'],\n",
       "      dtype='object'))])),\n",
       "                ('transformedtargetregressor',\n",
       "                 TransformedTargetRegressor(regressor=LinearRegression(),\n",
       "                                            transformer=StandardScaler()))])"
      ]
     },
     "execution_count": 16,
     "metadata": {},
     "output_type": "execute_result"
    }
   ],
   "source": [
    "# Question 4  - 2)\n",
    "lin_reg.fit(X,y)"
   ]
  },
  {
   "cell_type": "code",
   "execution_count": 17,
   "id": "358fd94b",
   "metadata": {},
   "outputs": [],
   "source": [
    "# Question 4  - 3)\n",
    "y_pred = lin_reg.predict(X)"
   ]
  },
  {
   "cell_type": "code",
   "execution_count": 18,
   "id": "fde59035",
   "metadata": {},
   "outputs": [],
   "source": [
    "# Question 4  - 4)\n",
    "lin_reg_rmse_train = mean_squared_error(y, y_pred, squared=False)"
   ]
  },
  {
   "cell_type": "code",
   "execution_count": 19,
   "id": "b414fde9",
   "metadata": {},
   "outputs": [],
   "source": [
    "# Question 4  - 5)\n",
    "y_pred_test = lin_reg.predict(X_test)"
   ]
  },
  {
   "cell_type": "code",
   "execution_count": 20,
   "id": "2d266020",
   "metadata": {},
   "outputs": [],
   "source": [
    "# Question 4  - 6)\n",
    "lin_reg_rmse_test = mean_squared_error(y_test, y_pred_test, squared=False)"
   ]
  },
  {
   "cell_type": "code",
   "execution_count": 21,
   "id": "af1364dc",
   "metadata": {},
   "outputs": [
    {
     "name": "stdout",
     "output_type": "stream",
     "text": [
      "Training  397.8028381275751\n",
      "Testing   398.53447106323614\n"
     ]
    }
   ],
   "source": [
    "# Question 4  - 7)\n",
    "print(\"Training \", lin_reg_rmse_train)\n",
    "print(\"Testing  \", lin_reg_rmse_test)"
   ]
  },
  {
   "cell_type": "code",
   "execution_count": 22,
   "id": "ed531abf",
   "metadata": {},
   "outputs": [],
   "source": [
    "# Question 4  - 8)\n",
    "lin_rmses_cv = -cross_val_score(lin_reg, X, y, scoring=\"neg_root_mean_squared_error\", cv=3)\n",
    "lin_rmses_cv_test = -cross_val_score(lin_reg, X_test, y_test, scoring=\"neg_root_mean_squared_error\", cv=3)\n"
   ]
  },
  {
   "cell_type": "code",
   "execution_count": 23,
   "id": "eef10425",
   "metadata": {},
   "outputs": [
    {
     "name": "stdout",
     "output_type": "stream",
     "text": [
      "train data set MSE\n",
      "count      3.000000\n",
      "mean     397.954708\n",
      "std        0.520349\n",
      "min      397.501275\n",
      "25%      397.670643\n",
      "50%      397.840012\n",
      "75%      398.181424\n",
      "max      398.522836\n",
      "dtype: float64\n",
      "\n",
      "test data set MSE\n",
      "count      3.000000\n",
      "mean     398.918778\n",
      "std        1.976786\n",
      "min      396.643869\n",
      "25%      398.268998\n",
      "50%      399.894126\n",
      "75%      400.056232\n",
      "max      400.218337\n",
      "dtype: float64\n"
     ]
    }
   ],
   "source": [
    "# Question 4  - 9)\n",
    "print(\"train data set MSE\")\n",
    "print(pd.Series(lin_rmses_cv).describe())\n",
    "print(\"\\ntest data set MSE\")\n",
    "print(pd.Series(lin_rmses_cv_test).describe())"
   ]
  },
  {
   "cell_type": "markdown",
   "id": "fd3a0537",
   "metadata": {},
   "source": [
    "The MSE of 397.9 is not very good for the total_price which ranges from 60 to 1440. As a result, the data used to predict the total_price does not provide enough information to make a prediction.  We will look at other regression models to see if there is any improvement."
   ]
  },
  {
   "cell_type": "markdown",
   "id": "4a3ca72b",
   "metadata": {},
   "source": [
    "# Ridge Regression\n",
    "A regression model that uses weights close to zero to prevent overfitting. This model uses a parameter alpha which will be set to 0.1 for this example and matrix factorization technique by sag.\n",
    "\n",
    "```\n",
    "# create the pipeline for ridge regression\n",
    "rid_reg = make_pipeline(preprocessor, TransformTargetRegressor(Ridge(alpha=0.1, solver=\"sag\", \n",
    "                                       transformer=StandardScaler())))\n",
    "\n",
    "# fit the ridge regression model\n",
    "rid_reg.fit(X,y)\n",
    "\n",
    "# predict the training set results\n",
    "y_pred_rid_reg = rid_reg.predict(X)\n",
    "\n",
    "# metrics from the ridge regression training set\n",
    "rid_rmse_train = mean_squared_error(y, y_pred_rid_reg, squared=False)\n",
    "\n",
    "# predict the test set results\n",
    "rid_reg.predict(X_test)\n",
    "y_pred_test_rid_test = rid_reg.predict(X_test)\n",
    "\n",
    "# metrics from the ridge regression test set\n",
    "rid_reg_rmse_test = mean_squared_error(y_test, y_pred_test_rid_test, squared=False)\n",
    "\n",
    "# pring out the metrics for training and test set\n",
    "print(\"Training \", rid_rmse_train)\n",
    "print(\"Testing  \", rid_reg_rmse_test)\n",
    "\n",
    "# Cross Validation K-Fold where K=10 fold\n",
    "rid_rmses_cv = -cross_val_score(rid_reg, X, y, scoring=\"neg_root_mean_squared_error\", cv=10)\n",
    "rid_rmses_cv_test = -cross_val_score(rid_reg, X_test, y_test, scoring=\"neg_root_mean_squared_error\", cv=10)\n",
    "\n",
    "# print the cross validation results\n",
    "print(\"Ridge Regression - train data set MSE\")\n",
    "print(pd.Series(rid_rmses_cv).describe())\n",
    "print(\"\\nRidge Regression - test data set MSE\")\n",
    "print(pd.Series(rid_rmses_cv_test).describe())\n",
    "\n",
    "````\n",
    "\n",
    "# Question 5\n",
    "1. Create a pipeline for a ridge regression model assign it to a variable name ridge_reg.\n",
    "2. Fit the ridge_reg model with X and y.\n",
    "3. Predict the ridge_reg model using X assignment to the variable y_pred.\n",
    "4. Create the metric mean_squared_error for the ridge regression model and assign it to the variable ridge_reg_rmse_train.\n",
    "5. Predict the ridge_reg model using X_test assignment to the variable y_pred_test.\n",
    "6. Create the metric mean_squared_error for the ridge regression model and assign it to the variable ridge_reg_rmse_test.\n",
    "7. Print out the Training ridge_reg_rmse and Testing ridge_reg_rmse_test in one code cell.\n",
    "8. Run the cross-validation for the training and test data set in one code cell. Besure to change rid_reg to ridge_reg.\n",
    "9. In one code cell print out the cross-valation results.  Besure to change the rid_rmses_cv to ridge_rmses_cv and rid_rmses_cv_test to ridg_rmse_cv_test."
   ]
  },
  {
   "cell_type": "code",
   "execution_count": 24,
   "id": "99e80ef1",
   "metadata": {},
   "outputs": [],
   "source": [
    "# Question 5 - 1)\n",
    "ridge_reg = make_pipeline(preprocessor, TransformedTargetRegressor(Ridge(alpha=0.1, solver=\"sag\"), \n",
    "                                                                   transformer=StandardScaler()))"
   ]
  },
  {
   "cell_type": "code",
   "execution_count": 25,
   "id": "eaaaa909",
   "metadata": {},
   "outputs": [
    {
     "data": {
      "text/html": [
       "<style>#sk-container-id-2 {color: black;background-color: white;}#sk-container-id-2 pre{padding: 0;}#sk-container-id-2 div.sk-toggleable {background-color: white;}#sk-container-id-2 label.sk-toggleable__label {cursor: pointer;display: block;width: 100%;margin-bottom: 0;padding: 0.3em;box-sizing: border-box;text-align: center;}#sk-container-id-2 label.sk-toggleable__label-arrow:before {content: \"▸\";float: left;margin-right: 0.25em;color: #696969;}#sk-container-id-2 label.sk-toggleable__label-arrow:hover:before {color: black;}#sk-container-id-2 div.sk-estimator:hover label.sk-toggleable__label-arrow:before {color: black;}#sk-container-id-2 div.sk-toggleable__content {max-height: 0;max-width: 0;overflow: hidden;text-align: left;background-color: #f0f8ff;}#sk-container-id-2 div.sk-toggleable__content pre {margin: 0.2em;color: black;border-radius: 0.25em;background-color: #f0f8ff;}#sk-container-id-2 input.sk-toggleable__control:checked~div.sk-toggleable__content {max-height: 200px;max-width: 100%;overflow: auto;}#sk-container-id-2 input.sk-toggleable__control:checked~label.sk-toggleable__label-arrow:before {content: \"▾\";}#sk-container-id-2 div.sk-estimator input.sk-toggleable__control:checked~label.sk-toggleable__label {background-color: #d4ebff;}#sk-container-id-2 div.sk-label input.sk-toggleable__control:checked~label.sk-toggleable__label {background-color: #d4ebff;}#sk-container-id-2 input.sk-hidden--visually {border: 0;clip: rect(1px 1px 1px 1px);clip: rect(1px, 1px, 1px, 1px);height: 1px;margin: -1px;overflow: hidden;padding: 0;position: absolute;width: 1px;}#sk-container-id-2 div.sk-estimator {font-family: monospace;background-color: #f0f8ff;border: 1px dotted black;border-radius: 0.25em;box-sizing: border-box;margin-bottom: 0.5em;}#sk-container-id-2 div.sk-estimator:hover {background-color: #d4ebff;}#sk-container-id-2 div.sk-parallel-item::after {content: \"\";width: 100%;border-bottom: 1px solid gray;flex-grow: 1;}#sk-container-id-2 div.sk-label:hover label.sk-toggleable__label {background-color: #d4ebff;}#sk-container-id-2 div.sk-serial::before {content: \"\";position: absolute;border-left: 1px solid gray;box-sizing: border-box;top: 0;bottom: 0;left: 50%;z-index: 0;}#sk-container-id-2 div.sk-serial {display: flex;flex-direction: column;align-items: center;background-color: white;padding-right: 0.2em;padding-left: 0.2em;position: relative;}#sk-container-id-2 div.sk-item {position: relative;z-index: 1;}#sk-container-id-2 div.sk-parallel {display: flex;align-items: stretch;justify-content: center;background-color: white;position: relative;}#sk-container-id-2 div.sk-item::before, #sk-container-id-2 div.sk-parallel-item::before {content: \"\";position: absolute;border-left: 1px solid gray;box-sizing: border-box;top: 0;bottom: 0;left: 50%;z-index: -1;}#sk-container-id-2 div.sk-parallel-item {display: flex;flex-direction: column;z-index: 1;position: relative;background-color: white;}#sk-container-id-2 div.sk-parallel-item:first-child::after {align-self: flex-end;width: 50%;}#sk-container-id-2 div.sk-parallel-item:last-child::after {align-self: flex-start;width: 50%;}#sk-container-id-2 div.sk-parallel-item:only-child::after {width: 0;}#sk-container-id-2 div.sk-dashed-wrapped {border: 1px dashed gray;margin: 0 0.4em 0.5em 0.4em;box-sizing: border-box;padding-bottom: 0.4em;background-color: white;}#sk-container-id-2 div.sk-label label {font-family: monospace;font-weight: bold;display: inline-block;line-height: 1.2em;}#sk-container-id-2 div.sk-label-container {text-align: center;}#sk-container-id-2 div.sk-container {/* jupyter's `normalize.less` sets `[hidden] { display: none; }` but bootstrap.min.css set `[hidden] { display: none !important; }` so we also need the `!important` here to be able to override the default hidden behavior on the sphinx rendered scikit-learn.org. See: https://github.com/scikit-learn/scikit-learn/issues/21755 */display: inline-block !important;position: relative;}#sk-container-id-2 div.sk-text-repr-fallback {display: none;}</style><div id=\"sk-container-id-2\" class=\"sk-top-container\"><div class=\"sk-text-repr-fallback\"><pre>Pipeline(steps=[(&#x27;columntransformer&#x27;,\n",
       "                 ColumnTransformer(transformers=[(&#x27;num&#x27;,\n",
       "                                                  Pipeline(steps=[(&#x27;imputer&#x27;,\n",
       "                                                                   SimpleImputer(strategy=&#x27;median&#x27;)),\n",
       "                                                                  (&#x27;scaler&#x27;,\n",
       "                                                                   StandardScaler()),\n",
       "                                                                  (&#x27;normal&#x27;,\n",
       "                                                                   QuantileTransformer(output_distribution=&#x27;normal&#x27;))]),\n",
       "                                                  Index([&#x27;lat&#x27;, &#x27;long&#x27;, &#x27;Construction year&#x27;, &#x27;minimum nights&#x27;,\n",
       "       &#x27;number of reviews&#x27;, &#x27;review rate number&#x27;,\n",
       "       &#x27;calculated host listings count&#x27;,...\n",
       "                                                  Pipeline(steps=[(&#x27;imputer&#x27;,\n",
       "                                                                   SimpleImputer(strategy=&#x27;most_frequent&#x27;)),\n",
       "                                                                  (&#x27;encoder&#x27;,\n",
       "                                                                   OneHotEncoder(handle_unknown=&#x27;ignore&#x27;))]),\n",
       "                                                  Index([&#x27;host_identity_verified&#x27;, &#x27;neighbourhood group&#x27;, &#x27;instant_bookable&#x27;,\n",
       "       &#x27;cancellation_policy&#x27;, &#x27;room type&#x27;],\n",
       "      dtype=&#x27;object&#x27;))])),\n",
       "                (&#x27;transformedtargetregressor&#x27;,\n",
       "                 TransformedTargetRegressor(regressor=Ridge(alpha=0.1,\n",
       "                                                            solver=&#x27;sag&#x27;),\n",
       "                                            transformer=StandardScaler()))])</pre><b>In a Jupyter environment, please rerun this cell to show the HTML representation or trust the notebook. <br />On GitHub, the HTML representation is unable to render, please try loading this page with nbviewer.org.</b></div><div class=\"sk-container\" hidden><div class=\"sk-item sk-dashed-wrapped\"><div class=\"sk-label-container\"><div class=\"sk-label sk-toggleable\"><input class=\"sk-toggleable__control sk-hidden--visually\" id=\"sk-estimator-id-15\" type=\"checkbox\" ><label for=\"sk-estimator-id-15\" class=\"sk-toggleable__label sk-toggleable__label-arrow\">Pipeline</label><div class=\"sk-toggleable__content\"><pre>Pipeline(steps=[(&#x27;columntransformer&#x27;,\n",
       "                 ColumnTransformer(transformers=[(&#x27;num&#x27;,\n",
       "                                                  Pipeline(steps=[(&#x27;imputer&#x27;,\n",
       "                                                                   SimpleImputer(strategy=&#x27;median&#x27;)),\n",
       "                                                                  (&#x27;scaler&#x27;,\n",
       "                                                                   StandardScaler()),\n",
       "                                                                  (&#x27;normal&#x27;,\n",
       "                                                                   QuantileTransformer(output_distribution=&#x27;normal&#x27;))]),\n",
       "                                                  Index([&#x27;lat&#x27;, &#x27;long&#x27;, &#x27;Construction year&#x27;, &#x27;minimum nights&#x27;,\n",
       "       &#x27;number of reviews&#x27;, &#x27;review rate number&#x27;,\n",
       "       &#x27;calculated host listings count&#x27;,...\n",
       "                                                  Pipeline(steps=[(&#x27;imputer&#x27;,\n",
       "                                                                   SimpleImputer(strategy=&#x27;most_frequent&#x27;)),\n",
       "                                                                  (&#x27;encoder&#x27;,\n",
       "                                                                   OneHotEncoder(handle_unknown=&#x27;ignore&#x27;))]),\n",
       "                                                  Index([&#x27;host_identity_verified&#x27;, &#x27;neighbourhood group&#x27;, &#x27;instant_bookable&#x27;,\n",
       "       &#x27;cancellation_policy&#x27;, &#x27;room type&#x27;],\n",
       "      dtype=&#x27;object&#x27;))])),\n",
       "                (&#x27;transformedtargetregressor&#x27;,\n",
       "                 TransformedTargetRegressor(regressor=Ridge(alpha=0.1,\n",
       "                                                            solver=&#x27;sag&#x27;),\n",
       "                                            transformer=StandardScaler()))])</pre></div></div></div><div class=\"sk-serial\"><div class=\"sk-item sk-dashed-wrapped\"><div class=\"sk-label-container\"><div class=\"sk-label sk-toggleable\"><input class=\"sk-toggleable__control sk-hidden--visually\" id=\"sk-estimator-id-16\" type=\"checkbox\" ><label for=\"sk-estimator-id-16\" class=\"sk-toggleable__label sk-toggleable__label-arrow\">columntransformer: ColumnTransformer</label><div class=\"sk-toggleable__content\"><pre>ColumnTransformer(transformers=[(&#x27;num&#x27;,\n",
       "                                 Pipeline(steps=[(&#x27;imputer&#x27;,\n",
       "                                                  SimpleImputer(strategy=&#x27;median&#x27;)),\n",
       "                                                 (&#x27;scaler&#x27;, StandardScaler()),\n",
       "                                                 (&#x27;normal&#x27;,\n",
       "                                                  QuantileTransformer(output_distribution=&#x27;normal&#x27;))]),\n",
       "                                 Index([&#x27;lat&#x27;, &#x27;long&#x27;, &#x27;Construction year&#x27;, &#x27;minimum nights&#x27;,\n",
       "       &#x27;number of reviews&#x27;, &#x27;review rate number&#x27;,\n",
       "       &#x27;calculated host listings count&#x27;, &#x27;availability 365&#x27;],\n",
       "      dtype=&#x27;object&#x27;)),\n",
       "                                (&#x27;cat&#x27;,\n",
       "                                 Pipeline(steps=[(&#x27;imputer&#x27;,\n",
       "                                                  SimpleImputer(strategy=&#x27;most_frequent&#x27;)),\n",
       "                                                 (&#x27;encoder&#x27;,\n",
       "                                                  OneHotEncoder(handle_unknown=&#x27;ignore&#x27;))]),\n",
       "                                 Index([&#x27;host_identity_verified&#x27;, &#x27;neighbourhood group&#x27;, &#x27;instant_bookable&#x27;,\n",
       "       &#x27;cancellation_policy&#x27;, &#x27;room type&#x27;],\n",
       "      dtype=&#x27;object&#x27;))])</pre></div></div></div><div class=\"sk-parallel\"><div class=\"sk-parallel-item\"><div class=\"sk-item\"><div class=\"sk-label-container\"><div class=\"sk-label sk-toggleable\"><input class=\"sk-toggleable__control sk-hidden--visually\" id=\"sk-estimator-id-17\" type=\"checkbox\" ><label for=\"sk-estimator-id-17\" class=\"sk-toggleable__label sk-toggleable__label-arrow\">num</label><div class=\"sk-toggleable__content\"><pre>Index([&#x27;lat&#x27;, &#x27;long&#x27;, &#x27;Construction year&#x27;, &#x27;minimum nights&#x27;,\n",
       "       &#x27;number of reviews&#x27;, &#x27;review rate number&#x27;,\n",
       "       &#x27;calculated host listings count&#x27;, &#x27;availability 365&#x27;],\n",
       "      dtype=&#x27;object&#x27;)</pre></div></div></div><div class=\"sk-serial\"><div class=\"sk-item\"><div class=\"sk-serial\"><div class=\"sk-item\"><div class=\"sk-estimator sk-toggleable\"><input class=\"sk-toggleable__control sk-hidden--visually\" id=\"sk-estimator-id-18\" type=\"checkbox\" ><label for=\"sk-estimator-id-18\" class=\"sk-toggleable__label sk-toggleable__label-arrow\">SimpleImputer</label><div class=\"sk-toggleable__content\"><pre>SimpleImputer(strategy=&#x27;median&#x27;)</pre></div></div></div><div class=\"sk-item\"><div class=\"sk-estimator sk-toggleable\"><input class=\"sk-toggleable__control sk-hidden--visually\" id=\"sk-estimator-id-19\" type=\"checkbox\" ><label for=\"sk-estimator-id-19\" class=\"sk-toggleable__label sk-toggleable__label-arrow\">StandardScaler</label><div class=\"sk-toggleable__content\"><pre>StandardScaler()</pre></div></div></div><div class=\"sk-item\"><div class=\"sk-estimator sk-toggleable\"><input class=\"sk-toggleable__control sk-hidden--visually\" id=\"sk-estimator-id-20\" type=\"checkbox\" ><label for=\"sk-estimator-id-20\" class=\"sk-toggleable__label sk-toggleable__label-arrow\">QuantileTransformer</label><div class=\"sk-toggleable__content\"><pre>QuantileTransformer(output_distribution=&#x27;normal&#x27;)</pre></div></div></div></div></div></div></div></div><div class=\"sk-parallel-item\"><div class=\"sk-item\"><div class=\"sk-label-container\"><div class=\"sk-label sk-toggleable\"><input class=\"sk-toggleable__control sk-hidden--visually\" id=\"sk-estimator-id-21\" type=\"checkbox\" ><label for=\"sk-estimator-id-21\" class=\"sk-toggleable__label sk-toggleable__label-arrow\">cat</label><div class=\"sk-toggleable__content\"><pre>Index([&#x27;host_identity_verified&#x27;, &#x27;neighbourhood group&#x27;, &#x27;instant_bookable&#x27;,\n",
       "       &#x27;cancellation_policy&#x27;, &#x27;room type&#x27;],\n",
       "      dtype=&#x27;object&#x27;)</pre></div></div></div><div class=\"sk-serial\"><div class=\"sk-item\"><div class=\"sk-serial\"><div class=\"sk-item\"><div class=\"sk-estimator sk-toggleable\"><input class=\"sk-toggleable__control sk-hidden--visually\" id=\"sk-estimator-id-22\" type=\"checkbox\" ><label for=\"sk-estimator-id-22\" class=\"sk-toggleable__label sk-toggleable__label-arrow\">SimpleImputer</label><div class=\"sk-toggleable__content\"><pre>SimpleImputer(strategy=&#x27;most_frequent&#x27;)</pre></div></div></div><div class=\"sk-item\"><div class=\"sk-estimator sk-toggleable\"><input class=\"sk-toggleable__control sk-hidden--visually\" id=\"sk-estimator-id-23\" type=\"checkbox\" ><label for=\"sk-estimator-id-23\" class=\"sk-toggleable__label sk-toggleable__label-arrow\">OneHotEncoder</label><div class=\"sk-toggleable__content\"><pre>OneHotEncoder(handle_unknown=&#x27;ignore&#x27;)</pre></div></div></div></div></div></div></div></div></div></div><div class=\"sk-item sk-dashed-wrapped\"><div class=\"sk-label-container\"><div class=\"sk-label sk-toggleable\"><input class=\"sk-toggleable__control sk-hidden--visually\" id=\"sk-estimator-id-24\" type=\"checkbox\" ><label for=\"sk-estimator-id-24\" class=\"sk-toggleable__label sk-toggleable__label-arrow\">transformedtargetregressor: TransformedTargetRegressor</label><div class=\"sk-toggleable__content\"><pre>TransformedTargetRegressor(regressor=Ridge(alpha=0.1, solver=&#x27;sag&#x27;),\n",
       "                           transformer=StandardScaler())</pre></div></div></div><div class=\"sk-parallel\"><div class=\"sk-parallel-item\"><div class=\"sk-item\"><div class=\"sk-label-container\"><div class=\"sk-label sk-toggleable\"><input class=\"sk-toggleable__control sk-hidden--visually\" id=\"sk-estimator-id-25\" type=\"checkbox\" ><label for=\"sk-estimator-id-25\" class=\"sk-toggleable__label sk-toggleable__label-arrow\">regressor: Ridge</label><div class=\"sk-toggleable__content\"><pre>Ridge(alpha=0.1, solver=&#x27;sag&#x27;)</pre></div></div></div><div class=\"sk-serial\"><div class=\"sk-item\"><div class=\"sk-estimator sk-toggleable\"><input class=\"sk-toggleable__control sk-hidden--visually\" id=\"sk-estimator-id-26\" type=\"checkbox\" ><label for=\"sk-estimator-id-26\" class=\"sk-toggleable__label sk-toggleable__label-arrow\">Ridge</label><div class=\"sk-toggleable__content\"><pre>Ridge(alpha=0.1, solver=&#x27;sag&#x27;)</pre></div></div></div></div></div></div><div class=\"sk-parallel-item\"><div class=\"sk-item\"><div class=\"sk-label-container\"><div class=\"sk-label sk-toggleable\"><input class=\"sk-toggleable__control sk-hidden--visually\" id=\"sk-estimator-id-27\" type=\"checkbox\" ><label for=\"sk-estimator-id-27\" class=\"sk-toggleable__label sk-toggleable__label-arrow\">transformer: StandardScaler</label><div class=\"sk-toggleable__content\"><pre>StandardScaler()</pre></div></div></div><div class=\"sk-serial\"><div class=\"sk-item\"><div class=\"sk-estimator sk-toggleable\"><input class=\"sk-toggleable__control sk-hidden--visually\" id=\"sk-estimator-id-28\" type=\"checkbox\" ><label for=\"sk-estimator-id-28\" class=\"sk-toggleable__label sk-toggleable__label-arrow\">StandardScaler</label><div class=\"sk-toggleable__content\"><pre>StandardScaler()</pre></div></div></div></div></div></div></div></div></div></div></div></div>"
      ],
      "text/plain": [
       "Pipeline(steps=[('columntransformer',\n",
       "                 ColumnTransformer(transformers=[('num',\n",
       "                                                  Pipeline(steps=[('imputer',\n",
       "                                                                   SimpleImputer(strategy='median')),\n",
       "                                                                  ('scaler',\n",
       "                                                                   StandardScaler()),\n",
       "                                                                  ('normal',\n",
       "                                                                   QuantileTransformer(output_distribution='normal'))]),\n",
       "                                                  Index(['lat', 'long', 'Construction year', 'minimum nights',\n",
       "       'number of reviews', 'review rate number',\n",
       "       'calculated host listings count',...\n",
       "                                                  Pipeline(steps=[('imputer',\n",
       "                                                                   SimpleImputer(strategy='most_frequent')),\n",
       "                                                                  ('encoder',\n",
       "                                                                   OneHotEncoder(handle_unknown='ignore'))]),\n",
       "                                                  Index(['host_identity_verified', 'neighbourhood group', 'instant_bookable',\n",
       "       'cancellation_policy', 'room type'],\n",
       "      dtype='object'))])),\n",
       "                ('transformedtargetregressor',\n",
       "                 TransformedTargetRegressor(regressor=Ridge(alpha=0.1,\n",
       "                                                            solver='sag'),\n",
       "                                            transformer=StandardScaler()))])"
      ]
     },
     "execution_count": 25,
     "metadata": {},
     "output_type": "execute_result"
    }
   ],
   "source": [
    "# Question 5 - 2)\n",
    "ridge_reg.fit(X,y)"
   ]
  },
  {
   "cell_type": "code",
   "execution_count": 26,
   "id": "03c3b9d8",
   "metadata": {},
   "outputs": [],
   "source": [
    "# Question 5 - 3)\n",
    "y_pred_ridge_reg = ridge_reg.predict(X)"
   ]
  },
  {
   "cell_type": "code",
   "execution_count": 27,
   "id": "f24b244d",
   "metadata": {},
   "outputs": [],
   "source": [
    "# Question 5 - 4)\n",
    "ridge_reg_rmse_train = mean_squared_error(y, y_pred_ridge_reg, squared=False)"
   ]
  },
  {
   "cell_type": "code",
   "execution_count": 28,
   "id": "753dc2d7",
   "metadata": {},
   "outputs": [],
   "source": [
    "# Question 5 - 5)\n",
    "y_pred_test_ridge_test = ridge_reg.predict(X_test)"
   ]
  },
  {
   "cell_type": "code",
   "execution_count": 29,
   "id": "d0b1bd3a",
   "metadata": {},
   "outputs": [],
   "source": [
    "# Question 5 - 6)\n",
    "ridge_reg_rmse_test = mean_squared_error(y_test, y_pred_test_ridge_test, squared=False)"
   ]
  },
  {
   "cell_type": "code",
   "execution_count": 30,
   "id": "0f7e5192",
   "metadata": {},
   "outputs": [
    {
     "name": "stdout",
     "output_type": "stream",
     "text": [
      "Training  397.80286555503164\n",
      "Testing   398.53362736877745\n"
     ]
    }
   ],
   "source": [
    "# Question 5 - 7)\n",
    "print(\"Training \", ridge_reg_rmse_train)\n",
    "print(\"Testing  \", ridge_reg_rmse_test)    "
   ]
  },
  {
   "cell_type": "code",
   "execution_count": 31,
   "id": "7a288fbf",
   "metadata": {},
   "outputs": [],
   "source": [
    "# Question 5 - 8)\n",
    "ridge_rmses_cv = -cross_val_score(ridge_reg, X, y, scoring=\"neg_root_mean_squared_error\", cv=3)\n",
    "ridge_rmses_cv_test = -cross_val_score(ridge_reg, X_test, y_test, scoring=\"neg_root_mean_squared_error\", cv=3)"
   ]
  },
  {
   "cell_type": "code",
   "execution_count": 32,
   "id": "488bce52",
   "metadata": {},
   "outputs": [
    {
     "name": "stdout",
     "output_type": "stream",
     "text": [
      "Ridge Regression - train data set MSE\n",
      "count      3.000000\n",
      "mean     397.953817\n",
      "std        0.520412\n",
      "min      397.500380\n",
      "25%      397.669706\n",
      "50%      397.839032\n",
      "75%      398.180535\n",
      "max      398.522039\n",
      "dtype: float64\n",
      "\n",
      "Ridge Regression - test data set MSE\n",
      "count      3.000000\n",
      "mean     398.919106\n",
      "std        1.975719\n",
      "min      396.645461\n",
      "25%      398.269502\n",
      "50%      399.893542\n",
      "75%      400.055929\n",
      "max      400.218315\n",
      "dtype: float64\n"
     ]
    }
   ],
   "source": [
    "# Question 5 - 9)\n",
    "print(\"Ridge Regression - train data set MSE\")\n",
    "print(pd.Series(ridge_rmses_cv).describe())\n",
    "print(\"\\nRidge Regression - test data set MSE\")\n",
    "print(pd.Series(ridge_rmses_cv_test).describe())"
   ]
  },
  {
   "cell_type": "code",
   "execution_count": 33,
   "id": "79c8c275",
   "metadata": {},
   "outputs": [
    {
     "name": "stdout",
     "output_type": "stream",
     "text": [
      "Training  397.80264069484\n",
      "Testing   398.53420288998655\n"
     ]
    }
   ],
   "source": [
    "ridge_reg = make_pipeline(preprocessor, TransformedTargetRegressor(Ridge(alpha=0.1, solver=\"sag\"), \n",
    "                                                                   transformer=StandardScaler()))\n",
    "ridge_reg.fit(X,y)\n",
    "\n",
    "y_pred_ridge_reg = ridge_reg.predict(X)\n",
    "ridge_rmse_train = mean_squared_error(y, y_pred_ridge_reg, squared=False)\n",
    "\n",
    "ridge_reg.predict(X_test)\n",
    "y_pred_test_ridge_test = ridge_reg.predict(X_test)\n",
    "ridge_reg_rmse_test = mean_squared_error(y_test, y_pred_test_ridge_test, squared=False)\n",
    "\n",
    "print(\"Training \", ridge_rmse_train)\n",
    "print(\"Testing  \", ridge_reg_rmse_test)    "
   ]
  },
  {
   "cell_type": "code",
   "execution_count": 34,
   "id": "2cb76ab6",
   "metadata": {},
   "outputs": [],
   "source": [
    "# Convolution K-Fold 10 fold\n",
    "ridge_rmses_cv = -cross_val_score(ridge_reg, X, y, scoring=\"neg_root_mean_squared_error\", cv=3)\n",
    "ridge_rmses_cv_test = -cross_val_score(ridge_reg, X_test, y_test, scoring=\"neg_root_mean_squared_error\", cv=3)"
   ]
  },
  {
   "cell_type": "code",
   "execution_count": 35,
   "id": "e0c95eca",
   "metadata": {},
   "outputs": [
    {
     "name": "stdout",
     "output_type": "stream",
     "text": [
      "Ridge Regression - train data set MSE\n",
      "count      3.000000\n",
      "mean     397.955322\n",
      "std        0.520578\n",
      "min      397.501387\n",
      "25%      397.671208\n",
      "50%      397.841030\n",
      "75%      398.182290\n",
      "max      398.523549\n",
      "dtype: float64\n",
      "\n",
      "Ridge Regression - test data set MSE\n",
      "count      3.000000\n",
      "mean     398.918744\n",
      "std        1.976443\n",
      "min      396.644186\n",
      "25%      398.269302\n",
      "50%      399.894417\n",
      "75%      400.056023\n",
      "max      400.217628\n",
      "dtype: float64\n"
     ]
    }
   ],
   "source": [
    "print(\"Ridge Regression - train data set MSE\")\n",
    "print(pd.Series(ridge_rmses_cv).describe())\n",
    "print(\"\\nRidge Regression - test data set MSE\")\n",
    "print(pd.Series(ridge_rmses_cv_test).describe())"
   ]
  },
  {
   "cell_type": "markdown",
   "id": "ecf8ca5c",
   "metadata": {},
   "source": [
    "The ridge regression model MSE is also 397.9 so it did not do any better in predicting the total_price.  The parameter for the Ridge regression model is alpha = 0.1.  Using this parameter, it did not predict Next, we will look at the Lasso Regression model."
   ]
  },
  {
   "cell_type": "markdown",
   "id": "df0e9e61",
   "metadata": {},
   "source": [
    "# Lasso Regression\n",
    "Another regression model is a lasso regression model.  This model also has a parameter alpha = 0.1. It removes some of the weights associated with the features used to predict the total_price target variable.\n",
    "\n",
    "```\n",
    "# Lasso Regression\n",
    "las_reg = make_pipeline(preprocessor, TransformedTargetRegressor(Lasso(alpha=0.1),\n",
    "                                       transformer=StandardScaler()))\n",
    "\n",
    "# fit the Lasso Regression model\n",
    "las_reg.fit(X,y)\n",
    "\n",
    "# predict the total_price for the features in the training data set\n",
    "y_pred_las = las_reg.predict(X)\n",
    "\n",
    "# find the mse for the lasso regression model for the training data set\n",
    "las_reg_rmse_train = mean_squared_error(y, y_pred_las, squared=False)\n",
    "\n",
    "# predict the total_price for the featuresin the test data set\n",
    "y_pred_test_las = las_reg.predict(X_test)\n",
    "\n",
    "# find the mse for the lasso regression model for testing data set\n",
    "las_reg_rmse_test = mean_squared_error(y_test, y_pred_test_las, squared=False)\n",
    "\n",
    "# print out the mse for the training and test data sets\n",
    "print(\"Training \", las_reg_rmse_train)\n",
    "print(\"Testing  \", las_reg_rmse_test)\n",
    "\n",
    "```\n",
    "# Question 6\n",
    "1. Create a pipeline for a lasso regression model assign it to a variable name lasso_reg.\n",
    "2. Fit the lasso_reg model with X and y.\n",
    "3. Predict the lasso_reg model using X assignment to the variable y_pred_lasso.\n",
    "4. Create the metric mean_squared_error for the lasso regression model and assign it to the variable lasso_reg_rmse.\n",
    "5. Predict the lasso_reg model using X_test assignment to the variable y_pred_test_lasso.\n",
    "6. Create the metric mean_squared_error for the lasso regression model and assign it to the variable lasso_reg_rmse_test.\n",
    "7. Print out the Training lasso_reg_rmse and Testing lasso_reg_rmse_test in one code cell with cv=10.\n",
    "8. Run the cross-validation for the training and test data set in one code cell.\n",
    "9. In one code cell print out the cross-valation results."
   ]
  },
  {
   "cell_type": "code",
   "execution_count": 36,
   "id": "509f46b9",
   "metadata": {},
   "outputs": [],
   "source": [
    "# Question 6 - 1)\n",
    "lasso_reg = make_pipeline(preprocessor, TransformedTargetRegressor(Lasso(alpha=0.1),\n",
    "                                       transformer=StandardScaler()))\n"
   ]
  },
  {
   "cell_type": "code",
   "execution_count": 37,
   "id": "1410f0cb",
   "metadata": {},
   "outputs": [
    {
     "data": {
      "text/html": [
       "<style>#sk-container-id-3 {color: black;background-color: white;}#sk-container-id-3 pre{padding: 0;}#sk-container-id-3 div.sk-toggleable {background-color: white;}#sk-container-id-3 label.sk-toggleable__label {cursor: pointer;display: block;width: 100%;margin-bottom: 0;padding: 0.3em;box-sizing: border-box;text-align: center;}#sk-container-id-3 label.sk-toggleable__label-arrow:before {content: \"▸\";float: left;margin-right: 0.25em;color: #696969;}#sk-container-id-3 label.sk-toggleable__label-arrow:hover:before {color: black;}#sk-container-id-3 div.sk-estimator:hover label.sk-toggleable__label-arrow:before {color: black;}#sk-container-id-3 div.sk-toggleable__content {max-height: 0;max-width: 0;overflow: hidden;text-align: left;background-color: #f0f8ff;}#sk-container-id-3 div.sk-toggleable__content pre {margin: 0.2em;color: black;border-radius: 0.25em;background-color: #f0f8ff;}#sk-container-id-3 input.sk-toggleable__control:checked~div.sk-toggleable__content {max-height: 200px;max-width: 100%;overflow: auto;}#sk-container-id-3 input.sk-toggleable__control:checked~label.sk-toggleable__label-arrow:before {content: \"▾\";}#sk-container-id-3 div.sk-estimator input.sk-toggleable__control:checked~label.sk-toggleable__label {background-color: #d4ebff;}#sk-container-id-3 div.sk-label input.sk-toggleable__control:checked~label.sk-toggleable__label {background-color: #d4ebff;}#sk-container-id-3 input.sk-hidden--visually {border: 0;clip: rect(1px 1px 1px 1px);clip: rect(1px, 1px, 1px, 1px);height: 1px;margin: -1px;overflow: hidden;padding: 0;position: absolute;width: 1px;}#sk-container-id-3 div.sk-estimator {font-family: monospace;background-color: #f0f8ff;border: 1px dotted black;border-radius: 0.25em;box-sizing: border-box;margin-bottom: 0.5em;}#sk-container-id-3 div.sk-estimator:hover {background-color: #d4ebff;}#sk-container-id-3 div.sk-parallel-item::after {content: \"\";width: 100%;border-bottom: 1px solid gray;flex-grow: 1;}#sk-container-id-3 div.sk-label:hover label.sk-toggleable__label {background-color: #d4ebff;}#sk-container-id-3 div.sk-serial::before {content: \"\";position: absolute;border-left: 1px solid gray;box-sizing: border-box;top: 0;bottom: 0;left: 50%;z-index: 0;}#sk-container-id-3 div.sk-serial {display: flex;flex-direction: column;align-items: center;background-color: white;padding-right: 0.2em;padding-left: 0.2em;position: relative;}#sk-container-id-3 div.sk-item {position: relative;z-index: 1;}#sk-container-id-3 div.sk-parallel {display: flex;align-items: stretch;justify-content: center;background-color: white;position: relative;}#sk-container-id-3 div.sk-item::before, #sk-container-id-3 div.sk-parallel-item::before {content: \"\";position: absolute;border-left: 1px solid gray;box-sizing: border-box;top: 0;bottom: 0;left: 50%;z-index: -1;}#sk-container-id-3 div.sk-parallel-item {display: flex;flex-direction: column;z-index: 1;position: relative;background-color: white;}#sk-container-id-3 div.sk-parallel-item:first-child::after {align-self: flex-end;width: 50%;}#sk-container-id-3 div.sk-parallel-item:last-child::after {align-self: flex-start;width: 50%;}#sk-container-id-3 div.sk-parallel-item:only-child::after {width: 0;}#sk-container-id-3 div.sk-dashed-wrapped {border: 1px dashed gray;margin: 0 0.4em 0.5em 0.4em;box-sizing: border-box;padding-bottom: 0.4em;background-color: white;}#sk-container-id-3 div.sk-label label {font-family: monospace;font-weight: bold;display: inline-block;line-height: 1.2em;}#sk-container-id-3 div.sk-label-container {text-align: center;}#sk-container-id-3 div.sk-container {/* jupyter's `normalize.less` sets `[hidden] { display: none; }` but bootstrap.min.css set `[hidden] { display: none !important; }` so we also need the `!important` here to be able to override the default hidden behavior on the sphinx rendered scikit-learn.org. See: https://github.com/scikit-learn/scikit-learn/issues/21755 */display: inline-block !important;position: relative;}#sk-container-id-3 div.sk-text-repr-fallback {display: none;}</style><div id=\"sk-container-id-3\" class=\"sk-top-container\"><div class=\"sk-text-repr-fallback\"><pre>Pipeline(steps=[(&#x27;columntransformer&#x27;,\n",
       "                 ColumnTransformer(transformers=[(&#x27;num&#x27;,\n",
       "                                                  Pipeline(steps=[(&#x27;imputer&#x27;,\n",
       "                                                                   SimpleImputer(strategy=&#x27;median&#x27;)),\n",
       "                                                                  (&#x27;scaler&#x27;,\n",
       "                                                                   StandardScaler()),\n",
       "                                                                  (&#x27;normal&#x27;,\n",
       "                                                                   QuantileTransformer(output_distribution=&#x27;normal&#x27;))]),\n",
       "                                                  Index([&#x27;lat&#x27;, &#x27;long&#x27;, &#x27;Construction year&#x27;, &#x27;minimum nights&#x27;,\n",
       "       &#x27;number of reviews&#x27;, &#x27;review rate number&#x27;,\n",
       "       &#x27;calculated host listings count&#x27;,...\n",
       "                                                  Pipeline(steps=[(&#x27;imputer&#x27;,\n",
       "                                                                   SimpleImputer(strategy=&#x27;most_frequent&#x27;)),\n",
       "                                                                  (&#x27;encoder&#x27;,\n",
       "                                                                   OneHotEncoder(handle_unknown=&#x27;ignore&#x27;))]),\n",
       "                                                  Index([&#x27;host_identity_verified&#x27;, &#x27;neighbourhood group&#x27;, &#x27;instant_bookable&#x27;,\n",
       "       &#x27;cancellation_policy&#x27;, &#x27;room type&#x27;],\n",
       "      dtype=&#x27;object&#x27;))])),\n",
       "                (&#x27;transformedtargetregressor&#x27;,\n",
       "                 TransformedTargetRegressor(regressor=Lasso(alpha=0.1),\n",
       "                                            transformer=StandardScaler()))])</pre><b>In a Jupyter environment, please rerun this cell to show the HTML representation or trust the notebook. <br />On GitHub, the HTML representation is unable to render, please try loading this page with nbviewer.org.</b></div><div class=\"sk-container\" hidden><div class=\"sk-item sk-dashed-wrapped\"><div class=\"sk-label-container\"><div class=\"sk-label sk-toggleable\"><input class=\"sk-toggleable__control sk-hidden--visually\" id=\"sk-estimator-id-29\" type=\"checkbox\" ><label for=\"sk-estimator-id-29\" class=\"sk-toggleable__label sk-toggleable__label-arrow\">Pipeline</label><div class=\"sk-toggleable__content\"><pre>Pipeline(steps=[(&#x27;columntransformer&#x27;,\n",
       "                 ColumnTransformer(transformers=[(&#x27;num&#x27;,\n",
       "                                                  Pipeline(steps=[(&#x27;imputer&#x27;,\n",
       "                                                                   SimpleImputer(strategy=&#x27;median&#x27;)),\n",
       "                                                                  (&#x27;scaler&#x27;,\n",
       "                                                                   StandardScaler()),\n",
       "                                                                  (&#x27;normal&#x27;,\n",
       "                                                                   QuantileTransformer(output_distribution=&#x27;normal&#x27;))]),\n",
       "                                                  Index([&#x27;lat&#x27;, &#x27;long&#x27;, &#x27;Construction year&#x27;, &#x27;minimum nights&#x27;,\n",
       "       &#x27;number of reviews&#x27;, &#x27;review rate number&#x27;,\n",
       "       &#x27;calculated host listings count&#x27;,...\n",
       "                                                  Pipeline(steps=[(&#x27;imputer&#x27;,\n",
       "                                                                   SimpleImputer(strategy=&#x27;most_frequent&#x27;)),\n",
       "                                                                  (&#x27;encoder&#x27;,\n",
       "                                                                   OneHotEncoder(handle_unknown=&#x27;ignore&#x27;))]),\n",
       "                                                  Index([&#x27;host_identity_verified&#x27;, &#x27;neighbourhood group&#x27;, &#x27;instant_bookable&#x27;,\n",
       "       &#x27;cancellation_policy&#x27;, &#x27;room type&#x27;],\n",
       "      dtype=&#x27;object&#x27;))])),\n",
       "                (&#x27;transformedtargetregressor&#x27;,\n",
       "                 TransformedTargetRegressor(regressor=Lasso(alpha=0.1),\n",
       "                                            transformer=StandardScaler()))])</pre></div></div></div><div class=\"sk-serial\"><div class=\"sk-item sk-dashed-wrapped\"><div class=\"sk-label-container\"><div class=\"sk-label sk-toggleable\"><input class=\"sk-toggleable__control sk-hidden--visually\" id=\"sk-estimator-id-30\" type=\"checkbox\" ><label for=\"sk-estimator-id-30\" class=\"sk-toggleable__label sk-toggleable__label-arrow\">columntransformer: ColumnTransformer</label><div class=\"sk-toggleable__content\"><pre>ColumnTransformer(transformers=[(&#x27;num&#x27;,\n",
       "                                 Pipeline(steps=[(&#x27;imputer&#x27;,\n",
       "                                                  SimpleImputer(strategy=&#x27;median&#x27;)),\n",
       "                                                 (&#x27;scaler&#x27;, StandardScaler()),\n",
       "                                                 (&#x27;normal&#x27;,\n",
       "                                                  QuantileTransformer(output_distribution=&#x27;normal&#x27;))]),\n",
       "                                 Index([&#x27;lat&#x27;, &#x27;long&#x27;, &#x27;Construction year&#x27;, &#x27;minimum nights&#x27;,\n",
       "       &#x27;number of reviews&#x27;, &#x27;review rate number&#x27;,\n",
       "       &#x27;calculated host listings count&#x27;, &#x27;availability 365&#x27;],\n",
       "      dtype=&#x27;object&#x27;)),\n",
       "                                (&#x27;cat&#x27;,\n",
       "                                 Pipeline(steps=[(&#x27;imputer&#x27;,\n",
       "                                                  SimpleImputer(strategy=&#x27;most_frequent&#x27;)),\n",
       "                                                 (&#x27;encoder&#x27;,\n",
       "                                                  OneHotEncoder(handle_unknown=&#x27;ignore&#x27;))]),\n",
       "                                 Index([&#x27;host_identity_verified&#x27;, &#x27;neighbourhood group&#x27;, &#x27;instant_bookable&#x27;,\n",
       "       &#x27;cancellation_policy&#x27;, &#x27;room type&#x27;],\n",
       "      dtype=&#x27;object&#x27;))])</pre></div></div></div><div class=\"sk-parallel\"><div class=\"sk-parallel-item\"><div class=\"sk-item\"><div class=\"sk-label-container\"><div class=\"sk-label sk-toggleable\"><input class=\"sk-toggleable__control sk-hidden--visually\" id=\"sk-estimator-id-31\" type=\"checkbox\" ><label for=\"sk-estimator-id-31\" class=\"sk-toggleable__label sk-toggleable__label-arrow\">num</label><div class=\"sk-toggleable__content\"><pre>Index([&#x27;lat&#x27;, &#x27;long&#x27;, &#x27;Construction year&#x27;, &#x27;minimum nights&#x27;,\n",
       "       &#x27;number of reviews&#x27;, &#x27;review rate number&#x27;,\n",
       "       &#x27;calculated host listings count&#x27;, &#x27;availability 365&#x27;],\n",
       "      dtype=&#x27;object&#x27;)</pre></div></div></div><div class=\"sk-serial\"><div class=\"sk-item\"><div class=\"sk-serial\"><div class=\"sk-item\"><div class=\"sk-estimator sk-toggleable\"><input class=\"sk-toggleable__control sk-hidden--visually\" id=\"sk-estimator-id-32\" type=\"checkbox\" ><label for=\"sk-estimator-id-32\" class=\"sk-toggleable__label sk-toggleable__label-arrow\">SimpleImputer</label><div class=\"sk-toggleable__content\"><pre>SimpleImputer(strategy=&#x27;median&#x27;)</pre></div></div></div><div class=\"sk-item\"><div class=\"sk-estimator sk-toggleable\"><input class=\"sk-toggleable__control sk-hidden--visually\" id=\"sk-estimator-id-33\" type=\"checkbox\" ><label for=\"sk-estimator-id-33\" class=\"sk-toggleable__label sk-toggleable__label-arrow\">StandardScaler</label><div class=\"sk-toggleable__content\"><pre>StandardScaler()</pre></div></div></div><div class=\"sk-item\"><div class=\"sk-estimator sk-toggleable\"><input class=\"sk-toggleable__control sk-hidden--visually\" id=\"sk-estimator-id-34\" type=\"checkbox\" ><label for=\"sk-estimator-id-34\" class=\"sk-toggleable__label sk-toggleable__label-arrow\">QuantileTransformer</label><div class=\"sk-toggleable__content\"><pre>QuantileTransformer(output_distribution=&#x27;normal&#x27;)</pre></div></div></div></div></div></div></div></div><div class=\"sk-parallel-item\"><div class=\"sk-item\"><div class=\"sk-label-container\"><div class=\"sk-label sk-toggleable\"><input class=\"sk-toggleable__control sk-hidden--visually\" id=\"sk-estimator-id-35\" type=\"checkbox\" ><label for=\"sk-estimator-id-35\" class=\"sk-toggleable__label sk-toggleable__label-arrow\">cat</label><div class=\"sk-toggleable__content\"><pre>Index([&#x27;host_identity_verified&#x27;, &#x27;neighbourhood group&#x27;, &#x27;instant_bookable&#x27;,\n",
       "       &#x27;cancellation_policy&#x27;, &#x27;room type&#x27;],\n",
       "      dtype=&#x27;object&#x27;)</pre></div></div></div><div class=\"sk-serial\"><div class=\"sk-item\"><div class=\"sk-serial\"><div class=\"sk-item\"><div class=\"sk-estimator sk-toggleable\"><input class=\"sk-toggleable__control sk-hidden--visually\" id=\"sk-estimator-id-36\" type=\"checkbox\" ><label for=\"sk-estimator-id-36\" class=\"sk-toggleable__label sk-toggleable__label-arrow\">SimpleImputer</label><div class=\"sk-toggleable__content\"><pre>SimpleImputer(strategy=&#x27;most_frequent&#x27;)</pre></div></div></div><div class=\"sk-item\"><div class=\"sk-estimator sk-toggleable\"><input class=\"sk-toggleable__control sk-hidden--visually\" id=\"sk-estimator-id-37\" type=\"checkbox\" ><label for=\"sk-estimator-id-37\" class=\"sk-toggleable__label sk-toggleable__label-arrow\">OneHotEncoder</label><div class=\"sk-toggleable__content\"><pre>OneHotEncoder(handle_unknown=&#x27;ignore&#x27;)</pre></div></div></div></div></div></div></div></div></div></div><div class=\"sk-item sk-dashed-wrapped\"><div class=\"sk-label-container\"><div class=\"sk-label sk-toggleable\"><input class=\"sk-toggleable__control sk-hidden--visually\" id=\"sk-estimator-id-38\" type=\"checkbox\" ><label for=\"sk-estimator-id-38\" class=\"sk-toggleable__label sk-toggleable__label-arrow\">transformedtargetregressor: TransformedTargetRegressor</label><div class=\"sk-toggleable__content\"><pre>TransformedTargetRegressor(regressor=Lasso(alpha=0.1),\n",
       "                           transformer=StandardScaler())</pre></div></div></div><div class=\"sk-parallel\"><div class=\"sk-parallel-item\"><div class=\"sk-item\"><div class=\"sk-label-container\"><div class=\"sk-label sk-toggleable\"><input class=\"sk-toggleable__control sk-hidden--visually\" id=\"sk-estimator-id-39\" type=\"checkbox\" ><label for=\"sk-estimator-id-39\" class=\"sk-toggleable__label sk-toggleable__label-arrow\">regressor: Lasso</label><div class=\"sk-toggleable__content\"><pre>Lasso(alpha=0.1)</pre></div></div></div><div class=\"sk-serial\"><div class=\"sk-item\"><div class=\"sk-estimator sk-toggleable\"><input class=\"sk-toggleable__control sk-hidden--visually\" id=\"sk-estimator-id-40\" type=\"checkbox\" ><label for=\"sk-estimator-id-40\" class=\"sk-toggleable__label sk-toggleable__label-arrow\">Lasso</label><div class=\"sk-toggleable__content\"><pre>Lasso(alpha=0.1)</pre></div></div></div></div></div></div><div class=\"sk-parallel-item\"><div class=\"sk-item\"><div class=\"sk-label-container\"><div class=\"sk-label sk-toggleable\"><input class=\"sk-toggleable__control sk-hidden--visually\" id=\"sk-estimator-id-41\" type=\"checkbox\" ><label for=\"sk-estimator-id-41\" class=\"sk-toggleable__label sk-toggleable__label-arrow\">transformer: StandardScaler</label><div class=\"sk-toggleable__content\"><pre>StandardScaler()</pre></div></div></div><div class=\"sk-serial\"><div class=\"sk-item\"><div class=\"sk-estimator sk-toggleable\"><input class=\"sk-toggleable__control sk-hidden--visually\" id=\"sk-estimator-id-42\" type=\"checkbox\" ><label for=\"sk-estimator-id-42\" class=\"sk-toggleable__label sk-toggleable__label-arrow\">StandardScaler</label><div class=\"sk-toggleable__content\"><pre>StandardScaler()</pre></div></div></div></div></div></div></div></div></div></div></div></div>"
      ],
      "text/plain": [
       "Pipeline(steps=[('columntransformer',\n",
       "                 ColumnTransformer(transformers=[('num',\n",
       "                                                  Pipeline(steps=[('imputer',\n",
       "                                                                   SimpleImputer(strategy='median')),\n",
       "                                                                  ('scaler',\n",
       "                                                                   StandardScaler()),\n",
       "                                                                  ('normal',\n",
       "                                                                   QuantileTransformer(output_distribution='normal'))]),\n",
       "                                                  Index(['lat', 'long', 'Construction year', 'minimum nights',\n",
       "       'number of reviews', 'review rate number',\n",
       "       'calculated host listings count',...\n",
       "                                                  Pipeline(steps=[('imputer',\n",
       "                                                                   SimpleImputer(strategy='most_frequent')),\n",
       "                                                                  ('encoder',\n",
       "                                                                   OneHotEncoder(handle_unknown='ignore'))]),\n",
       "                                                  Index(['host_identity_verified', 'neighbourhood group', 'instant_bookable',\n",
       "       'cancellation_policy', 'room type'],\n",
       "      dtype='object'))])),\n",
       "                ('transformedtargetregressor',\n",
       "                 TransformedTargetRegressor(regressor=Lasso(alpha=0.1),\n",
       "                                            transformer=StandardScaler()))])"
      ]
     },
     "execution_count": 37,
     "metadata": {},
     "output_type": "execute_result"
    }
   ],
   "source": [
    "# Question 6 - 2)\n",
    "lasso_reg.fit(X,y)"
   ]
  },
  {
   "cell_type": "code",
   "execution_count": 38,
   "id": "c16014bb",
   "metadata": {},
   "outputs": [],
   "source": [
    "# Question 6 - 3)\n",
    "y_pred_lasso = lasso_reg.predict(X)"
   ]
  },
  {
   "cell_type": "code",
   "execution_count": 39,
   "id": "d2c120af",
   "metadata": {},
   "outputs": [],
   "source": [
    "# Question 6 - 4)\n",
    "lasso_reg_rmse_train = mean_squared_error(y, y_pred_lasso, squared=False)"
   ]
  },
  {
   "cell_type": "code",
   "execution_count": 40,
   "id": "3eb7210b",
   "metadata": {},
   "outputs": [],
   "source": [
    "# Question 6 - 5)\n",
    "y_pred_test_lasso = lasso_reg.predict(X_test)\n"
   ]
  },
  {
   "cell_type": "code",
   "execution_count": 41,
   "id": "fd999038",
   "metadata": {},
   "outputs": [],
   "source": [
    "# Question 6 - 6)\n",
    "lasso_reg_rmse_test = mean_squared_error(y_test, y_pred_test_lasso, squared=False)"
   ]
  },
  {
   "cell_type": "code",
   "execution_count": 42,
   "id": "19e338dd",
   "metadata": {},
   "outputs": [
    {
     "name": "stdout",
     "output_type": "stream",
     "text": [
      "Training  397.84046581776283\n",
      "Testing   398.5535082869724\n"
     ]
    }
   ],
   "source": [
    "# Question 6 - 7)\n",
    "print(\"Training \", lasso_reg_rmse_train)\n",
    "print(\"Testing  \", lasso_reg_rmse_test)"
   ]
  },
  {
   "cell_type": "code",
   "execution_count": 43,
   "id": "93f972b4",
   "metadata": {},
   "outputs": [],
   "source": [
    "# Question 6 - 8)\n",
    "lasso_rmses_cv = -cross_val_score(lasso_reg, X, y, scoring=\"neg_root_mean_squared_error\", cv=3)\n",
    "lasso_rmses_cv_test = -cross_val_score(lasso_reg, X_test, y_test, scoring=\"neg_root_mean_squared_error\", cv=3)"
   ]
  },
  {
   "cell_type": "code",
   "execution_count": 44,
   "id": "ab0def8b",
   "metadata": {},
   "outputs": [
    {
     "name": "stdout",
     "output_type": "stream",
     "text": [
      "Lasso Regression - train data set MSE\n",
      "count      3.000000\n",
      "mean     397.850457\n",
      "std        0.462001\n",
      "min      397.459042\n",
      "25%      397.595648\n",
      "50%      397.732254\n",
      "75%      398.046165\n",
      "max      398.360077\n",
      "dtype: float64\n",
      "\n",
      "Lasso Regression - test data set MSE\n",
      "count      3.000000\n",
      "mean     398.540759\n",
      "std        2.285295\n",
      "min      395.925833\n",
      "25%      397.733572\n",
      "50%      399.541312\n",
      "75%      399.848222\n",
      "max      400.155132\n",
      "dtype: float64\n"
     ]
    }
   ],
   "source": [
    "# Question 6 - 9)\n",
    "print(\"Lasso Regression - train data set MSE\")\n",
    "print(pd.Series(lasso_rmses_cv).describe())\n",
    "print(\"\\nLasso Regression - test data set MSE\")\n",
    "print(pd.Series(lasso_rmses_cv_test).describe())"
   ]
  },
  {
   "cell_type": "code",
   "execution_count": 45,
   "id": "a07b000c",
   "metadata": {},
   "outputs": [
    {
     "name": "stdout",
     "output_type": "stream",
     "text": [
      "Training  397.84046581776283\n",
      "Testing   398.5337267606186\n"
     ]
    }
   ],
   "source": [
    "# Lasso Regression\n",
    "lasso_reg = make_pipeline(preprocessor, TransformedTargetRegressor(Lasso(alpha=0.1),\n",
    "                                       transformer=StandardScaler()))\n",
    "lasso_reg.fit(X,y)\n",
    "y_pred_lasso = lasso_reg.predict(X)\n",
    "\n",
    "lasso_reg_rmse_train = mean_squared_error(y, y_pred_lasso, squared=False)\n",
    "\n",
    "y_pred_test_lasso = lin_reg.predict(X_test)\n",
    "lasso_reg_rmse_test = mean_squared_error(y_test, y_pred_test_lasso, squared=False)\n",
    "\n",
    "print(\"Training \", lasso_reg_rmse_train)\n",
    "print(\"Testing  \", lasso_reg_rmse_test)"
   ]
  },
  {
   "cell_type": "code",
   "execution_count": 46,
   "id": "7c6e13b6",
   "metadata": {},
   "outputs": [],
   "source": [
    "# Convolution K-Fold 10 fold\n",
    "lasso_rmses_cv = -cross_val_score(lasso_reg, X, y, scoring=\"neg_root_mean_squared_error\", cv=3)\n",
    "lasso_rmses_cv_test = -cross_val_score(lasso_reg, X_test, y_test, scoring=\"neg_root_mean_squared_error\", cv=3)"
   ]
  },
  {
   "cell_type": "code",
   "execution_count": 47,
   "id": "e3db05b3",
   "metadata": {},
   "outputs": [
    {
     "name": "stdout",
     "output_type": "stream",
     "text": [
      "Lasso Regression - train data set MSE\n",
      "count      3.000000\n",
      "mean     397.850457\n",
      "std        0.462001\n",
      "min      397.459042\n",
      "25%      397.595648\n",
      "50%      397.732254\n",
      "75%      398.046165\n",
      "max      398.360077\n",
      "dtype: float64\n",
      "\n",
      "Lasso Regression - test data set MSE\n",
      "count      3.000000\n",
      "mean     398.540759\n",
      "std        2.285295\n",
      "min      395.925833\n",
      "25%      397.733572\n",
      "50%      399.541312\n",
      "75%      399.848222\n",
      "max      400.155132\n",
      "dtype: float64\n"
     ]
    }
   ],
   "source": [
    "print(\"Lasso Regression - train data set MSE\")\n",
    "print(pd.Series(lasso_rmses_cv).describe())\n",
    "print(\"\\nLasso Regression - test data set MSE\")\n",
    "print(pd.Series(lasso_rmses_cv_test).describe())"
   ]
  },
  {
   "cell_type": "markdown",
   "id": "a0704964",
   "metadata": {},
   "source": [
    "Again the MSE is 398.9 which means the Lasso Model is not better at predicting the total_price. There is the Elastic Net Regression model which is a weighted average between the Ridge and Lasso Regression model."
   ]
  },
  {
   "cell_type": "markdown",
   "id": "85b02154",
   "metadata": {},
   "source": [
    "# Elastic Net Regression\n",
    "The Elastic Net Regression is a weighted average of the Ridge Regression and the Lasso Regression. There are two parameters, alpha and l1_ratio weighted average for the lasso and ridge regression model.\n",
    "\n",
    "```\n",
    "# Elastic Net Regression\n",
    "en_reg = make_pipeline(preprocessor, TransformedTargetRegressor(ElasticNet(alpha=0.1, l1_ratio=0.5),\n",
    "                                       transformer=StandardScaler()))\n",
    "\n",
    "# Fit the Elastic Net Regression\n",
    "en_reg.fit(X,y)\n",
    "\n",
    "# Predict the target values for training data set\n",
    "y_pred_en = en_reg.predict(X)\n",
    "\n",
    "# Determine the MSE for the training data set\n",
    "en_reg_rmse_train = mean_squared_error(y, y_pred_en, squared=False)\n",
    "\n",
    "# Predict the test values for test data set\n",
    "y_pred_test_en = en_reg.predict(X_test)\n",
    "\n",
    "# Determine the MSE for the test data set\n",
    "en_reg_rmse_test = mean_squared_error(y_test, y_pred_test_en, squared=False)\n",
    "\n",
    "# Print out the MSE for the training and testing data set\n",
    "print(\"Training \", en_reg_rmse_train)\n",
    "print(\"Testing  \", en_reg_rmse_test)\n",
    "\n",
    "# Convolution K-Fold 10 fold\n",
    "en_rmses_cv = -cross_val_score(en_reg, X, y, scoring=\"neg_root_mean_squared_error\", cv=10)\n",
    "en_rmses_cv_test = -cross_val_score(en_reg, X_test, y_test, scoring=\"neg_root_mean_squared_error\", cv=10)\n",
    "\n",
    "# Print out the MSE using the cross validation k fold for the training and testing data set\n",
    "print(\"Elastic Regression - train data set MSE\")\n",
    "print(pd.Series(en_rmses_cv).describe())\n",
    "print(\"\\nElastic Regression - test data set MSE\")\n",
    "print(pd.Series(en_rmses_cv_test).describe())\n",
    "```\n",
    "\n",
    "# Question 7\n",
    "1. Create a pipeline for a Elastic Net regression model assign it to a variable name elastic_reg.\n",
    "2. Fit the elastic_reg model with X and y.\n",
    "3. Predict the elastic_reg model using X assignment to the variable y_pred_elastic.\n",
    "4. Create the metric mean_squared_error for the Elastic Net regression model and assign it to the variable elastic_reg_rmse.\n",
    "5. Predict the elastic_reg model using X_test assignment to the variable y_pred_test_elastic.\n",
    "6. Create the metric mean_squared_error for the Elastic Net regression model and assign it to the variable elastic_reg_rmse_test.\n",
    "7. Print out the Training elastic_reg_rmse and Testing elastic_reg_rmse_test in one code cell with cv=10.\n",
    "8. Run the cross-validation for the training and test data set in one code cell.\n",
    "9. In one code cell print out the cross-valation results."
   ]
  },
  {
   "cell_type": "code",
   "execution_count": 48,
   "id": "a102ad34",
   "metadata": {},
   "outputs": [],
   "source": [
    "# Question 7 - 1)\n",
    "elastic_reg = make_pipeline(preprocessor, TransformedTargetRegressor(ElasticNet(alpha=0.1, l1_ratio=0.5),\n",
    "                                       transformer=StandardScaler()))\n"
   ]
  },
  {
   "cell_type": "code",
   "execution_count": 49,
   "id": "3bbb3541",
   "metadata": {},
   "outputs": [
    {
     "data": {
      "text/html": [
       "<style>#sk-container-id-4 {color: black;background-color: white;}#sk-container-id-4 pre{padding: 0;}#sk-container-id-4 div.sk-toggleable {background-color: white;}#sk-container-id-4 label.sk-toggleable__label {cursor: pointer;display: block;width: 100%;margin-bottom: 0;padding: 0.3em;box-sizing: border-box;text-align: center;}#sk-container-id-4 label.sk-toggleable__label-arrow:before {content: \"▸\";float: left;margin-right: 0.25em;color: #696969;}#sk-container-id-4 label.sk-toggleable__label-arrow:hover:before {color: black;}#sk-container-id-4 div.sk-estimator:hover label.sk-toggleable__label-arrow:before {color: black;}#sk-container-id-4 div.sk-toggleable__content {max-height: 0;max-width: 0;overflow: hidden;text-align: left;background-color: #f0f8ff;}#sk-container-id-4 div.sk-toggleable__content pre {margin: 0.2em;color: black;border-radius: 0.25em;background-color: #f0f8ff;}#sk-container-id-4 input.sk-toggleable__control:checked~div.sk-toggleable__content {max-height: 200px;max-width: 100%;overflow: auto;}#sk-container-id-4 input.sk-toggleable__control:checked~label.sk-toggleable__label-arrow:before {content: \"▾\";}#sk-container-id-4 div.sk-estimator input.sk-toggleable__control:checked~label.sk-toggleable__label {background-color: #d4ebff;}#sk-container-id-4 div.sk-label input.sk-toggleable__control:checked~label.sk-toggleable__label {background-color: #d4ebff;}#sk-container-id-4 input.sk-hidden--visually {border: 0;clip: rect(1px 1px 1px 1px);clip: rect(1px, 1px, 1px, 1px);height: 1px;margin: -1px;overflow: hidden;padding: 0;position: absolute;width: 1px;}#sk-container-id-4 div.sk-estimator {font-family: monospace;background-color: #f0f8ff;border: 1px dotted black;border-radius: 0.25em;box-sizing: border-box;margin-bottom: 0.5em;}#sk-container-id-4 div.sk-estimator:hover {background-color: #d4ebff;}#sk-container-id-4 div.sk-parallel-item::after {content: \"\";width: 100%;border-bottom: 1px solid gray;flex-grow: 1;}#sk-container-id-4 div.sk-label:hover label.sk-toggleable__label {background-color: #d4ebff;}#sk-container-id-4 div.sk-serial::before {content: \"\";position: absolute;border-left: 1px solid gray;box-sizing: border-box;top: 0;bottom: 0;left: 50%;z-index: 0;}#sk-container-id-4 div.sk-serial {display: flex;flex-direction: column;align-items: center;background-color: white;padding-right: 0.2em;padding-left: 0.2em;position: relative;}#sk-container-id-4 div.sk-item {position: relative;z-index: 1;}#sk-container-id-4 div.sk-parallel {display: flex;align-items: stretch;justify-content: center;background-color: white;position: relative;}#sk-container-id-4 div.sk-item::before, #sk-container-id-4 div.sk-parallel-item::before {content: \"\";position: absolute;border-left: 1px solid gray;box-sizing: border-box;top: 0;bottom: 0;left: 50%;z-index: -1;}#sk-container-id-4 div.sk-parallel-item {display: flex;flex-direction: column;z-index: 1;position: relative;background-color: white;}#sk-container-id-4 div.sk-parallel-item:first-child::after {align-self: flex-end;width: 50%;}#sk-container-id-4 div.sk-parallel-item:last-child::after {align-self: flex-start;width: 50%;}#sk-container-id-4 div.sk-parallel-item:only-child::after {width: 0;}#sk-container-id-4 div.sk-dashed-wrapped {border: 1px dashed gray;margin: 0 0.4em 0.5em 0.4em;box-sizing: border-box;padding-bottom: 0.4em;background-color: white;}#sk-container-id-4 div.sk-label label {font-family: monospace;font-weight: bold;display: inline-block;line-height: 1.2em;}#sk-container-id-4 div.sk-label-container {text-align: center;}#sk-container-id-4 div.sk-container {/* jupyter's `normalize.less` sets `[hidden] { display: none; }` but bootstrap.min.css set `[hidden] { display: none !important; }` so we also need the `!important` here to be able to override the default hidden behavior on the sphinx rendered scikit-learn.org. See: https://github.com/scikit-learn/scikit-learn/issues/21755 */display: inline-block !important;position: relative;}#sk-container-id-4 div.sk-text-repr-fallback {display: none;}</style><div id=\"sk-container-id-4\" class=\"sk-top-container\"><div class=\"sk-text-repr-fallback\"><pre>Pipeline(steps=[(&#x27;columntransformer&#x27;,\n",
       "                 ColumnTransformer(transformers=[(&#x27;num&#x27;,\n",
       "                                                  Pipeline(steps=[(&#x27;imputer&#x27;,\n",
       "                                                                   SimpleImputer(strategy=&#x27;median&#x27;)),\n",
       "                                                                  (&#x27;scaler&#x27;,\n",
       "                                                                   StandardScaler()),\n",
       "                                                                  (&#x27;normal&#x27;,\n",
       "                                                                   QuantileTransformer(output_distribution=&#x27;normal&#x27;))]),\n",
       "                                                  Index([&#x27;lat&#x27;, &#x27;long&#x27;, &#x27;Construction year&#x27;, &#x27;minimum nights&#x27;,\n",
       "       &#x27;number of reviews&#x27;, &#x27;review rate number&#x27;,\n",
       "       &#x27;calculated host listings count&#x27;,...\n",
       "                                                  Pipeline(steps=[(&#x27;imputer&#x27;,\n",
       "                                                                   SimpleImputer(strategy=&#x27;most_frequent&#x27;)),\n",
       "                                                                  (&#x27;encoder&#x27;,\n",
       "                                                                   OneHotEncoder(handle_unknown=&#x27;ignore&#x27;))]),\n",
       "                                                  Index([&#x27;host_identity_verified&#x27;, &#x27;neighbourhood group&#x27;, &#x27;instant_bookable&#x27;,\n",
       "       &#x27;cancellation_policy&#x27;, &#x27;room type&#x27;],\n",
       "      dtype=&#x27;object&#x27;))])),\n",
       "                (&#x27;transformedtargetregressor&#x27;,\n",
       "                 TransformedTargetRegressor(regressor=ElasticNet(alpha=0.1),\n",
       "                                            transformer=StandardScaler()))])</pre><b>In a Jupyter environment, please rerun this cell to show the HTML representation or trust the notebook. <br />On GitHub, the HTML representation is unable to render, please try loading this page with nbviewer.org.</b></div><div class=\"sk-container\" hidden><div class=\"sk-item sk-dashed-wrapped\"><div class=\"sk-label-container\"><div class=\"sk-label sk-toggleable\"><input class=\"sk-toggleable__control sk-hidden--visually\" id=\"sk-estimator-id-43\" type=\"checkbox\" ><label for=\"sk-estimator-id-43\" class=\"sk-toggleable__label sk-toggleable__label-arrow\">Pipeline</label><div class=\"sk-toggleable__content\"><pre>Pipeline(steps=[(&#x27;columntransformer&#x27;,\n",
       "                 ColumnTransformer(transformers=[(&#x27;num&#x27;,\n",
       "                                                  Pipeline(steps=[(&#x27;imputer&#x27;,\n",
       "                                                                   SimpleImputer(strategy=&#x27;median&#x27;)),\n",
       "                                                                  (&#x27;scaler&#x27;,\n",
       "                                                                   StandardScaler()),\n",
       "                                                                  (&#x27;normal&#x27;,\n",
       "                                                                   QuantileTransformer(output_distribution=&#x27;normal&#x27;))]),\n",
       "                                                  Index([&#x27;lat&#x27;, &#x27;long&#x27;, &#x27;Construction year&#x27;, &#x27;minimum nights&#x27;,\n",
       "       &#x27;number of reviews&#x27;, &#x27;review rate number&#x27;,\n",
       "       &#x27;calculated host listings count&#x27;,...\n",
       "                                                  Pipeline(steps=[(&#x27;imputer&#x27;,\n",
       "                                                                   SimpleImputer(strategy=&#x27;most_frequent&#x27;)),\n",
       "                                                                  (&#x27;encoder&#x27;,\n",
       "                                                                   OneHotEncoder(handle_unknown=&#x27;ignore&#x27;))]),\n",
       "                                                  Index([&#x27;host_identity_verified&#x27;, &#x27;neighbourhood group&#x27;, &#x27;instant_bookable&#x27;,\n",
       "       &#x27;cancellation_policy&#x27;, &#x27;room type&#x27;],\n",
       "      dtype=&#x27;object&#x27;))])),\n",
       "                (&#x27;transformedtargetregressor&#x27;,\n",
       "                 TransformedTargetRegressor(regressor=ElasticNet(alpha=0.1),\n",
       "                                            transformer=StandardScaler()))])</pre></div></div></div><div class=\"sk-serial\"><div class=\"sk-item sk-dashed-wrapped\"><div class=\"sk-label-container\"><div class=\"sk-label sk-toggleable\"><input class=\"sk-toggleable__control sk-hidden--visually\" id=\"sk-estimator-id-44\" type=\"checkbox\" ><label for=\"sk-estimator-id-44\" class=\"sk-toggleable__label sk-toggleable__label-arrow\">columntransformer: ColumnTransformer</label><div class=\"sk-toggleable__content\"><pre>ColumnTransformer(transformers=[(&#x27;num&#x27;,\n",
       "                                 Pipeline(steps=[(&#x27;imputer&#x27;,\n",
       "                                                  SimpleImputer(strategy=&#x27;median&#x27;)),\n",
       "                                                 (&#x27;scaler&#x27;, StandardScaler()),\n",
       "                                                 (&#x27;normal&#x27;,\n",
       "                                                  QuantileTransformer(output_distribution=&#x27;normal&#x27;))]),\n",
       "                                 Index([&#x27;lat&#x27;, &#x27;long&#x27;, &#x27;Construction year&#x27;, &#x27;minimum nights&#x27;,\n",
       "       &#x27;number of reviews&#x27;, &#x27;review rate number&#x27;,\n",
       "       &#x27;calculated host listings count&#x27;, &#x27;availability 365&#x27;],\n",
       "      dtype=&#x27;object&#x27;)),\n",
       "                                (&#x27;cat&#x27;,\n",
       "                                 Pipeline(steps=[(&#x27;imputer&#x27;,\n",
       "                                                  SimpleImputer(strategy=&#x27;most_frequent&#x27;)),\n",
       "                                                 (&#x27;encoder&#x27;,\n",
       "                                                  OneHotEncoder(handle_unknown=&#x27;ignore&#x27;))]),\n",
       "                                 Index([&#x27;host_identity_verified&#x27;, &#x27;neighbourhood group&#x27;, &#x27;instant_bookable&#x27;,\n",
       "       &#x27;cancellation_policy&#x27;, &#x27;room type&#x27;],\n",
       "      dtype=&#x27;object&#x27;))])</pre></div></div></div><div class=\"sk-parallel\"><div class=\"sk-parallel-item\"><div class=\"sk-item\"><div class=\"sk-label-container\"><div class=\"sk-label sk-toggleable\"><input class=\"sk-toggleable__control sk-hidden--visually\" id=\"sk-estimator-id-45\" type=\"checkbox\" ><label for=\"sk-estimator-id-45\" class=\"sk-toggleable__label sk-toggleable__label-arrow\">num</label><div class=\"sk-toggleable__content\"><pre>Index([&#x27;lat&#x27;, &#x27;long&#x27;, &#x27;Construction year&#x27;, &#x27;minimum nights&#x27;,\n",
       "       &#x27;number of reviews&#x27;, &#x27;review rate number&#x27;,\n",
       "       &#x27;calculated host listings count&#x27;, &#x27;availability 365&#x27;],\n",
       "      dtype=&#x27;object&#x27;)</pre></div></div></div><div class=\"sk-serial\"><div class=\"sk-item\"><div class=\"sk-serial\"><div class=\"sk-item\"><div class=\"sk-estimator sk-toggleable\"><input class=\"sk-toggleable__control sk-hidden--visually\" id=\"sk-estimator-id-46\" type=\"checkbox\" ><label for=\"sk-estimator-id-46\" class=\"sk-toggleable__label sk-toggleable__label-arrow\">SimpleImputer</label><div class=\"sk-toggleable__content\"><pre>SimpleImputer(strategy=&#x27;median&#x27;)</pre></div></div></div><div class=\"sk-item\"><div class=\"sk-estimator sk-toggleable\"><input class=\"sk-toggleable__control sk-hidden--visually\" id=\"sk-estimator-id-47\" type=\"checkbox\" ><label for=\"sk-estimator-id-47\" class=\"sk-toggleable__label sk-toggleable__label-arrow\">StandardScaler</label><div class=\"sk-toggleable__content\"><pre>StandardScaler()</pre></div></div></div><div class=\"sk-item\"><div class=\"sk-estimator sk-toggleable\"><input class=\"sk-toggleable__control sk-hidden--visually\" id=\"sk-estimator-id-48\" type=\"checkbox\" ><label for=\"sk-estimator-id-48\" class=\"sk-toggleable__label sk-toggleable__label-arrow\">QuantileTransformer</label><div class=\"sk-toggleable__content\"><pre>QuantileTransformer(output_distribution=&#x27;normal&#x27;)</pre></div></div></div></div></div></div></div></div><div class=\"sk-parallel-item\"><div class=\"sk-item\"><div class=\"sk-label-container\"><div class=\"sk-label sk-toggleable\"><input class=\"sk-toggleable__control sk-hidden--visually\" id=\"sk-estimator-id-49\" type=\"checkbox\" ><label for=\"sk-estimator-id-49\" class=\"sk-toggleable__label sk-toggleable__label-arrow\">cat</label><div class=\"sk-toggleable__content\"><pre>Index([&#x27;host_identity_verified&#x27;, &#x27;neighbourhood group&#x27;, &#x27;instant_bookable&#x27;,\n",
       "       &#x27;cancellation_policy&#x27;, &#x27;room type&#x27;],\n",
       "      dtype=&#x27;object&#x27;)</pre></div></div></div><div class=\"sk-serial\"><div class=\"sk-item\"><div class=\"sk-serial\"><div class=\"sk-item\"><div class=\"sk-estimator sk-toggleable\"><input class=\"sk-toggleable__control sk-hidden--visually\" id=\"sk-estimator-id-50\" type=\"checkbox\" ><label for=\"sk-estimator-id-50\" class=\"sk-toggleable__label sk-toggleable__label-arrow\">SimpleImputer</label><div class=\"sk-toggleable__content\"><pre>SimpleImputer(strategy=&#x27;most_frequent&#x27;)</pre></div></div></div><div class=\"sk-item\"><div class=\"sk-estimator sk-toggleable\"><input class=\"sk-toggleable__control sk-hidden--visually\" id=\"sk-estimator-id-51\" type=\"checkbox\" ><label for=\"sk-estimator-id-51\" class=\"sk-toggleable__label sk-toggleable__label-arrow\">OneHotEncoder</label><div class=\"sk-toggleable__content\"><pre>OneHotEncoder(handle_unknown=&#x27;ignore&#x27;)</pre></div></div></div></div></div></div></div></div></div></div><div class=\"sk-item sk-dashed-wrapped\"><div class=\"sk-label-container\"><div class=\"sk-label sk-toggleable\"><input class=\"sk-toggleable__control sk-hidden--visually\" id=\"sk-estimator-id-52\" type=\"checkbox\" ><label for=\"sk-estimator-id-52\" class=\"sk-toggleable__label sk-toggleable__label-arrow\">transformedtargetregressor: TransformedTargetRegressor</label><div class=\"sk-toggleable__content\"><pre>TransformedTargetRegressor(regressor=ElasticNet(alpha=0.1),\n",
       "                           transformer=StandardScaler())</pre></div></div></div><div class=\"sk-parallel\"><div class=\"sk-parallel-item\"><div class=\"sk-item\"><div class=\"sk-label-container\"><div class=\"sk-label sk-toggleable\"><input class=\"sk-toggleable__control sk-hidden--visually\" id=\"sk-estimator-id-53\" type=\"checkbox\" ><label for=\"sk-estimator-id-53\" class=\"sk-toggleable__label sk-toggleable__label-arrow\">regressor: ElasticNet</label><div class=\"sk-toggleable__content\"><pre>ElasticNet(alpha=0.1)</pre></div></div></div><div class=\"sk-serial\"><div class=\"sk-item\"><div class=\"sk-estimator sk-toggleable\"><input class=\"sk-toggleable__control sk-hidden--visually\" id=\"sk-estimator-id-54\" type=\"checkbox\" ><label for=\"sk-estimator-id-54\" class=\"sk-toggleable__label sk-toggleable__label-arrow\">ElasticNet</label><div class=\"sk-toggleable__content\"><pre>ElasticNet(alpha=0.1)</pre></div></div></div></div></div></div><div class=\"sk-parallel-item\"><div class=\"sk-item\"><div class=\"sk-label-container\"><div class=\"sk-label sk-toggleable\"><input class=\"sk-toggleable__control sk-hidden--visually\" id=\"sk-estimator-id-55\" type=\"checkbox\" ><label for=\"sk-estimator-id-55\" class=\"sk-toggleable__label sk-toggleable__label-arrow\">transformer: StandardScaler</label><div class=\"sk-toggleable__content\"><pre>StandardScaler()</pre></div></div></div><div class=\"sk-serial\"><div class=\"sk-item\"><div class=\"sk-estimator sk-toggleable\"><input class=\"sk-toggleable__control sk-hidden--visually\" id=\"sk-estimator-id-56\" type=\"checkbox\" ><label for=\"sk-estimator-id-56\" class=\"sk-toggleable__label sk-toggleable__label-arrow\">StandardScaler</label><div class=\"sk-toggleable__content\"><pre>StandardScaler()</pre></div></div></div></div></div></div></div></div></div></div></div></div>"
      ],
      "text/plain": [
       "Pipeline(steps=[('columntransformer',\n",
       "                 ColumnTransformer(transformers=[('num',\n",
       "                                                  Pipeline(steps=[('imputer',\n",
       "                                                                   SimpleImputer(strategy='median')),\n",
       "                                                                  ('scaler',\n",
       "                                                                   StandardScaler()),\n",
       "                                                                  ('normal',\n",
       "                                                                   QuantileTransformer(output_distribution='normal'))]),\n",
       "                                                  Index(['lat', 'long', 'Construction year', 'minimum nights',\n",
       "       'number of reviews', 'review rate number',\n",
       "       'calculated host listings count',...\n",
       "                                                  Pipeline(steps=[('imputer',\n",
       "                                                                   SimpleImputer(strategy='most_frequent')),\n",
       "                                                                  ('encoder',\n",
       "                                                                   OneHotEncoder(handle_unknown='ignore'))]),\n",
       "                                                  Index(['host_identity_verified', 'neighbourhood group', 'instant_bookable',\n",
       "       'cancellation_policy', 'room type'],\n",
       "      dtype='object'))])),\n",
       "                ('transformedtargetregressor',\n",
       "                 TransformedTargetRegressor(regressor=ElasticNet(alpha=0.1),\n",
       "                                            transformer=StandardScaler()))])"
      ]
     },
     "execution_count": 49,
     "metadata": {},
     "output_type": "execute_result"
    }
   ],
   "source": [
    "# Question 7 - 2)\n",
    "elastic_reg.fit(X,y)"
   ]
  },
  {
   "cell_type": "code",
   "execution_count": 50,
   "id": "5d257860",
   "metadata": {},
   "outputs": [],
   "source": [
    "# Question 7 - 3)\n",
    "y_pred_elastic = elastic_reg.predict(X)"
   ]
  },
  {
   "cell_type": "code",
   "execution_count": 51,
   "id": "ceec0b9a",
   "metadata": {},
   "outputs": [],
   "source": [
    "# Question 7 - 4)\n",
    "elastic_reg_rmse_train = mean_squared_error(y, y_pred_elastic, squared=False)"
   ]
  },
  {
   "cell_type": "code",
   "execution_count": 52,
   "id": "e95bb3d3",
   "metadata": {},
   "outputs": [],
   "source": [
    "# Question 7 - 5)\n",
    "y_pred_test_elastic = elastic_reg.predict(X_test)"
   ]
  },
  {
   "cell_type": "code",
   "execution_count": 53,
   "id": "3c435371",
   "metadata": {},
   "outputs": [],
   "source": [
    "# Question 7 - 6)\n",
    "elastic_reg_rmse_test = mean_squared_error(y_test, y_pred_test_elastic, squared=False)"
   ]
  },
  {
   "cell_type": "code",
   "execution_count": 54,
   "id": "cde96aca",
   "metadata": {},
   "outputs": [
    {
     "name": "stdout",
     "output_type": "stream",
     "text": [
      "Training  397.84046581776283\n",
      "Testing   398.5535082869724\n"
     ]
    }
   ],
   "source": [
    "# Question 7 - 7)\n",
    "print(\"Training \", elastic_reg_rmse_train)\n",
    "print(\"Testing  \", elastic_reg_rmse_test)"
   ]
  },
  {
   "cell_type": "code",
   "execution_count": 55,
   "id": "ddbd8ab3",
   "metadata": {},
   "outputs": [],
   "source": [
    "# Question 7 - 8)\n",
    "elastic_rmses_cv = -cross_val_score(elastic_reg, X, y, scoring=\"neg_root_mean_squared_error\", cv=3)\n",
    "elastic_rmses_cv_test = -cross_val_score(elastic_reg, X_test, y_test, scoring=\"neg_root_mean_squared_error\", cv=3)"
   ]
  },
  {
   "cell_type": "code",
   "execution_count": 56,
   "id": "496242f1",
   "metadata": {},
   "outputs": [
    {
     "name": "stdout",
     "output_type": "stream",
     "text": [
      "Elastic Regression - train data set MSE\n",
      "count      3.000000\n",
      "mean     397.850457\n",
      "std        0.462001\n",
      "min      397.459042\n",
      "25%      397.595648\n",
      "50%      397.732254\n",
      "75%      398.046165\n",
      "max      398.360077\n",
      "dtype: float64\n",
      "\n",
      "Elastic Regression - test data set MSE\n",
      "count      3.000000\n",
      "mean     398.536057\n",
      "std        2.282220\n",
      "min      395.925833\n",
      "25%      397.726520\n",
      "50%      399.527208\n",
      "75%      399.841170\n",
      "max      400.155132\n",
      "dtype: float64\n"
     ]
    }
   ],
   "source": [
    "# Question 7 - 9)\n",
    "print(\"Elastic Regression - train data set MSE\")\n",
    "print(pd.Series(elastic_rmses_cv).describe())\n",
    "print(\"\\nElastic Regression - test data set MSE\")\n",
    "print(pd.Series(elastic_rmses_cv_test).describe())"
   ]
  },
  {
   "cell_type": "markdown",
   "id": "9dffb407",
   "metadata": {},
   "source": [
    "The MSE is 398.9 for the Elastic Net Regression is pretty much the same. When other models do not work, you can run the Random Forest Regressor model. "
   ]
  },
  {
   "cell_type": "markdown",
   "id": "b058a981",
   "metadata": {},
   "source": [
    "# Random Forest\n",
    "When other model fail to work, you can run the random forest model to see if it is any better at predicting the total_price.\n",
    "\n",
    "```\n",
    "# Random Forest Regression\n",
    "fr_reg = make_pipeline(preprocessor, TransformedTargetRegressor(RandomForestRegressor(random_state=420),  \n",
    "                                                                    transformer=StandardScaler()))\n",
    "\n",
    "# Fit the Random Forest Regression Model\n",
    "fr_reg.fit(X,y)\n",
    "\n",
    "# Predict the total_price using the training data set\n",
    "y_pred_fr = fr_reg.predict(X)\n",
    "\n",
    "# MSE for Random Forest for the training data set\n",
    "fr_reg_rmse_train = mean_squared_error(y, y_pred_fr, squared=False)\n",
    "\n",
    "# Predict the Random Forest for test data set\n",
    "y_pred_test_fr = fr_reg.predict(X_test)\n",
    "\n",
    "# MSE for Random Forest for test data set\n",
    "fr_reg_rmse_test = mean_squared_error(y_test, y_pred_test_fr, squared=False)\n",
    "\n",
    "# print out MSE for Random Forest for training and test data set\n",
    "print(\"Training \", fr_reg_rmse_train)\n",
    "print(\"Testing  \", fr_reg_rmse_test)\n",
    "\n",
    "\n",
    "# Convolution K-Fold 10 fold for cross-validation\n",
    "fr_rmses_cv = -cross_val_score(fr_reg, X, y, scoring=\"neg_root_mean_squared_error\", cv=10)\n",
    "fr_rmses_cv_test = -cross_val_score(fr_reg, X_test, y_test, scoring=\"neg_root_mean_squared_error\", cv=10)\n",
    "\n",
    "# Print Random Forest cross validation MSE results for training and test data set\n",
    "print(\"Random Forest Regression - train data set MSE\")\n",
    "print(pd.Series(fr_rmses_cv).describe())\n",
    "print(\"\\nRandom Forest Regression - test data set MSE\")\n",
    "print(pd.Series(fr_rmses_cv_test).describe())\n",
    "```\n",
    "\n",
    "# Question 8\n",
    "1. Create a pipeline for a Random Forest regression model assign it to a variable name forest_reg.\n",
    "2. Fit the forest_reg model with X and y.\n",
    "3. Predict the forest_reg model using X assignment to the variable y_pred_forest.\n",
    "4. Create the metric mean_squared_error for the Random Forest regression model and assign it to the variable forest_reg_rmse.\n",
    "5. Predict the forest_reg model using X_test assignment to the variable y_pred_test_forest.\n",
    "6. Create the metric mean_squared_error for the Random Forest regression model and assign it to the variable forest_reg_rmse_test.\n",
    "7. Print out the Training forest_reg_rmse and Testing forest_reg_rmse_test in one code cell with cv=10.\n",
    "8. Run the cross-validation for the training and test data set in one code cell.\n",
    "9. In one code cell print out the cross-valation results."
   ]
  },
  {
   "cell_type": "code",
   "execution_count": 57,
   "id": "dfabaa6a",
   "metadata": {},
   "outputs": [],
   "source": [
    "# Question 8 - 1)\n",
    "forest_reg = make_pipeline(preprocessor, TransformedTargetRegressor(RandomForestRegressor(random_state=420),  \n",
    "                                                                    transformer=StandardScaler()))"
   ]
  },
  {
   "cell_type": "code",
   "execution_count": null,
   "id": "61240cdb",
   "metadata": {},
   "outputs": [],
   "source": [
    "# Question 8 - 2)\n",
    "forest_reg.fit(X,y)"
   ]
  },
  {
   "cell_type": "code",
   "execution_count": null,
   "id": "82c5c98f",
   "metadata": {},
   "outputs": [],
   "source": [
    "# Question 8 - 3)\n",
    "y_pred_forest = forest_reg.predict(X)"
   ]
  },
  {
   "cell_type": "code",
   "execution_count": null,
   "id": "3f1bcf54",
   "metadata": {},
   "outputs": [],
   "source": [
    "# Question 8 - 4)\n",
    "forest_reg_rmse_train = mean_squared_error(y, y_pred_forest, squared=False)\n"
   ]
  },
  {
   "cell_type": "code",
   "execution_count": null,
   "id": "62ad072e",
   "metadata": {},
   "outputs": [],
   "source": [
    "# Question 8 - 5)\n",
    "y_pred_test_forest = forest_reg.predict(X_test)\n"
   ]
  },
  {
   "cell_type": "code",
   "execution_count": null,
   "id": "1cd3bb06",
   "metadata": {},
   "outputs": [],
   "source": [
    "# Question 8 - 6)\n",
    "forest_reg_rmse_test = mean_squared_error(y_test, y_pred_test_forest, squared=False)\n"
   ]
  },
  {
   "cell_type": "code",
   "execution_count": null,
   "id": "797797fd",
   "metadata": {},
   "outputs": [],
   "source": [
    "# Question 8 - 7)\n",
    "print(\"Training \", forest_reg_rmse_train)\n",
    "print(\"Testing  \", forest_reg_rmse_test)"
   ]
  },
  {
   "cell_type": "code",
   "execution_count": null,
   "id": "c7688b4d",
   "metadata": {},
   "outputs": [],
   "source": [
    "# Question 8 - 8)\n",
    "forest_rmses_cv = -cross_val_score(forest_reg, X, y, scoring=\"neg_root_mean_squared_error\", cv=3)\n",
    "forest_rmses_cv_test = -cross_val_score(forest_reg, X_test, y_test, scoring=\"neg_root_mean_squared_error\", cv=3)"
   ]
  },
  {
   "cell_type": "code",
   "execution_count": null,
   "id": "bba7f3ad",
   "metadata": {},
   "outputs": [],
   "source": [
    "# Question 8 - 9)\n",
    "print(\"Random Forest Regression - train data set MSE\")\n",
    "print(pd.Series(forest_rmses_cv).describe())\n",
    "print(\"\\nRandom Forest Regression - test data set MSE\")\n",
    "print(pd.Series(forest_rmses_cv_test).describe())"
   ]
  }
 ],
 "metadata": {
  "kernelspec": {
   "display_name": "Python 3 (ipykernel)",
   "language": "python",
   "name": "python3"
  },
  "language_info": {
   "codemirror_mode": {
    "name": "ipython",
    "version": 3
   },
   "file_extension": ".py",
   "mimetype": "text/x-python",
   "name": "python",
   "nbconvert_exporter": "python",
   "pygments_lexer": "ipython3",
   "version": "3.10.11"
  }
 },
 "nbformat": 4,
 "nbformat_minor": 5
}
